{
 "cells": [
  {
   "cell_type": "markdown",
   "metadata": {},
   "source": [
    "# Calculating the Area under a Curve\n",
    "In this notebook we will create our own functions and calculate to draw rectangles under a graph, to then calculate the area. "
   ]
  },
  {
   "cell_type": "markdown",
   "metadata": {},
   "source": [
    "## Table of Contents\n",
    "1. A lookback at Geometry and Algebra\n",
    "2. Create your function\n",
    "3. How many rectangles?\n",
    "4. Draw them \n",
    "5. Let's keep playing!\n",
    "6. Let's Calculate the Area\n",
    "7. What is the actual answer?"
   ]
  },
  {
   "cell_type": "markdown",
   "metadata": {},
   "source": [
    "#### Importing some important libraries and functions\n",
    "Run the cells below\n"
   ]
  },
  {
   "cell_type": "code",
   "execution_count": 28,
   "metadata": {},
   "outputs": [],
   "source": [
    "# RUN THIS CELL\n",
    "import numpy as np\n",
    "import matplotlib.pyplot as plt\n",
    "from matplotlib.patches import Polygon"
   ]
  },
  {
   "cell_type": "markdown",
   "metadata": {},
   "source": [
    "We have created the function below to have you see the representation of rectangles drawn under a graph. Run the cell below so that we can use it."
   ]
  },
  {
   "cell_type": "code",
   "execution_count": 29,
   "metadata": {},
   "outputs": [],
   "source": [
    "# RUN THIS CELL\n",
    "def plot_all(func, x,y,X,Y,N):\n",
    "    \n",
    "    # establishing the figure size for each plot\n",
    "    plt.figure(figsize=(15,5))\n",
    "\n",
    "    plt.subplot(1,3,1)\n",
    "    plt.plot(X,Y,'b')\n",
    "    x_left = x[:-1] # Left endpoints\n",
    "    y_left = y[:-1]\n",
    "    plt.plot(x_left,y_left,'b.',markersize=10)\n",
    "    plt.bar(x_left,y_left,width=(b-a)/N,alpha=0.2,align='edge',edgecolor='b')\n",
    "    plt.title('Left Riemann Sum, N = {}'.format(N))\n",
    "\n",
    "    plt.subplot(1,3,2)\n",
    "    plt.plot(X,Y,'b')\n",
    "    x_mid = (x[:-1] + x[1:])/2 # Midpoints\n",
    "    y_mid = func(x_mid)\n",
    "    plt.plot(x_mid,y_mid,'b.',markersize=10)\n",
    "    plt.bar(x_mid,y_mid,width=(b-a)/N,alpha=0.2,edgecolor='b')\n",
    "    plt.title('Midpoint Riemann Sum, N = {}'.format(N))\n",
    "\n",
    "    plt.subplot(1,3,3)\n",
    "    plt.plot(X,Y,'b')\n",
    "    x_right = x[1:] # Left endpoints\n",
    "    y_right = y[1:]\n",
    "    plt.plot(x_right,y_right,'b.',markersize=10)\n",
    "    plt.bar(x_right,y_right,width=-(b-a)/N,alpha=0.2,align='edge',edgecolor='b')\n",
    "    plt.title('Right Riemann Sum, N = {}'.format(N))\n",
    "    \n",
    "    plt.show()\n",
    "    \n",
    "    return x_left, y_left, x_mid, y_mid, x_right, y_right;"
   ]
  },
  {
   "cell_type": "code",
   "execution_count": 4,
   "metadata": {},
   "outputs": [],
   "source": [
    "# RUN THIS CELL\n",
    "\n",
    "def new_values(f, N):\n",
    "    a = 0; b= 5;\n",
    "    n = 10\n",
    "    \n",
    "    x = np.linspace(a,b,N+1)\n",
    "    y = f(x)\n",
    "\n",
    "    X = np.linspace(a,b,n*N+1)\n",
    "    Y = f(X)\n",
    "    \n",
    "    return x,y,X,Y"
   ]
  },
  {
   "cell_type": "code",
   "execution_count": 30,
   "metadata": {},
   "outputs": [],
   "source": [
    "# RUN THIS CELL -- DOES THIS FUNCTION SEEM FAMILIAR? ;)\n",
    "\n",
    "def exp_function(func, xlim_1=-10, xlim_2=10, ylim_1=-10, ylim_2=10, color='r'):\n",
    "    \n",
    "    '''\n",
    "    Function to graph exponents.\n",
    "    \n",
    "    Inputs\n",
    "    -------\n",
    "        func:   lambda function previously defined.\n",
    "                \n",
    "        xlim_1: [OPTIONAL]\n",
    "                Min x-limit to be plotted and seen in plot.\n",
    "                Default is set to -10.\n",
    "                \n",
    "        xlim_2: [OPTIONAL]\n",
    "                Max x-limit to be plotted and seen in plot.\n",
    "                Default is set to 10.\n",
    "        \n",
    "        ylim_1: [OPTIONAL]\n",
    "                Min y-limit to be plotted and seen in plot\n",
    "                Default is set to -10.\n",
    "                \n",
    "        ylim_2: [OPTIONAL]\n",
    "                Max y-limit to be plotted and seen in plot\n",
    "                Default is set to 10.\n",
    "                \n",
    "        color:  [OPTIONAL]\n",
    "                plot line color, default is 'r' (red)\n",
    "                this is a keyword argument and can be\n",
    "                changed.\n",
    "    \n",
    "    Outputs\n",
    "    -------\n",
    "        No value returned but only the displayed plot.\n",
    "    '''\n",
    "    \n",
    "    # set of x points in graph from xlim_1 and xlim_2 (100)\n",
    "    x = np.linspace(xlim_1, xlim_2, 100)\n",
    "    # function inputted by student\n",
    "    y = func(x)\n",
    "    \n",
    "    # setting up x and y limits\n",
    "    plt.xlim(xlim_1, xlim_2)\n",
    "    plt.ylim(ylim_1, ylim_2)\n",
    "    \n",
    "    # setting up title\n",
    "    plt.title('f(x)')\n",
    "    \n",
    "    # actual plot based on x and y\n",
    "    plt.plot(x, y, color=color)\n",
    "    \n",
    "    # plotting x and y axis to orient students right at the middle \n",
    "    # 0's are for x=0 and y=0 (vlines, hlines respectively)\n",
    "    plt.hlines(0, xlim_1, xlim_2, color='black')\n",
    "    plt.show()\n",
    "    \n",
    "    return"
   ]
  },
  {
   "cell_type": "markdown",
   "metadata": {},
   "source": [
    "# 1. A lookback at Geometry and Algebra\n",
    "We want to approximate the area under the curve $f(x) = 4^x$ for the region $3 <= x <= 6$ using 4 left-hand endpoint rectangles."
   ]
  },
  {
   "cell_type": "markdown",
   "metadata": {},
   "source": [
    "a) Let's plot the curve to see how this looks like."
   ]
  },
  {
   "cell_type": "markdown",
   "metadata": {},
   "source": [
    "### Question 1.1\n",
    " Define your function in the cell below"
   ]
  },
  {
   "cell_type": "code",
   "execution_count": 6,
   "metadata": {},
   "outputs": [],
   "source": [
    "function_1 = lambda x: 4 ** x# YOUR FUNCTION HERE"
   ]
  },
  {
   "cell_type": "markdown",
   "metadata": {},
   "source": [
    "Remember the function we created to plot exponents in the `Functions` notebook? Let's use it again!\n",
    "If you want to change the keyword arguments feel free to do so by looking at the code of the function above."
   ]
  },
  {
   "cell_type": "code",
   "execution_count": 9,
   "metadata": {
    "scrolled": true
   },
   "outputs": [
    {
     "data": {
      "image/png": "[encoded data removed]",
      "text/plain": [
       "<Figure size 432x288 with 1 Axes>"
      ]
     },
     "metadata": {
      "needs_background": "light"
     },
     "output_type": "display_data"
    }
   ],
   "source": [
    "exp_function(function_1) # YOUR FUNCTION HERE"
   ]
  },
  {
   "cell_type": "markdown",
   "metadata": {},
   "source": [
    "### Question 1.2\n",
    "We want to draw **4** rectangles under the curve between the x-values 3 and 6. Thus, we must fit 4 rectangles of some *width* between the values $3$ and $6$.\n",
    "To calculate the width of these recatangles we can use:\n",
    "\n",
    "$$width = \\frac{b-a}{n}$$\n",
    "\n",
    "where $b$ is the greatest value in our interval (6) and $a$ is the lowest. $n$ is the number of rectangles we wish to have."
   ]
  },
  {
   "cell_type": "markdown",
   "metadata": {},
   "source": [
    "Calculate the width in the cell below."
   ]
  },
  {
   "cell_type": "code",
   "execution_count": null,
   "metadata": {},
   "outputs": [],
   "source": [
    "# CALCULATE YOUR WIDTH HERE"
   ]
  },
  {
   "cell_type": "markdown",
   "metadata": {},
   "source": [
    "### Let's draw the rectangles under the curve\n",
    "- We define the boundaries $[a,b]$ and number of rectangles $N$.\n",
    "- Then we give Python a set of x-values (`x1`) to calculate the y-values (`y1`) "
   ]
  },
  {
   "cell_type": "code",
   "execution_count": 22,
   "metadata": {},
   "outputs": [],
   "source": [
    "# boundary setting\n",
    "a = 3; b= 6\n",
    "N = 4"
   ]
  },
  {
   "cell_type": "code",
   "execution_count": 23,
   "metadata": {},
   "outputs": [],
   "source": [
    "# x, y values setting\n",
    "x1 = np.linspace(a,b,N+1)\n",
    "y1 = function_1(x1)\n",
    "\n",
    "X1 = np.linspace(a,b,10*N+1)\n",
    "Y1 = function_1(X1)"
   ]
  },
  {
   "cell_type": "code",
   "execution_count": 21,
   "metadata": {
    "scrolled": false
   },
   "outputs": [
    {
     "data": {
      "image/png": "[encoded data removed]",
      "text/plain": [
       "<Figure size 1080x360 with 3 Axes>"
      ]
     },
     "metadata": {
      "needs_background": "light"
     },
     "output_type": "display_data"
    }
   ],
   "source": [
    "plot_all(function_1,x1,y1,X1,Y1,N);"
   ]
  },
  {
   "cell_type": "markdown",
   "metadata": {},
   "source": [
    "Here we display how the rectangles look like for the Right, Left and Middle endpoints when N=4 (number of rectangles)."
   ]
  },
  {
   "cell_type": "markdown",
   "metadata": {},
   "source": [
    "### Question 1.3: What do we need to calculate the area of a recangle?\n",
    "Recall from your earlier math courses that in order to calculate the area of a rectangle we use the formula $A = b \\times h$. \n",
    "\n",
    "Now, to **approximate the area under the curve** $f(x) = 4^x$, we must add the areas of all of the left-endpoint rectangles you see above. Thus, we must calculate the area of each of them, and then add them.\n",
    "\n",
    "We already have the width of each rectangle. This was obtained in question 1.2, where you calculated the width.\n",
    "In this question, we will calculate the heights.\n",
    "\n",
    "Recall that to get the heights (or y-values) at the left-end-points, we must use the x-values, since this is a function of x. \n",
    "\n",
    "**Hint:** But we have done that before!! Use the array we defined above `x1` to find the y-values of the function $f(x) = 4^x$."
   ]
  },
  {
   "cell_type": "code",
   "execution_count": 26,
   "metadata": {},
   "outputs": [
    {
     "data": {
      "text/plain": [
       "array([  64.        ,  181.01933598,  512.        , 1448.15468787,\n",
       "       4096.        ])"
      ]
     },
     "execution_count": 26,
     "metadata": {},
     "output_type": "execute_result"
    }
   ],
   "source": [
    "# recall x1 is an array \n",
    "heights = function_1() # What goes inside of the parenthesis--look at the cells above for the answer"
   ]
  },
  {
   "cell_type": "code",
   "execution_count": 27,
   "metadata": {},
   "outputs": [
    {
     "data": {
      "text/plain": [
       "array([3.  , 3.75, 4.5 , 5.25, 6.  ])"
      ]
     },
     "execution_count": 27,
     "metadata": {},
     "output_type": "execute_result"
    }
   ],
   "source": [
    "x1"
   ]
  },
  {
   "cell_type": "markdown",
   "metadata": {},
   "source": [
    "### Question 1.4: Calculating Areas\n",
    "The area of the curve we want to calculate can be expressed as $$A(4^x, 3\\leq x\\leq6)$$\n",
    "\n",
    "And from the question above, we have found that the left-end-points are actually:\n",
    "$$(3, 4^3), \\: (3.75, 4^{3.75}),\\ldots, (6, 4^6)$$\n",
    "\n",
    "Thus, so far we know:\n",
    "- The base of each rectangle (or width) is $0.75$\n",
    "- And the heights are the values of your $f(x)$ (`function_1`) where $x$ is $3\\leq x\\leq6$.\n",
    "\n",
    "In other words...\n",
    "$$A(4^x, 3\\leq x\\leq6) = 0.75*f(x)$$\n",
    "$$3\\leq x\\leq6$$\n",
    "\n",
    "* Write in the markdown cell below the arithmetic expression to calculate the area of each of the rectangles under the curve."
   ]
  },
  {
   "cell_type": "markdown",
   "metadata": {},
   "source": [
    "YOUR ANSWER HERE"
   ]
  },
  {
   "cell_type": "markdown",
   "metadata": {},
   "source": [
    "### Question 1.5: Can we write the total area under the curve as a series?\n",
    "You might be noticing now that there is a common factor being used to calculate the areas (the base) $0.75$.\n",
    "In this question, we want to write the sigma notation for calculating the **approximate** area under the curve $f(x)=4^x$.\n",
    "\n",
    "Thus, we can express the (approximated) total area under the curve as:\n",
    "\n",
    "$$A(4^x, 3\\leq x\\leq6) = \\sum\\limits_{k \\: \\in \\: [0,3]}{} 0.75 \\times 4^{?}$$\n",
    "\n",
    "We are missing the appropriate exponent to be able to fully write the total area as a series. We've given you a good place to start.\n",
    "\n",
    "- Your task is to find out what the power should be for the area to be appropriately calculated with this series. In other words, what is the correct algebraic expression to obtain the added rectangle areas when $k \\in [0,3]$?"
   ]
  },
  {
   "cell_type": "markdown",
   "metadata": {},
   "source": [
    " YOUR ANSWER HERE"
   ]
  },
  {
   "cell_type": "markdown",
   "metadata": {},
   "source": [
    "### Question 1.6: What is the approximated total area under the curve?\n",
    "We've now expressed two different ways in which you can obtain the area. Write the total area in the cell below."
   ]
  },
  {
   "cell_type": "markdown",
   "metadata": {},
   "source": [
    "YOUR ANSWERE HERE"
   ]
  },
  {
   "cell_type": "markdown",
   "metadata": {},
   "source": [
    "# 2. Write your function: A smoother way to Calculate Areas\n",
    "It is important that you are conscious about how you write your function in the code cell below."
   ]
  },
  {
   "cell_type": "markdown",
   "metadata": {},
   "source": [
    "Recall how to represent powers in Python, and make sure you use parenthesis to determine what is divided by what.\n",
    "Try to avoid rational functions as these may not scale when you display.\n",
    "\n",
    "For example, the function $y = \\frac{1}{1 + x^2}$ is written in Python as `y = 1/(1 + x**2)`"
   ]
  },
  {
   "cell_type": "markdown",
   "metadata": {},
   "source": [
    "1.1 Write your function next the variable denoted as `f`."
   ]
  },
  {
   "cell_type": "code",
   "execution_count": 14,
   "metadata": {},
   "outputs": [],
   "source": [
    "f = lambda x: x**2 # YOUR FUNCTION HERE"
   ]
  },
  {
   "cell_type": "markdown",
   "metadata": {},
   "source": [
    "Now we will establish the x,y boundaries for the plots."
   ]
  },
  {
   "cell_type": "code",
   "execution_count": 15,
   "metadata": {},
   "outputs": [],
   "source": [
    "# RUN THIS CELL, do not change.\n",
    "a = 0; b= 5;\n",
    "n = 10"
   ]
  },
  {
   "cell_type": "markdown",
   "metadata": {},
   "source": [
    "# 3. Select the number of Rectangles to draw under your graph."
   ]
  },
  {
   "cell_type": "code",
   "execution_count": 16,
   "metadata": {},
   "outputs": [],
   "source": [
    "N = 20; # in this case you have selected 20, you can change this particular value at anytime"
   ]
  },
  {
   "cell_type": "markdown",
   "metadata": {},
   "source": [
    "Here were are generating the list of values to plot. Please do not change the cell below."
   ]
  },
  {
   "cell_type": "code",
   "execution_count": 17,
   "metadata": {
    "scrolled": true
   },
   "outputs": [],
   "source": [
    "# RUN THIS CELL, do not change.\n",
    "x = np.linspace(a,b,N+1)\n",
    "y = f(x)\n",
    "\n",
    "X = np.linspace(a,b,n*N+1)\n",
    "Y = f(X)"
   ]
  },
  {
   "cell_type": "markdown",
   "metadata": {},
   "source": [
    "# 4. Let's draw them"
   ]
  },
  {
   "cell_type": "code",
   "execution_count": 19,
   "metadata": {},
   "outputs": [
    {
     "data": {
      "image/png": "[encoded data removed]",
      "text/plain": [
       "<Figure size 1080x360 with 3 Axes>"
      ]
     },
     "metadata": {
      "needs_background": "light"
     },
     "output_type": "display_data"
    }
   ],
   "source": [
    "# RUN THIS CELL\n",
    "x_l,y_l,x_m,y_m,x_r,y_r = plot_all(x,y,X,Y,N)"
   ]
  },
  {
   "cell_type": "markdown",
   "metadata": {},
   "source": [
    "# 5. Let's keep Playing!"
   ]
  },
  {
   "cell_type": "code",
   "execution_count": 9,
   "metadata": {},
   "outputs": [],
   "source": [
    "# new function\n",
    "f = lambda x: 1/(1+x**2)# YOUR NEW FUNCTION HERE\n",
    "N = 10# HOW MANY RECTANGLES?"
   ]
  },
  {
   "cell_type": "code",
   "execution_count": 10,
   "metadata": {
    "scrolled": true
   },
   "outputs": [],
   "source": [
    "# RUN THIS CELL TO CALCULATE VALUES BASED ON YOUR CHOICES ABOVE\n",
    "x,y,X,Y = new_values(f, N)"
   ]
  },
  {
   "cell_type": "code",
   "execution_count": 20,
   "metadata": {},
   "outputs": [
    {
     "data": {
      "image/png": "[encoded data removed]",
      "text/plain": [
       "<Figure size 1080x360 with 3 Axes>"
      ]
     },
     "metadata": {
      "needs_background": "light"
     },
     "output_type": "display_data"
    }
   ],
   "source": [
    "# RUN THIS CELL, don't change anything\n",
    "x_l,y_l,x_m,y_m,x_r,y_r = plot_all(x,y,X,Y,N)"
   ]
  },
  {
   "cell_type": "markdown",
   "metadata": {},
   "source": [
    "# 6. Let's Calculate the Area\n",
    "The variables that you have seen above save the heights (y-values) and base points for each of the rectangles drawn.\n",
    "\n",
    "1. `x_l` = x-values for the start of the rectangle's left points\n",
    "2. `y_r` = y-value for the left points\n",
    "3. `x_m` = x-values for the start of the rectangle's mid points\n",
    "4. `y_m` = y-values for mid points\n",
    "5. `x_r` = x-values for the start of the rectangle's right points\n",
    "6. `y_r` = y-values for right points"
   ]
  },
  {
   "cell_type": "markdown",
   "metadata": {},
   "source": [
    "Each of these is represented as a vector.\n",
    "To calculate the (approximate) area under a the curves we need to calculate the area of each of the rectangles and sum all of these areas. "
   ]
  },
  {
   "cell_type": "markdown",
   "metadata": {},
   "source": [
    "To calculate the area of the rectangle we need to find the width of each of the drawn rectangles. Run the cell below to obtain lists of these calculated values."
   ]
  },
  {
   "cell_type": "code",
   "execution_count": 50,
   "metadata": {
    "scrolled": true
   },
   "outputs": [
    {
     "data": {
      "text/plain": [
       "[1, 2, 2]"
      ]
     },
     "execution_count": 50,
     "metadata": {},
     "output_type": "execute_result"
    }
   ],
   "source": [
    "a = [1,2]\n"
   ]
  },
  {
   "cell_type": "code",
   "execution_count": 51,
   "metadata": {},
   "outputs": [],
   "source": [
    "x_l_width = [j-i for i, j in zip(x_l[:-1], x_l[1:])]\n",
    "x_l_width = np.asarray(x_l_width + [x_l_width[-1]])\n",
    "\n",
    "x_m_width = [j-i for i, j in zip(x_m[:-1], x_m[1:])]\n",
    "x_m_width = np.asarray(x_m_width + [x_m_width[-1]])\n",
    "\n",
    "x_r_width = [j-i for i, j in zip(x_r[:-1], x_r[1:])]\n",
    "x_r_width = np.asarray(x_r_width + [x_r_width[-1]])"
   ]
  },
  {
   "cell_type": "markdown",
   "metadata": {},
   "source": [
    "1. What do you think it is the equivalent vector operation of this?\n",
    "\n",
    "    1. If each of the values in the vector `x_m` denote a list of \"bases\" for each rectangle drawn\n",
    "    2. And each of the values in the vector `y_m` denote a list of the \"heights\" for each rectangle drawn\n",
    "\n",
    "2. What would you need to do with these lists/vectors to calculate the total rea?"
   ]
  },
  {
   "cell_type": "code",
   "execution_count": 52,
   "metadata": {
    "scrolled": true
   },
   "outputs": [
    {
     "data": {
      "text/plain": [
       "array([0.25, 0.25, 0.25, 0.25, 0.25, 0.25, 0.25, 0.25, 0.25, 0.25, 0.25,\n",
       "       0.25, 0.25, 0.25, 0.25, 0.25, 0.25, 0.25, 0.25, 0.25])"
      ]
     },
     "execution_count": 52,
     "metadata": {},
     "output_type": "execute_result"
    }
   ],
   "source": [
    "# this is an example of how the vector of widths looks like\n",
    "x_m_width"
   ]
  },
  {
   "cell_type": "markdown",
   "metadata": {},
   "source": [
    "This means that each of the 20 rectangles has the same width of `0.25`."
   ]
  },
  {
   "cell_type": "code",
   "execution_count": 58,
   "metadata": {},
   "outputs": [
    {
     "data": {
      "text/plain": [
       "21"
      ]
     },
     "execution_count": 58,
     "metadata": {},
     "output_type": "execute_result"
    }
   ],
   "source": [
    "# this is the vector that denotes the value of f(x"
   ]
  },
  {
   "cell_type": "markdown",
   "metadata": {},
   "source": [
    "**Hints**:\n",
    "1. np.dot(), what does the dot product do mathematically?\n",
    "2. np.sum()? \n",
    "3. np.add()?"
   ]
  },
  {
   "cell_type": "markdown",
   "metadata": {},
   "source": [
    "A. Area under curve for midpoint"
   ]
  },
  {
   "cell_type": "code",
   "execution_count": 56,
   "metadata": {},
   "outputs": [
    {
     "data": {
      "text/plain": [
       "array([1.5625000e-02, 1.4062500e-01, 3.9062500e-01, 7.6562500e-01,\n",
       "       1.2656250e+00, 1.8906250e+00, 2.6406250e+00, 3.5156250e+00,\n",
       "       4.5156250e+00, 5.6406250e+00, 6.8906250e+00, 8.2656250e+00,\n",
       "       9.7656250e+00, 1.1390625e+01, 1.3140625e+01, 1.5015625e+01,\n",
       "       1.7015625e+01, 1.9140625e+01, 2.1390625e+01, 2.3765625e+01])"
      ]
     },
     "execution_count": 56,
     "metadata": {},
     "output_type": "execute_result"
    }
   ],
   "source": [
    "y_m"
   ]
  },
  {
   "cell_type": "code",
   "execution_count": 55,
   "metadata": {
    "scrolled": false
   },
   "outputs": [
    {
     "data": {
      "text/plain": [
       "41.640625"
      ]
     },
     "execution_count": 55,
     "metadata": {},
     "output_type": "execute_result"
    }
   ],
   "source": [
    "np.dot(x_m_width, y_m)"
   ]
  },
  {
   "cell_type": "markdown",
   "metadata": {},
   "source": [
    "B. Area under curve for left-end point"
   ]
  },
  {
   "cell_type": "code",
   "execution_count": 26,
   "metadata": {},
   "outputs": [
    {
     "data": {
      "text/plain": [
       "564.0625"
      ]
     },
     "execution_count": 26,
     "metadata": {},
     "output_type": "execute_result"
    }
   ],
   "source": [
    "np.dot(x_l, y_l)"
   ]
  },
  {
   "cell_type": "markdown",
   "metadata": {},
   "source": [
    "C. Area under curve for right-end point."
   ]
  },
  {
   "cell_type": "code",
   "execution_count": 27,
   "metadata": {},
   "outputs": [
    {
     "data": {
      "text/plain": [
       "689.0625"
      ]
     },
     "execution_count": 27,
     "metadata": {},
     "output_type": "execute_result"
    }
   ],
   "source": [
    "np.dot(x_r, y_r)"
   ]
  },
  {
   "cell_type": "markdown",
   "metadata": {},
   "source": [
    "# 7. What is the actual answer?\n",
    "Python has an actual function in the library for scientific purposes `scipy` to calculate the area under a graph. Let's find out!\n",
    "\n",
    "Recall that f is $y = \\frac{1}{1+x**2}$ and the values of `x` go from `0` to `5`."
   ]
  },
  {
   "cell_type": "code",
   "execution_count": 65,
   "metadata": {
    "scrolled": false
   },
   "outputs": [],
   "source": [
    "import scipy.integrate as integrate\n",
    "result,err = integrate.quad(f, 0, 5)"
   ]
  },
  {
   "cell_type": "code",
   "execution_count": 66,
   "metadata": {},
   "outputs": [
    {
     "name": "stdout",
     "output_type": "stream",
     "text": [
      "The actual area under the function f is:  41.66666666666666 units.\n"
     ]
    }
   ],
   "source": [
    "print('The actual area under the function f is: ', result, \"units.\")"
   ]
  },
  {
   "cell_type": "code",
   "execution_count": null,
   "metadata": {},
   "outputs": [],
   "source": []
  }
 ],
 "metadata": {
  "kernelspec": {
   "display_name": "Python 3",
   "language": "python",
   "name": "python3"
  },
  "language_info": {
   "codemirror_mode": {
    "name": "ipython",
    "version": 3
   },
   "file_extension": ".py",
   "mimetype": "text/x-python",
   "name": "python",
   "nbconvert_exporter": "python",
   "pygments_lexer": "ipython3",
   "version": "3.7.3"
  }
 },
 "nbformat": 4,
 "nbformat_minor": 2
}
