{
 "cells": [
  {
   "cell_type": "markdown",
   "id": "c892fcce",
   "metadata": {},
   "source": [
    "### Should we cover?\n",
    "- Domain\n",
    "- Range\n",
    "- Increasing/Decreasing intervals:\n",
    "- x-intercept\n",
    "- y-intercept\n",
    "- even, odd, neither\n",
    "- continuous/discontinuous\n",
    "- asymptotes\n",
    "- end behavior"
   ]
  },
  {
   "cell_type": "code",
   "execution_count": null,
   "id": "53d92997",
   "metadata": {},
   "outputs": [],
   "source": [
    "# RUN THIS CELL\n",
    "import numpy as np\n",
    "import matplotlib.pyplot as plt"
   ]
  },
  {
   "cell_type": "markdown",
   "id": "c07faeaf",
   "metadata": {},
   "source": [
    "# Before you start."
   ]
  },
  {
   "cell_type": "markdown",
   "id": "631617b3",
   "metadata": {},
   "source": [
    "### x-values and y-values\n",
    "- `np.linspace` will establish the range of x-values to utilize for each of the plots used below.\n",
    "- `dom_#` will denote the domain of function.\n",
    "- `y_#` will define the function we use below. \n",
    "- `range_#` will denote the range of the function plotted."
   ]
  },
  {
   "cell_type": "markdown",
   "id": "121ffd3e",
   "metadata": {},
   "source": [
    "#  Functions: Domain and Range\n",
    "\n",
    "As you saw in class, there are various families of functions. \n",
    "\n",
    "In this notebbook we will go over key take aways from each of these functions. We will also be plotting and defining:\n",
    "\n",
    "- Domain and Range\n",
    "- Increasing/Decreasing \n",
    "- Asymptotic Behavior\n",
    "- Root identification\n",
    "\n",
    "<img src=\"https://upload.wikimedia.org/wikipedia/commons/3/3b/Function_machine2.svg\"/>\n",
    "\n",
    "source: wiki"
   ]
  },
  {
   "cell_type": "markdown",
   "id": "625c084a",
   "metadata": {},
   "source": [
    "# Review"
   ]
  },
  {
   "cell_type": "markdown",
   "id": "b272cb9f",
   "metadata": {},
   "source": [
    "### Domain and Range\n",
    "> **Domain:** A function $f$ from $X$ to $Y$. The red oval $X$ is the domain of $f$.\n",
    "\n",
    "> **Range**: A function $f$ from $X$ to $Y$. The blue oval $Y$ is the codomain of $f$. The yellow oval inside $Y$ is the image of $f$.\n",
    "\n",
    "<img src=\"https://upload.wikimedia.org/wikipedia/commons/6/64/Codomain2.SVG\"/>\n",
    "\n",
    "source: wiki"
   ]
  },
  {
   "cell_type": "markdown",
   "id": "e034334d",
   "metadata": {},
   "source": [
    "## 0. Constant Function\n",
    "Recall that a constant function is a function whose (output) value is the same for every input value.\n",
    "These types of functions are presented in the form of:\n",
    "\n",
    "$$f(x) = c$$\n",
    "\n",
    "Where $c$ is a constant, and $c$ $\\in \\mathbb{R}$."
   ]
  },
  {
   "cell_type": "markdown",
   "id": "042c3be1",
   "metadata": {},
   "source": [
    "### Question 0.1\n",
    "In the cell below type the domain and range for the constant function $f(x) = 4$."
   ]
  },
  {
   "cell_type": "markdown",
   "id": "55f57407",
   "metadata": {},
   "source": [
    "YOUR ANSWER HERE\n",
    "- Domain: \n",
    "\n",
    "- Range: "
   ]
  },
  {
   "cell_type": "markdown",
   "id": "add5ca3b",
   "metadata": {},
   "source": [
    "### Plotting"
   ]
  },
  {
   "cell_type": "code",
   "execution_count": null,
   "id": "8793f7c0",
   "metadata": {},
   "outputs": [],
   "source": [
    "# RUN THIS CELL\n",
    "def constant_function(c, xlim_1=0, xlim_2=5, ylim_1=0, ylim_2=5, color='red'):\n",
    "    plt.xlim(xlim_1,xlim_2)\n",
    "    plt.ylim(ylim_1,ylim_2)\n",
    "    plt.hlines(c, xlim_1, xlim_2, color=color)\n",
    "    plt.title(\"f(x) = \" + str(c))\n",
    "    plt.show()\n",
    "    return"
   ]
  },
  {
   "cell_type": "markdown",
   "id": "78d2dfc7",
   "metadata": {},
   "source": [
    "We have created a python function that plots constant functions for you. The function is called `constant function`. This takes in *6* arguments in the order we define below. \n",
    "\n",
    "1. $c$ value\n",
    "2. `xlim_1` lowest x-value to display in graph\n",
    "3. `xlim_2` highest x-value to display in graph\n",
    "4. `ylim_1` lowest y-value to display in graph\n",
    "5. `ylim_2` highest y-value to display in graph\n",
    "6. `color` your color of choice (default is `r` for red) [OPTIONAL]\n",
    "\n",
    "Note that `color` is what we call a keyword argument. If you want the line of the plot to be a different color other than 'red'. You must choose one of the following (type the letter inside quotation marks \"\"):\n",
    "\n",
    "- `\"b\"`: blue\n",
    "- `\"g\"`: green\n",
    "- `\"r\"`: red\n",
    "- `\"c\"`: cyan\n",
    "- `\"m\"`: magenta\n",
    "- `\"y\"`: yellow\n",
    "- `\"k\"`: black\n",
    "- `\"w\"`: white\n",
    "\n",
    "### An example for you:"
   ]
  },
  {
   "cell_type": "code",
   "execution_count": null,
   "id": "85ceab08",
   "metadata": {
    "scrolled": true
   },
   "outputs": [],
   "source": [
    "# Plotting f(x)=2, xlim_1 = -10, xlim_2 = 10, ylim_1=0, ylim_2=10, color='b' (For blue)\n",
    "constant_function(2, xlim_1= -10,xlim_2= 10, ylim_1= 0, ylim_2= 10, color=\"b\")"
   ]
  },
  {
   "cell_type": "markdown",
   "id": "a48982ce",
   "metadata": {},
   "source": [
    "### Question 0.2 \n",
    "Your turn! Plot the function $f(x)=3$ where the `xlim_1` = -5, `xlim_2` = 5, `ylim_1`=0, `ylim_2` = 5, and the `color` is green (see how you need to type the colors in the description of the function above."
   ]
  },
  {
   "cell_type": "code",
   "execution_count": null,
   "id": "f6b42fc8",
   "metadata": {
    "scrolled": true
   },
   "outputs": [],
   "source": [
    "# change C for the correc 'c' and fill in \n",
    "# the rest of the arguments appropriately.\n",
    "\n",
    "constant_function(C,xlim_1=, xlim_2=, ylim_1=, ylim_2=, color=)"
   ]
  },
  {
   "cell_type": "markdown",
   "id": "ea9d17c6",
   "metadata": {},
   "source": [
    "### Question 0.3\n",
    "Time to get creative! Plot one last constant function in which $c$ is whatever you want. Establish the graph x andy limits to whatever you like. Don't forget to pick a color different than red."
   ]
  },
  {
   "cell_type": "code",
   "execution_count": null,
   "id": "dafdb670",
   "metadata": {},
   "outputs": [],
   "source": [
    "# recall the order of arguments by looking at the examples above!\n",
    "constant_function()"
   ]
  },
  {
   "cell_type": "markdown",
   "id": "6a4cf674",
   "metadata": {},
   "source": [
    "### alternative?"
   ]
  },
  {
   "cell_type": "code",
   "execution_count": null,
   "id": "8e898426",
   "metadata": {
    "scrolled": false
   },
   "outputs": [],
   "source": [
    "plt.xlim(0,5)\n",
    "plt.ylim(0,10)\n",
    "plt.hlines(5, 0, 5, color='red');\n",
    "plt.title(\"f(x) = \" + \"5\");"
   ]
  },
  {
   "cell_type": "markdown",
   "id": "54259b66",
   "metadata": {},
   "source": [
    "## 1. Linear Functions\n",
    "\n",
    "As you might have concluded, a linear function is actually a polynomial of degree one or less. Whent he function is of only one variable ($x$), it is of the form:\n",
    "\n",
    "$$f(x) = mx + b$$\n",
    "\n",
    "Where $m$ and $b$ are constants and $\\in \\mathbb{R}$.\n",
    "\n",
    "From your algebra courses recall that $m$ is the slope of the line, and $b$ the shift along the $y$ axis.\n",
    "\n",
    "See the graph of two linear functions below:\n",
    "\n",
    "<img src= \"https://upload.wikimedia.org/wikipedia/commons/0/0e/Linear_Function_Graph.svg\" />\n",
    "\n",
    "source: wiki"
   ]
  },
  {
   "cell_type": "markdown",
   "id": "2c8edcdd",
   "metadata": {},
   "source": [
    "### Plotting\n",
    "We have created a python function that plots linear functions for you. The function is called `linear function`. This takes in *7* arguments in the order we define below. \n",
    "\n",
    "1. $m$ slope value\n",
    "2. $b$ value\n",
    "2. `xlim_1` lowest x-value to display in graph, default = 0\n",
    "3. `xlim_2` highest x-value to display in graph, default = 5\n",
    "4. `ylim_1` lowest y-value to display in graph, default = 0\n",
    "5. `ylim_2` highest y-value to display in graph, default = 5\n",
    "6. `color` your color of choice (default is `r` for red) [OPTIONAL]\n",
    "\n",
    "**Note**: the colors available for this plot are the same as the graph above."
   ]
  },
  {
   "cell_type": "code",
   "execution_count": null,
   "id": "802d2821",
   "metadata": {},
   "outputs": [],
   "source": [
    "def linear_function(m, b, xlim_1=0, xlim_2=5, ylim_1=0, ylim_2=5, color='r'):\n",
    "    \n",
    "    x = np.linspace(xlim_1, xlim_2, 100)\n",
    "    y = m * x + b\n",
    "    \n",
    "    plt.xlim(xlim_1, xlim_2)\n",
    "    plt.ylim(ylim_1, ylim_2)\n",
    "    \n",
    "    plt.title('f(x)= ' + str(m) + 'x' + '+' +str(b))\n",
    "    plt.plot(x, y, color=color)\n",
    "    plt.show()\n",
    "    \n",
    "    return"
   ]
  },
  {
   "cell_type": "markdown",
   "id": "8cdf1b9d",
   "metadata": {},
   "source": [
    "### Question 1.1\n",
    "In the cell below type the domain and range for the constant function $f(x) = -\\frac{1}{2}x + 2$."
   ]
  },
  {
   "cell_type": "markdown",
   "id": "9fdd0a7e",
   "metadata": {},
   "source": [
    "YOUR ANSWER HERE\n",
    "- Domain: \n",
    "\n",
    "- Range: "
   ]
  },
  {
   "cell_type": "markdown",
   "id": "8aac7f55",
   "metadata": {},
   "source": [
    "### Question 1.2 \n",
    "\n",
    "Plot the linear function $f(x) = -\\frac{1}{2}x + 2$ with the default values for xlim_1, xlim_2, ylim_1, ylim_2. \n",
    "Pick any color you wish. "
   ]
  },
  {
   "cell_type": "code",
   "execution_count": null,
   "id": "a74c2c68",
   "metadata": {
    "scrolled": true
   },
   "outputs": [],
   "source": [
    "# only need to include the values for m and b (substitute m and b below)\n",
    "# inlcude your selected color too\n",
    "\n",
    "linear_function(m, b, color=)"
   ]
  },
  {
   "cell_type": "markdown",
   "id": "bedb3399",
   "metadata": {},
   "source": [
    "### Question 1.3\n",
    "\n",
    "Determine if the function is increasing or decreasing in $[0, 5]$. Fill your answer in the cell below."
   ]
  },
  {
   "cell_type": "markdown",
   "id": "2f722219",
   "metadata": {},
   "source": [
    "YOUR ANSWER HERE\n",
    "\n"
   ]
  },
  {
   "cell_type": "markdown",
   "id": "1e946e1e",
   "metadata": {},
   "source": [
    "### Question 1.4\n",
    "Find the roots for the function $f(x) = -\\frac{1}{2}x + 2$. Fill your answer in the cell below."
   ]
  },
  {
   "cell_type": "markdown",
   "id": "4e2fe651",
   "metadata": {},
   "source": [
    "YOUR ANSWER HERE"
   ]
  },
  {
   "cell_type": "markdown",
   "id": "1ea44365",
   "metadata": {},
   "source": [
    "### Question 1.5\n",
    "Create your own linear function. Pick your $m$ and $b$. Establish your xlims, and ylims, as well as your color."
   ]
  },
  {
   "cell_type": "code",
   "execution_count": null,
   "id": "d44bfc51",
   "metadata": {},
   "outputs": [],
   "source": [
    "# substitute m and b below according to the function you wish you plot\n",
    "# don't forget about the graph limits you wish to display\n",
    "# pick your color\n",
    "\n",
    "linear_function(m,b, xlim_1=, xlim_2=, ylim_1=, ylim_2=, color=)"
   ]
  },
  {
   "cell_type": "markdown",
   "id": "e79b8ccb",
   "metadata": {},
   "source": [
    "### Question 1.6\n",
    "Identify the domain, range, and roots of the function you selected."
   ]
  },
  {
   "cell_type": "markdown",
   "id": "39ec20d7",
   "metadata": {},
   "source": [
    "YOUR ANSWER HERE"
   ]
  },
  {
   "cell_type": "markdown",
   "id": "cd9b2168",
   "metadata": {},
   "source": [
    "## 2. Quadratic (n = 2) Functions\n",
    "Recall that a quadratic function is a polynomial of degree 2. Often presented in the form:\n",
    "\n",
    "$$f(x) = ax^2 + bx + c  ,  a\\neq 0$$\n",
    "\n",
    "and/or\n",
    "\n",
    "$$f(x) = ax^2, b=0 ,c =0$$\n",
    "\n",
    "Where coeffiecients $a$, $b$, and $c$ $\\in \\mathbb{R}$\n",
    "\n",
    "<img src=\"https://upload.wikimedia.org/wikipedia/commons/f/f8/Polynomialdeg2.svg\"/>\n",
    "\n",
    "source: wiki"
   ]
  },
  {
   "cell_type": "markdown",
   "id": "0d09ad2d",
   "metadata": {},
   "source": [
    "### Plotting\n",
    "We have created a python function that plots linear functions for you. The function is called `linear function`. This takes in *8* arguments in the order we define below. \n",
    "\n",
    "1. $a$ coefficient value\n",
    "2. $b$ coefficient value\n",
    "3. $c$ coefficient value\n",
    "2. `xlim_1` lowest x-value to display in graph, default = -5\n",
    "3. `xlim_2` highest x-value to display in graph, default = 5\n",
    "4. `ylim_1` lowest y-value to display in graph, default = -5\n",
    "5. `ylim_2` highest y-value to display in graph, default = 5\n",
    "6. `color` your color of choice (default is `r` for red) [OPTIONAL]\n",
    "\n",
    "**Note**: the colors available for this plot are the same as the graph above. When plotting this graph, if the coefficients you select for $b$ and $c$ are zero, you must type that in your arguments."
   ]
  },
  {
   "cell_type": "code",
   "execution_count": null,
   "id": "f4ac9228",
   "metadata": {},
   "outputs": [],
   "source": [
    "def quadratic_function(a, b, c, xlim_1= -5, xlim_2=5, ylim_1=-5, ylim_2=5, color='r'):\n",
    "    x = np.linspace(xlim_1, xlim_2, 100)\n",
    "    y = a*(x**2) + b*x + c\n",
    "    \n",
    "    plt.xlim(xlim_1, xlim_2)\n",
    "    plt.ylim(ylim_1, ylim_2)\n",
    "    \n",
    "    if b!= 0 and c!=0:\n",
    "        plt.title('f(x) = ' + str(a) + 'x^2' + '+' + str(b) + '+' + str(c))\n",
    "    else:\n",
    "        plt.title('f(x) = ' + str(a) + 'x^2')\n",
    "    \n",
    "    plt.plot(x, y, color=color)\n",
    "    plt.hlines(0, xlim_1, xlim_2, linestyle='--', color='gray')\n",
    "    plt.vlines(0, ylim_1, ylim_2, linestyle='--', color='gray')\n",
    "    plt.show()\n",
    "    \n",
    "    return   \n",
    "    "
   ]
  },
  {
   "cell_type": "markdown",
   "id": "ce1e44f5",
   "metadata": {},
   "source": [
    "### Question 2.1 \n",
    "In the cell below type the domain and range for the constant function $f(x) = -2x^2 + 1x + 2$."
   ]
  },
  {
   "cell_type": "markdown",
   "id": "750abd4b",
   "metadata": {},
   "source": [
    "YOUR ANSWER HERE\n",
    "- Domain:\n",
    "- Range:"
   ]
  },
  {
   "cell_type": "markdown",
   "id": "0f0009f8",
   "metadata": {},
   "source": [
    "### Question 2.2\n",
    "Plot the quadratic function $f(x) = -2x^2 + 1x + 2$ with the default values for `xlim_1`, `xlim_2`, `ylim_1`, `ylim_2`. \n",
    "Pick any `color` you wish. "
   ]
  },
  {
   "cell_type": "code",
   "execution_count": null,
   "id": "5b1bde11",
   "metadata": {
    "scrolled": true
   },
   "outputs": [],
   "source": [
    "quadratic_function(-2,1,2)"
   ]
  },
  {
   "cell_type": "markdown",
   "id": "2c4201e8",
   "metadata": {},
   "source": [
    "### Question 2.3\n",
    "Find the roots of the function  $f(x) = -2x^2 + 1x + 2$. "
   ]
  },
  {
   "cell_type": "markdown",
   "id": "96bf5e9b",
   "metadata": {},
   "source": [
    "YOUR ANSWER HERE"
   ]
  },
  {
   "cell_type": "code",
   "execution_count": null,
   "id": "cec13ff0",
   "metadata": {},
   "outputs": [],
   "source": []
  },
  {
   "cell_type": "markdown",
   "id": "623a18f9",
   "metadata": {},
   "source": [
    "## 3. Higher degree Polynomial (n > 2) Functions"
   ]
  },
  {
   "cell_type": "markdown",
   "id": "70ed9183",
   "metadata": {},
   "source": [
    "## 4. Rational Functions"
   ]
  },
  {
   "cell_type": "markdown",
   "id": "3aace256",
   "metadata": {},
   "source": [
    "## 5. Exponential Functions"
   ]
  },
  {
   "cell_type": "markdown",
   "id": "1f506850",
   "metadata": {},
   "source": [
    "## 6. Logarithmic Functions"
   ]
  },
  {
   "cell_type": "markdown",
   "id": "3449dfd7",
   "metadata": {},
   "source": [
    "## 7. Trigonometric Functions"
   ]
  },
  {
   "cell_type": "code",
   "execution_count": null,
   "id": "15eb46eb",
   "metadata": {},
   "outputs": [],
   "source": []
  }
 ],
 "metadata": {
  "kernelspec": {
   "display_name": "Python 3",
   "language": "python",
   "name": "python3"
  },
  "language_info": {
   "codemirror_mode": {
    "name": "ipython",
    "version": 3
   },
   "file_extension": ".py",
   "mimetype": "text/x-python",
   "name": "python",
   "nbconvert_exporter": "python",
   "pygments_lexer": "ipython3",
   "version": "3.7.3"
  }
 },
 "nbformat": 4,
 "nbformat_minor": 5
}
