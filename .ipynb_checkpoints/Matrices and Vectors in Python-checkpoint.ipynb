{
 "cells": [
  {
   "cell_type": "markdown",
   "id": "2e16675e",
   "metadata": {},
   "source": [
    "## Introduction\n",
    "To practice some matrix and vector operations in Python, we will use a package called SciPy.  Within this package, there is a subpackage called `scipy.linalg` which builds on the package `NumPY`. We have actually already been using `NumPy` in previous notebooks. \n",
    "\n",
    "Let's import these packages."
   ]
  },
  {
   "cell_type": "code",
   "execution_count": 2,
   "id": "db030138",
   "metadata": {},
   "outputs": [],
   "source": [
    "# run this cell\n",
    "import numpy as np\n",
    "import scipy.linalg as la"
   ]
  },
  {
   "cell_type": "markdown",
   "id": "8926ad36",
   "metadata": {},
   "source": [
    "## NumPy Arrays: What are they?\n",
    "We can think of 1D (1 Dimensional) NumPy array as a list of numbers (or a vector!). We can also think of a 2D NumPy array as a matrix. And we can think of a 3D array as a cube of numbers (also known as tensor or an image!). \n",
    "\n",
    "When we select a row or a column from a 2D NumPy array, the result is a 1D NumPy array. This can get a bit confusing, so it is important to keep track of the shape, size and dimension of our NumPy arrays. "
   ]
  },
  {
   "cell_type": "markdown",
   "id": "f68e8f7c",
   "metadata": {},
   "source": [
    "- To create a 1D NumPy array (or vector) we use the function `np.array([])`, and inside the brackets (`[]`) we input numbers separated by a `,` comma. "
   ]
  },
  {
   "cell_type": "code",
   "execution_count": 3,
   "id": "1a4388d5",
   "metadata": {},
   "outputs": [
    {
     "name": "stdout",
     "output_type": "stream",
     "text": [
      "[ 1  3 -2 -1]\n"
     ]
    }
   ],
   "source": [
    "# Run this cell to see this creation in action\n",
    "# our 1D array is stored in the variable a\n",
    "a = np.array([1,3,-2,-1])\n",
    "\n",
    "# let's see how it looks like by printing\n",
    "print(a)"
   ]
  },
  {
   "cell_type": "markdown",
   "id": "7d3dabf3",
   "metadata": {},
   "source": [
    "- To verify the dimension of this 1D array or Vector, we use the function `.ndim`. "
   ]
  },
  {
   "cell_type": "code",
   "execution_count": 4,
   "id": "f0b0360a",
   "metadata": {},
   "outputs": [
    {
     "data": {
      "text/plain": [
       "1"
      ]
     },
     "execution_count": 4,
     "metadata": {},
     "output_type": "execute_result"
    }
   ],
   "source": [
    "# Run this cell\n",
    "\n",
    "# your_array.ndim\n",
    "a.ndim"
   ]
  },
  {
   "cell_type": "markdown",
   "id": "534645b6",
   "metadata": {},
   "source": [
    "- The shape of the 1D array or vector is given by `.shape`"
   ]
  },
  {
   "cell_type": "code",
   "execution_count": 5,
   "id": "5d9895cf",
   "metadata": {},
   "outputs": [
    {
     "data": {
      "text/plain": [
       "(4,)"
      ]
     },
     "execution_count": 5,
     "metadata": {},
     "output_type": "execute_result"
    }
   ],
   "source": [
    "# Run this cell\n",
    "\n",
    "# your_array.shape\n",
    "a.shape"
   ]
  },
  {
   "cell_type": "markdown",
   "id": "636365c9",
   "metadata": {},
   "source": [
    "**Note**: In this case `(4,)` is telling you that there are 4 elements in this vector. You can think of vectors in python written horizontally. "
   ]
  },
  {
   "cell_type": "markdown",
   "id": "d7961a66",
   "metadata": {},
   "source": [
    "### Matrices\n",
    "Let's now create a 2D array (matrix). We will call this matrix `M`."
   ]
  },
  {
   "cell_type": "code",
   "execution_count": 11,
   "id": "dc698cee",
   "metadata": {},
   "outputs": [
    {
     "name": "stdout",
     "output_type": "stream",
     "text": [
      "[[ 1  2]\n",
      " [-1  4]\n",
      " [ 6  5]]\n"
     ]
    }
   ],
   "source": [
    "# Run this cell\n",
    "M = np.array([[1,2],[-1,4], [6,5]])\n",
    "print(M)"
   ]
  },
  {
   "cell_type": "markdown",
   "id": "c4e7e50e",
   "metadata": {},
   "source": [
    "Note how the syntax (the way we write code) inside the function `np.array` changed from a single set of `[]` brackets, to 2 sets of `[]` brackets inside another set of brackets. Each of the brackets inside stores a list of numbers or vector. "
   ]
  },
  {
   "cell_type": "markdown",
   "id": "d56dc8f7",
   "metadata": {},
   "source": [
    "- Let's check the dimension: this is telling us what kind of `NumPy` array we have. We should now expect a 2D array."
   ]
  },
  {
   "cell_type": "code",
   "execution_count": 12,
   "id": "a1021dad",
   "metadata": {},
   "outputs": [
    {
     "data": {
      "text/plain": [
       "2"
      ]
     },
     "execution_count": 12,
     "metadata": {},
     "output_type": "execute_result"
    }
   ],
   "source": [
    "# use .ndim again\n",
    "M.ndim"
   ]
  },
  {
   "cell_type": "markdown",
   "id": "8d0c54c7",
   "metadata": {},
   "source": [
    "- Now let's verify the shape."
   ]
  },
  {
   "cell_type": "code",
   "execution_count": 13,
   "id": "fb12215a",
   "metadata": {},
   "outputs": [
    {
     "data": {
      "text/plain": [
       "(3, 2)"
      ]
     },
     "execution_count": 13,
     "metadata": {},
     "output_type": "execute_result"
    }
   ],
   "source": [
    "# use .shape again\n",
    "M.shape"
   ]
  },
  {
   "cell_type": "markdown",
   "id": "391a6bbd",
   "metadata": {},
   "source": [
    "- What if we want to know the number of entries inside of the matrix?"
   ]
  },
  {
   "cell_type": "code",
   "execution_count": 15,
   "id": "0f163c1d",
   "metadata": {},
   "outputs": [
    {
     "data": {
      "text/plain": [
       "6"
      ]
     },
     "execution_count": 15,
     "metadata": {},
     "output_type": "execute_result"
    }
   ],
   "source": [
    "# Run this cell\n",
    "# here we use the function .size\n",
    "M.size"
   ]
  },
  {
   "cell_type": "markdown",
   "id": "a368fb2d",
   "metadata": {},
   "source": [
    "As mentioned before, if we select a column from a 2D `NumPy` array we get a vector or 1D array."
   ]
  },
  {
   "cell_type": "code",
   "execution_count": 16,
   "id": "83916d22",
   "metadata": {},
   "outputs": [
    {
     "name": "stdout",
     "output_type": "stream",
     "text": [
      "[2 4 5]\n"
     ]
    }
   ],
   "source": [
    "col = M[:,1]\n",
    "print(col)"
   ]
  },
  {
   "cell_type": "markdown",
   "id": "f8d574b2",
   "metadata": {},
   "source": [
    "**Note**\n",
    "When indexing (putting brackets with colons next to arrays, like `M`) it is important to understand the dimensions of our array.\n",
    "\n",
    "In this case since M is 2D, we are dealing with a matrix that has **rows** and **columns**. It is important to keep in mind that when indexing, the *left most value* refers to **rows*** and *right most value* refers to **columns**.\n",
    "\n",
    "`M[row,column]`\n",
    "\n",
    "these must be separated by a comma."
   ]
  },
  {
   "cell_type": "markdown",
   "id": "8e775ccf",
   "metadata": {},
   "source": [
    "**Python Indexing**: \n",
    "1. When wanting to access (or index) into the first element of an array or list, Python's first element will always be 0. That is, if I were to want to extract the first column instead of the second one as we did above, we will write `0` in place of `1`. Run the cell below to see this in action.\n",
    "2. Notice how we are not specifying which rows we wish to access. Since we want all the rows from the first column, in the `[row,]` dimension of indexing, we simply type `:`."
   ]
  },
  {
   "cell_type": "code",
   "execution_count": 18,
   "id": "bd49883c",
   "metadata": {},
   "outputs": [
    {
     "name": "stdout",
     "output_type": "stream",
     "text": [
      "[ 1 -1  6]\n"
     ]
    }
   ],
   "source": [
    "first_column = M[:,0]\n",
    "print(first_column)"
   ]
  },
  {
   "cell_type": "markdown",
   "id": "fad014f8",
   "metadata": {},
   "source": [
    "- What if you just want the first row of the first column (that's just a single value within the matrix)!"
   ]
  },
  {
   "cell_type": "code",
   "execution_count": 19,
   "id": "e6b6b93f",
   "metadata": {},
   "outputs": [
    {
     "name": "stdout",
     "output_type": "stream",
     "text": [
      "1\n"
     ]
    }
   ],
   "source": [
    "single_value = M[0,0]\n",
    "print(single_value)"
   ]
  },
  {
   "cell_type": "markdown",
   "id": "a6e0d21f",
   "metadata": {},
   "source": [
    "We can still verify dimensions and shapes with columns."
   ]
  },
  {
   "cell_type": "code",
   "execution_count": 21,
   "id": "0772aa6f",
   "metadata": {},
   "outputs": [
    {
     "data": {
      "text/plain": [
       "1"
      ]
     },
     "execution_count": 21,
     "metadata": {},
     "output_type": "execute_result"
    }
   ],
   "source": [
    "# run this cell to see it in action\n",
    "first_column.ndim"
   ]
  },
  {
   "cell_type": "code",
   "execution_count": 23,
   "id": "cebb4ae4",
   "metadata": {},
   "outputs": [
    {
     "data": {
      "text/plain": [
       "(3,)"
      ]
     },
     "execution_count": 23,
     "metadata": {},
     "output_type": "execute_result"
    }
   ],
   "source": [
    "# run this cell to see the shape\n",
    "first_column.shape"
   ]
  },
  {
   "cell_type": "markdown",
   "id": "fff4f41b",
   "metadata": {},
   "source": [
    "## Matrix  Operations and Functions"
   ]
  },
  {
   "cell_type": "markdown",
   "id": "a9bd659f",
   "metadata": {},
   "source": [
    "Recall the arithmetic operations we discussed in the Python intro notebooks. When dealing with `NumPy` arrays, these arithmetic operations (`+`,`-`,`/`,`*`, and `**`) are performed elementwise on `NumPy` arrays. In other words, the rules you know of vectors and matrices are preserved in Python!"
   ]
  },
  {
   "cell_type": "markdown",
   "id": "c2578da8",
   "metadata": {},
   "source": [
    "1. Let's create a NumPy array and do some computations."
   ]
  },
  {
   "cell_type": "code",
   "execution_count": 24,
   "id": "937e1bcb",
   "metadata": {},
   "outputs": [
    {
     "name": "stdout",
     "output_type": "stream",
     "text": [
      "[[ 3  4]\n",
      " [-2  6]]\n"
     ]
    }
   ],
   "source": [
    "# Run this cell\n",
    "\n",
    "# Our matrix is now called M2 \n",
    "M2 = np.array([[3,4], [-2,6]])\n",
    "print(M2)"
   ]
  },
  {
   "cell_type": "markdown",
   "id": "58c41594",
   "metadata": {},
   "source": [
    "Matrix multiplication in Python is actually performed with the `@` symbol. Notice what happens when we use the `*` instead."
   ]
  },
  {
   "cell_type": "code",
   "execution_count": 25,
   "id": "4b0f13f5",
   "metadata": {},
   "outputs": [
    {
     "data": {
      "text/plain": [
       "array([[ 9, 16],\n",
       "       [ 4, 36]])"
      ]
     },
     "execution_count": 25,
     "metadata": {},
     "output_type": "execute_result"
    }
   ],
   "source": [
    "# Run this cell to see what happens.\n",
    "M2 * M2"
   ]
  },
  {
   "cell_type": "markdown",
   "id": "c069f0a2",
   "metadata": {},
   "source": [
    "2. Let's now do an actual matrix multiplication."
   ]
  },
  {
   "cell_type": "code",
   "execution_count": 27,
   "id": "863e26d8",
   "metadata": {},
   "outputs": [
    {
     "data": {
      "text/plain": [
       "array([[  1,  36],\n",
       "       [-18,  28]])"
      ]
     },
     "execution_count": 27,
     "metadata": {},
     "output_type": "execute_result"
    }
   ],
   "source": [
    "# Run this cell to see the result\n",
    "M2 @ M2"
   ]
  },
  {
   "cell_type": "markdown",
   "id": "776ba1e0",
   "metadata": {},
   "source": [
    "2. What if we want to compute the following: $2I + 3A - AB$ for \n",
    "\n",
    "$$A = \\begin{bmatrix}1 & 3 \\\\-1 & 7 \\end{bmatrix}  B = \\begin{bmatrix}5 & 2 \\\\1 & 2 \\end{bmatrix}$$\n",
    "\n",
    "and $I$ is the identity matrix of size 2.\n",
    "\n",
    "$$I = \\begin{bmatrix}1 & 0 \\\\0 & 1 \\end{bmatrix}$$"
   ]
  },
  {
   "cell_type": "code",
   "execution_count": 28,
   "id": "4a363d63",
   "metadata": {},
   "outputs": [
    {
     "name": "stdout",
     "output_type": "stream",
     "text": [
      "[[ 1  3]\n",
      " [-1  7]]\n"
     ]
    }
   ],
   "source": [
    "# Run this cell to create A \n",
    "A = np.array([[1,3],[-1,7]])\n",
    "print(A)"
   ]
  },
  {
   "cell_type": "code",
   "execution_count": 29,
   "id": "0936247a",
   "metadata": {},
   "outputs": [
    {
     "name": "stdout",
     "output_type": "stream",
     "text": [
      "[[5 2]\n",
      " [1 2]]\n"
     ]
    }
   ],
   "source": [
    "# Run this cell to create B\n",
    "B = np.array([[5,2],[1,2]])\n",
    "print(B)"
   ]
  },
  {
   "cell_type": "markdown",
   "id": "f1cf3ef4",
   "metadata": {},
   "source": [
    "Note that `NumPy` has a function called `np.eye` which creates an Identity matrix $I$ for you of whatever size you wish. In this case, we want to create an identity matrix of size 2."
   ]
  },
  {
   "cell_type": "code",
   "execution_count": 30,
   "id": "17cefb72",
   "metadata": {},
   "outputs": [
    {
     "name": "stdout",
     "output_type": "stream",
     "text": [
      "[[1. 0.]\n",
      " [0. 1.]]\n"
     ]
    }
   ],
   "source": [
    "I = np.eye(2) # the two denotes the size we want\n",
    "print(I)"
   ]
  },
  {
   "cell_type": "markdown",
   "id": "8182dfdd",
   "metadata": {},
   "source": [
    "We can now compute what we want!"
   ]
  },
  {
   "cell_type": "code",
   "execution_count": 31,
   "id": "ccfb1577",
   "metadata": {},
   "outputs": [
    {
     "data": {
      "text/plain": [
       "array([[-3.,  1.],\n",
       "       [-5., 11.]])"
      ]
     },
     "execution_count": 31,
     "metadata": {},
     "output_type": "execute_result"
    }
   ],
   "source": [
    "# Run this cell to see the result\n",
    "\n",
    "2*I + 3*A -A@B"
   ]
  },
  {
   "cell_type": "markdown",
   "id": "fba1d764",
   "metadata": {},
   "source": [
    "## Matrix Powers\n",
    "1. Unfortunately there is no symbol for matrix powers and so we must import the function `matrix_power` from the subpackge we talked about `scipy.linalg`."
   ]
  },
  {
   "cell_type": "code",
   "execution_count": 41,
   "id": "549fd06a",
   "metadata": {},
   "outputs": [],
   "source": [
    "# lets import it\n",
    "from numpy.linalg import matrix_power as mpow"
   ]
  },
  {
   "cell_type": "code",
   "execution_count": 43,
   "id": "8bf3893a",
   "metadata": {},
   "outputs": [
    {
     "name": "stdout",
     "output_type": "stream",
     "text": [
      "[[ 3  4]\n",
      " [-1  5]]\n"
     ]
    }
   ],
   "source": [
    "# run this cell to redefine M\n",
    "M = np.array([[3,4], [-1,5]])\n",
    "print(M)"
   ]
  },
  {
   "cell_type": "markdown",
   "id": "c5755bf2",
   "metadata": {},
   "source": [
    "2. Say we want to raise the matrix `M` to the power of 2.\n",
    "    - First argument in `mpow`  is your matrix of choice (in this case `M`)\n",
    "    - Second argument in `mpow` is the power you wish to raise your matrix `M` to (in this case 2)"
   ]
  },
  {
   "cell_type": "code",
   "execution_count": 44,
   "id": "58d8dd1e",
   "metadata": {},
   "outputs": [
    {
     "data": {
      "text/plain": [
       "array([[ 5, 32],\n",
       "       [-8, 21]])"
      ]
     },
     "execution_count": 44,
     "metadata": {},
     "output_type": "execute_result"
    }
   ],
   "source": [
    "# run this cell to see it in action\n",
    "mpow(M,2)"
   ]
  },
  {
   "cell_type": "markdown",
   "id": "2d0b6dc1",
   "metadata": {},
   "source": [
    "3. What if we want to raise it to the power of 5?"
   ]
  },
  {
   "cell_type": "code",
   "execution_count": 45,
   "id": "af66a144",
   "metadata": {},
   "outputs": [
    {
     "data": {
      "text/plain": [
       "array([[-1525,  3236],\n",
       "       [ -809,    93]])"
      ]
     },
     "execution_count": 45,
     "metadata": {},
     "output_type": "execute_result"
    }
   ],
   "source": [
    "mpow(M,5)"
   ]
  },
  {
   "cell_type": "markdown",
   "id": "9832424b",
   "metadata": {},
   "source": [
    "Since we are raising a Matrix to a power, it is the same as multiplying `M` by itself 2 (for power of 2) times."
   ]
  },
  {
   "cell_type": "code",
   "execution_count": 46,
   "id": "84586b49",
   "metadata": {},
   "outputs": [
    {
     "data": {
      "text/plain": [
       "array([[ 5, 32],\n",
       "       [-8, 21]])"
      ]
     },
     "execution_count": 46,
     "metadata": {},
     "output_type": "execute_result"
    }
   ],
   "source": [
    "# run this cell to see it in action: we should get the same result as above\n",
    "M @ M"
   ]
  },
  {
   "cell_type": "markdown",
   "id": "aa8c29fb",
   "metadata": {},
   "source": [
    "Let's now do the same for the power of 5."
   ]
  },
  {
   "cell_type": "code",
   "execution_count": 47,
   "id": "c322f664",
   "metadata": {},
   "outputs": [
    {
     "data": {
      "text/plain": [
       "array([[-1525,  3236],\n",
       "       [ -809,    93]])"
      ]
     },
     "execution_count": 47,
     "metadata": {},
     "output_type": "execute_result"
    }
   ],
   "source": [
    "# Run this cell\n",
    "M @ M @ M @ M @ M "
   ]
  },
  {
   "cell_type": "markdown",
   "id": "aa9afe3f",
   "metadata": {},
   "source": [
    "## Transpose of a Matrix\n",
    "We can also take the transpose with the attribute/function `.T`."
   ]
  },
  {
   "cell_type": "code",
   "execution_count": 35,
   "id": "df3c5a34",
   "metadata": {},
   "outputs": [
    {
     "name": "stdout",
     "output_type": "stream",
     "text": [
      "[[ 3  4]\n",
      " [-2  6]]\n"
     ]
    }
   ],
   "source": [
    "# Run to recall what the value of the variable M2 was (it was the last matrix we did!)\n",
    "print(M2)"
   ]
  },
  {
   "cell_type": "code",
   "execution_count": 36,
   "id": "689000e0",
   "metadata": {},
   "outputs": [
    {
     "name": "stdout",
     "output_type": "stream",
     "text": [
      "[[ 3 -2]\n",
      " [ 4  6]]\n"
     ]
    }
   ],
   "source": [
    "# Run to transpose\n",
    "transpose = M2.T\n",
    "print(transpose)"
   ]
  },
  {
   "cell_type": "markdown",
   "id": "6c7576c1",
   "metadata": {},
   "source": [
    "## Inverse of a Matrix"
   ]
  },
  {
   "cell_type": "markdown",
   "id": "cd8aa09b",
   "metadata": {},
   "source": [
    "We can find the inverse using the function `la.inv`"
   ]
  },
  {
   "cell_type": "code",
   "execution_count": 37,
   "id": "4a833313",
   "metadata": {},
   "outputs": [
    {
     "name": "stdout",
     "output_type": "stream",
     "text": [
      "[[1 2]\n",
      " [3 4]]\n"
     ]
    }
   ],
   "source": [
    "# lets create a matrix C \n",
    "C = np.array([[1,2],[3,4]])\n",
    "print(C)"
   ]
  },
  {
   "cell_type": "code",
   "execution_count": 39,
   "id": "6381559c",
   "metadata": {},
   "outputs": [
    {
     "name": "stdout",
     "output_type": "stream",
     "text": [
      "[[-2.   1. ]\n",
      " [ 1.5 -0.5]]\n"
     ]
    }
   ],
   "source": [
    "# let's now get its inverse\n",
    "inv_c = la.inv(C)\n",
    "print(inv_c)"
   ]
  },
  {
   "cell_type": "markdown",
   "id": "7d9d7c0c",
   "metadata": {},
   "source": [
    "## Exercise\n",
    "Compute the matrix equation $AB + 2B^2 - I$ for matrices\n",
    "\n",
    "$$A = \\begin{bmatrix}3 & 4 \\\\-1 & 2 \\end{bmatrix}  B = \\begin{bmatrix}5 & 2 \\\\8 & -3 \\end{bmatrix} $$."
   ]
  },
  {
   "cell_type": "code",
   "execution_count": null,
   "id": "abe5b846",
   "metadata": {},
   "outputs": [],
   "source": [
    "# create your matrix A here\n",
    "A = "
   ]
  },
  {
   "cell_type": "code",
   "execution_count": null,
   "id": "918466dc",
   "metadata": {},
   "outputs": [],
   "source": [
    "# create your matrix B here\n",
    "B = "
   ]
  },
  {
   "cell_type": "code",
   "execution_count": null,
   "id": "d6295f47",
   "metadata": {},
   "outputs": [],
   "source": [
    "# create your I here\n",
    "I = np.eye()"
   ]
  },
  {
   "cell_type": "code",
   "execution_count": null,
   "id": "c81a4ec6",
   "metadata": {},
   "outputs": [],
   "source": [
    "# Calculate here!"
   ]
  }
 ],
 "metadata": {
  "kernelspec": {
   "display_name": "Python 3",
   "language": "python",
   "name": "python3"
  },
  "language_info": {
   "codemirror_mode": {
    "name": "ipython",
    "version": 3
   },
   "file_extension": ".py",
   "mimetype": "text/x-python",
   "name": "python",
   "nbconvert_exporter": "python",
   "pygments_lexer": "ipython3",
   "version": "3.7.3"
  }
 },
 "nbformat": 4,
 "nbformat_minor": 5
}
