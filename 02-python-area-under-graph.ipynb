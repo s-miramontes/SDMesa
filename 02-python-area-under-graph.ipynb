{
 "cells": [
  {
   "cell_type": "markdown",
   "metadata": {},
   "source": [
    "# Calculating the Area under a Graph\n",
    "In this notebook we will create our own functions and calculate to draw rectangles under a graph, to then calculate the area. "
   ]
  },
  {
   "cell_type": "markdown",
   "metadata": {},
   "source": [
    "## Table of Contents\n",
    "1. Create your function\n",
    "2. How many rectangles?\n",
    "3. Draw them \n",
    "4. Let's keep playing!"
   ]
  },
  {
   "cell_type": "markdown",
   "metadata": {},
   "source": [
    "Importing some important libraries"
   ]
  },
  {
   "cell_type": "code",
   "execution_count": 1,
   "metadata": {},
   "outputs": [],
   "source": [
    "import numpy as np\n",
    "import matplotlib.pyplot as plt\n",
    "from matplotlib.patches import Polygon"
   ]
  },
  {
   "cell_type": "markdown",
   "metadata": {},
   "source": [
    "We have created the function below to have you see the representation of rectangles drawn under a graph. Run the cell below so that we can use it."
   ]
  },
  {
   "cell_type": "code",
   "execution_count": 12,
   "metadata": {},
   "outputs": [],
   "source": [
    "def plot_all(x,y,X,Y,N):\n",
    "    plt.figure(figsize=(15,5))\n",
    "\n",
    "    plt.subplot(1,3,1)\n",
    "    plt.plot(X,Y,'b')\n",
    "    x_left = x[:-1] # Left endpoints\n",
    "    y_left = y[:-1]\n",
    "    plt.plot(x_left,y_left,'b.',markersize=10)\n",
    "    plt.bar(x_left,y_left,width=(b-a)/N,alpha=0.2,align='edge',edgecolor='b')\n",
    "    plt.title('Left Riemann Sum, N = {}'.format(N))\n",
    "\n",
    "    plt.subplot(1,3,2)\n",
    "    plt.plot(X,Y,'b')\n",
    "    x_mid = (x[:-1] + x[1:])/2 # Midpoints\n",
    "    y_mid = f(x_mid)\n",
    "    plt.plot(x_mid,y_mid,'b.',markersize=10)\n",
    "    plt.bar(x_mid,y_mid,width=(b-a)/N,alpha=0.2,edgecolor='b')\n",
    "    plt.title('Midpoint Riemann Sum, N = {}'.format(N))\n",
    "\n",
    "    plt.subplot(1,3,3)\n",
    "    plt.plot(X,Y,'b')\n",
    "    x_right = x[1:] # Left endpoints\n",
    "    y_right = y[1:]\n",
    "    plt.plot(x_right,y_right,'b.',markersize=10)\n",
    "    plt.bar(x_right,y_right,width=-(b-a)/N,alpha=0.2,align='edge',edgecolor='b')\n",
    "    plt.title('Right Riemann Sum, N = {}'.format(N))\n",
    "    \n",
    "    plt.show()\n",
    "    \n",
    "    return x_left, y_left, x_mid, y_mid, x_right, y_right;"
   ]
  },
  {
   "cell_type": "code",
   "execution_count": 13,
   "metadata": {},
   "outputs": [],
   "source": [
    "def new_values(f, N):\n",
    "    a = 0; b= 5;\n",
    "    n = 10\n",
    "    \n",
    "    x = np.linspace(a,b,N+1)\n",
    "    y = f(x)\n",
    "\n",
    "    X = np.linspace(a,b,n*N+1)\n",
    "    Y = f(X)\n",
    "    \n",
    "    return x,y,X,Y"
   ]
  },
  {
   "cell_type": "markdown",
   "metadata": {},
   "source": [
    "## 1. Write your function\n",
    "It is important that you are conscious about how you write your function in the code cell below."
   ]
  },
  {
   "cell_type": "markdown",
   "metadata": {},
   "source": [
    "Recall how to represent powers in Python, and make sure you use parenthesis to determine what is divided by what.\n",
    "Try to avoid rational functions as these may not scale when you display.\n",
    "\n",
    "For example, the function $y = \\frac{1}{1 + x^2}$ is written in Python as `y = 1/(1 + x**2)`"
   ]
  },
  {
   "cell_type": "markdown",
   "metadata": {},
   "source": [
    "1.1 Write your function next the variable denoted as `f`."
   ]
  },
  {
   "cell_type": "code",
   "execution_count": 14,
   "metadata": {},
   "outputs": [],
   "source": [
    "f = lambda x: x**2 # YOUR FUNCTION HERE"
   ]
  },
  {
   "cell_type": "markdown",
   "metadata": {},
   "source": [
    "Now we will establish the x,y boundaries for the plots."
   ]
  },
  {
   "cell_type": "code",
   "execution_count": 15,
   "metadata": {},
   "outputs": [],
   "source": [
    "# RUN THIS CELL, do not change.\n",
    "a = 0; b= 5;\n",
    "n = 10"
   ]
  },
  {
   "cell_type": "markdown",
   "metadata": {},
   "source": [
    "## 2. Select the number of Rectangles to draw under your graph."
   ]
  },
  {
   "cell_type": "code",
   "execution_count": 16,
   "metadata": {},
   "outputs": [],
   "source": [
    "N = 20; # in this case you have selected 20, you can change this particular value at anytime"
   ]
  },
  {
   "cell_type": "markdown",
   "metadata": {},
   "source": [
    "Here were are generating the list of values to plot. Please do not change the cell below."
   ]
  },
  {
   "cell_type": "code",
   "execution_count": 17,
   "metadata": {
    "scrolled": true
   },
   "outputs": [],
   "source": [
    "# RUN THIS CELL, do not change.\n",
    "x = np.linspace(a,b,N+1)\n",
    "y = f(x)\n",
    "\n",
    "X = np.linspace(a,b,n*N+1)\n",
    "Y = f(X)"
   ]
  },
  {
   "cell_type": "markdown",
   "metadata": {},
   "source": [
    "## 3. Let's draw them"
   ]
  },
  {
   "cell_type": "code",
   "execution_count": 19,
   "metadata": {},
   "outputs": [
    {
     "data": {
      "image/png": "[encoded data removed]",
      "text/plain": [
       "<Figure size 1080x360 with 3 Axes>"
      ]
     },
     "metadata": {
      "needs_background": "light"
     },
     "output_type": "display_data"
    }
   ],
   "source": [
    "# RUN THIS CELL\n",
    "x_l,y_l,x_m,y_m,x_r,y_r = plot_all(x,y,X,Y,N)"
   ]
  },
  {
   "cell_type": "markdown",
   "metadata": {},
   "source": [
    "## 4. Let's keep Playing!"
   ]
  },
  {
   "cell_type": "code",
   "execution_count": 9,
   "metadata": {},
   "outputs": [],
   "source": [
    "# new function\n",
    "f = lambda x: 1/(1+x**2)# YOUR NEW FUNCTION HERE\n",
    "N = 10# HOW MANY RECTANGLES?"
   ]
  },
  {
   "cell_type": "code",
   "execution_count": 10,
   "metadata": {
    "scrolled": true
   },
   "outputs": [],
   "source": [
    "# RUN THIS CELL TO CALCULATE VALUES BASED ON YOUR CHOICES ABOVE\n",
    "x,y,X,Y = new_values(f, N)"
   ]
  },
  {
   "cell_type": "code",
   "execution_count": 20,
   "metadata": {},
   "outputs": [
    {
     "data": {
      "image/png": "[encoded data removed]",
      "text/plain": [
       "<Figure size 1080x360 with 3 Axes>"
      ]
     },
     "metadata": {
      "needs_background": "light"
     },
     "output_type": "display_data"
    }
   ],
   "source": [
    "# RUN THIS CELL, don't change anything\n",
    "x_l,y_l,x_m,y_m,x_r,y_r = plot_all(x,y,X,Y,N)"
   ]
  },
  {
   "cell_type": "markdown",
   "metadata": {},
   "source": [
    "## 5. Let's Calculate the Area\n",
    "The variables that you have seen above save the heights (y-values) and base points for each of the rectangles drawn.\n",
    "\n",
    "1. `x_l` = x-values for the start of the rectangle's left points\n",
    "2. `y_r` = y-value for the left points\n",
    "3. `x_m` = x-values for the start of the rectangle's mid points\n",
    "4. `y_m` = y-values for mid points\n",
    "5. `x_r` = x-values for the start of the rectangle's right points\n",
    "6. `y_r` = y-values for right points"
   ]
  },
  {
   "cell_type": "markdown",
   "metadata": {},
   "source": [
    "Each of these is represented as a vector.\n",
    "To calculate the (approximate) area under a the curves we need to calculate the area of each of the rectangles and sum all of these areas. "
   ]
  },
  {
   "cell_type": "markdown",
   "metadata": {},
   "source": [
    "To calculate the area of the rectangle we need to find the width of each of the drawn rectangles. Run the cell below to obtain lists of these calculated values."
   ]
  },
  {
   "cell_type": "code",
   "execution_count": 50,
   "metadata": {
    "scrolled": true
   },
   "outputs": [
    {
     "data": {
      "text/plain": [
       "[1, 2, 2]"
      ]
     },
     "execution_count": 50,
     "metadata": {},
     "output_type": "execute_result"
    }
   ],
   "source": [
    "a = [1,2]\n"
   ]
  },
  {
   "cell_type": "code",
   "execution_count": 51,
   "metadata": {},
   "outputs": [],
   "source": [
    "x_l_width = [j-i for i, j in zip(x_l[:-1], x_l[1:])]\n",
    "x_l_width = np.asarray(x_l_width + [x_l_width[-1]])\n",
    "\n",
    "x_m_width = [j-i for i, j in zip(x_m[:-1], x_m[1:])]\n",
    "x_m_width = np.asarray(x_m_width + [x_m_width[-1]])\n",
    "\n",
    "x_r_width = [j-i for i, j in zip(x_r[:-1], x_r[1:])]\n",
    "x_r_width = np.asarray(x_r_width + [x_r_width[-1]])"
   ]
  },
  {
   "cell_type": "markdown",
   "metadata": {},
   "source": [
    "1. What do you think it is the equivalent vector operation of this?\n",
    "\n",
    "    1. If each of the values in the vector `x_m` denote a list of \"bases\" for each rectangle drawn\n",
    "    2. And each of the values in the vector `y_m` denote a list of the \"heights\" for each rectangle drawn\n",
    "\n",
    "2. What would you need to do with these lists/vectors to calculate the total rea?"
   ]
  },
  {
   "cell_type": "code",
   "execution_count": 52,
   "metadata": {
    "scrolled": true
   },
   "outputs": [
    {
     "data": {
      "text/plain": [
       "array([0.25, 0.25, 0.25, 0.25, 0.25, 0.25, 0.25, 0.25, 0.25, 0.25, 0.25,\n",
       "       0.25, 0.25, 0.25, 0.25, 0.25, 0.25, 0.25, 0.25, 0.25])"
      ]
     },
     "execution_count": 52,
     "metadata": {},
     "output_type": "execute_result"
    }
   ],
   "source": [
    "# this is an example of how the vector of widths looks like\n",
    "x_m_width"
   ]
  },
  {
   "cell_type": "markdown",
   "metadata": {},
   "source": [
    "This means that each of the 20 rectangles has the same width of `0.25`."
   ]
  },
  {
   "cell_type": "code",
   "execution_count": 58,
   "metadata": {},
   "outputs": [
    {
     "data": {
      "text/plain": [
       "21"
      ]
     },
     "execution_count": 58,
     "metadata": {},
     "output_type": "execute_result"
    }
   ],
   "source": [
    "# this is the vector that denotes the value of f(x"
   ]
  },
  {
   "cell_type": "markdown",
   "metadata": {},
   "source": [
    "**Hints**:\n",
    "1. np.dot(), what does the dot product do mathematically?\n",
    "2. np.sum()? \n",
    "3. np.add()?"
   ]
  },
  {
   "cell_type": "markdown",
   "metadata": {},
   "source": [
    "A. Area under curve for midpoint"
   ]
  },
  {
   "cell_type": "code",
   "execution_count": 56,
   "metadata": {},
   "outputs": [
    {
     "data": {
      "text/plain": [
       "array([1.5625000e-02, 1.4062500e-01, 3.9062500e-01, 7.6562500e-01,\n",
       "       1.2656250e+00, 1.8906250e+00, 2.6406250e+00, 3.5156250e+00,\n",
       "       4.5156250e+00, 5.6406250e+00, 6.8906250e+00, 8.2656250e+00,\n",
       "       9.7656250e+00, 1.1390625e+01, 1.3140625e+01, 1.5015625e+01,\n",
       "       1.7015625e+01, 1.9140625e+01, 2.1390625e+01, 2.3765625e+01])"
      ]
     },
     "execution_count": 56,
     "metadata": {},
     "output_type": "execute_result"
    }
   ],
   "source": [
    "y_m"
   ]
  },
  {
   "cell_type": "code",
   "execution_count": 55,
   "metadata": {
    "scrolled": false
   },
   "outputs": [
    {
     "data": {
      "text/plain": [
       "41.640625"
      ]
     },
     "execution_count": 55,
     "metadata": {},
     "output_type": "execute_result"
    }
   ],
   "source": [
    "np.dot(x_m_width, y_m)"
   ]
  },
  {
   "cell_type": "markdown",
   "metadata": {},
   "source": [
    "B. Area under curve for left-end point"
   ]
  },
  {
   "cell_type": "code",
   "execution_count": 26,
   "metadata": {},
   "outputs": [
    {
     "data": {
      "text/plain": [
       "564.0625"
      ]
     },
     "execution_count": 26,
     "metadata": {},
     "output_type": "execute_result"
    }
   ],
   "source": [
    "np.dot(x_l, y_l)"
   ]
  },
  {
   "cell_type": "markdown",
   "metadata": {},
   "source": [
    "C. Area under curve for right-end point."
   ]
  },
  {
   "cell_type": "code",
   "execution_count": 27,
   "metadata": {},
   "outputs": [
    {
     "data": {
      "text/plain": [
       "689.0625"
      ]
     },
     "execution_count": 27,
     "metadata": {},
     "output_type": "execute_result"
    }
   ],
   "source": [
    "np.dot(x_r, y_r)"
   ]
  },
  {
   "cell_type": "markdown",
   "metadata": {},
   "source": [
    "## What is the actual answer?\n",
    "Python has an actual function in the library for scientific purposes `scipy` to calculate the area under a graph. Let's find out!\n",
    "\n",
    "Recall that f is $y = \\frac{1}{1+x**2}$ and the values of `x` go from `0` to `5`."
   ]
  },
  {
   "cell_type": "code",
   "execution_count": 65,
   "metadata": {
    "scrolled": false
   },
   "outputs": [],
   "source": [
    "import scipy.integrate as integrate\n",
    "result,err = integrate.quad(f, 0, 5)"
   ]
  },
  {
   "cell_type": "code",
   "execution_count": 66,
   "metadata": {},
   "outputs": [
    {
     "name": "stdout",
     "output_type": "stream",
     "text": [
      "The actual area under the function f is:  41.66666666666666 units.\n"
     ]
    }
   ],
   "source": [
    "print('The actual area under the function f is: ', result, \"units.\")"
   ]
  },
  {
   "cell_type": "code",
   "execution_count": null,
   "metadata": {},
   "outputs": [],
   "source": []
  }
 ],
 "metadata": {
  "kernelspec": {
   "display_name": "Python 3",
   "language": "python",
   "name": "python3"
  },
  "language_info": {
   "codemirror_mode": {
    "name": "ipython",
    "version": 3
   },
   "file_extension": ".py",
   "mimetype": "text/x-python",
   "name": "python",
   "nbconvert_exporter": "python",
   "pygments_lexer": "ipython3",
   "version": "3.7.3"
  }
 },
 "nbformat": 4,
 "nbformat_minor": 2
}
