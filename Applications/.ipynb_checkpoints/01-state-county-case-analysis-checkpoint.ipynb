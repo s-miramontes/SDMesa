{
 "cells": [
  {
   "cell_type": "markdown",
   "metadata": {},
   "source": [
    "# How has Covid-19 affected CA?\n",
    "In this notebook we will walk you through some examples for you to analyze some data regarding COVID-19 in your home state (CA)."
   ]
  },
  {
   "cell_type": "markdown",
   "metadata": {},
   "source": [
    "### Table of Contents\n",
    "1. Importing libraries and executing necessary functions\n",
    "2. Analyzing the data."
   ]
  },
  {
   "cell_type": "markdown",
   "metadata": {},
   "source": [
    "## 1. Importing Libraries and Executing Functions"
   ]
  },
  {
   "cell_type": "code",
   "execution_count": null,
   "metadata": {},
   "outputs": [],
   "source": [
    "# RUN THIS CELL TO IMPORT THE NECESSARY LIBRARIES\n",
    "import warnings\n",
    "warnings.simplefilter(action='ignore', category=FutureWarning)\n",
    "import pandas as pd\n",
    "import numpy as np\n",
    "import seaborn as sns\n",
    "import os\n",
    "import us\n",
    "import glob\n",
    "import matplotlib.pyplot as plt\n",
    "from datetime import datetime\n",
    "\n",
    "import warnings\n",
    "warnings.filterwarnings('ignore')"
   ]
  },
  {
   "cell_type": "code",
   "execution_count": null,
   "metadata": {},
   "outputs": [],
   "source": [
    "# RUN THIS CELL TO EXECUTE THIS FUNCTION -- WE WILL USE LATER :)\n",
    "\n",
    "colors = ['red', 'blue', 'green']\n",
    "def plot_top3(colors, top3_list, df,minCases =25, maxCases=100000, sample=10):\n",
    "    \n",
    "    for i, county in enumerate(top3_list):\n",
    "        \n",
    "        selectCounty = df[df['county'] == county]\n",
    "        inRange = selectCounty[(selectCounty['cases'] > minCases)\n",
    "                               & (selectCounty['cases'] <= maxCases)]\n",
    "        \n",
    "        \n",
    "        colTitle = 'Days since ' + str(minCases) + 'th Case'\n",
    "        inRange[colTitle] = np.arange(len(inRange))\n",
    "        inRange_sample = inRange.sample(sample)\n",
    "\n",
    "        \n",
    "        fig2, ax2 = plt.subplots(figsize = (10,8))\n",
    "        inRange_sample.plot(x=colTitle, y = 'cases',\n",
    "                    kind='scatter', legend=county, ax=ax2,\n",
    "                    s=15.0, color=colors[i])\n",
    "        plt.xticks(size=13)\n",
    "        plt.yticks(size=13)\n",
    "        plt.xlabel(xlabel= colTitle, fontsize=20)\n",
    "        plt.ylabel(ylabel= 'Cases', fontsize=20)\n",
    "        title =  myState +  ' COVID-19 cases for ' +  county + ' county'\n",
    "        plt.title(title, fontsize=20)\n",
    "        plt.axhline(y=minCases, color='magenta', linestyle='--')\n",
    "        legTitle = 'y = ' + str(minCases) + ' Cases'\n",
    "        plt.legend([legTitle, 'Cases Recorded on given Day'],\n",
    "                  prop={'size': 15})\n",
    "        "
   ]
  },
  {
   "cell_type": "code",
   "execution_count": null,
   "metadata": {},
   "outputs": [],
   "source": [
    "# RUN THIS CELL TO EXECUTE THIS FUNCTION -- WE WILL USE LATER :)\n",
    "\n",
    "# get the right estimate for how many cases there is in those counties\n",
    "\n",
    "def estimateCases(counties):\n",
    "    \"\"\"\n",
    "    This function estimates the number\n",
    "    of cases in the given list of counties.\n",
    "    top 3 cases usually.\n",
    "    --------------------------------------\n",
    "    Input:\n",
    "        counties = list of county names\n",
    "    Output:\n",
    "        num = bounding number\n",
    "    \"\"\"\n",
    "    maxCases = []\n",
    "    minCases = []\n",
    "    \n",
    "    for c in top3_housingMIN:\n",
    "        a = perSTATE[perSTATE['county'] == c]\n",
    "        numCasesMAX = a['cases'].max()\n",
    "        numCasesMIN = a['cases'].min()\n",
    "        maxCases.append(numCasesMAX)\n",
    "        minCases.append(numCasesMIN)\n",
    "    \n",
    "    numMAX = max(maxCases)\n",
    "    numMIN = min(minCases)\n",
    "    \n",
    "    return numMAX, numMIN"
   ]
  },
  {
   "cell_type": "markdown",
   "metadata": {},
   "source": [
    "## 2. Data\n",
    "An important aspect of data analysis, is to examine the contents of the data we will be working with. Our data in this notebook will be represented in the form of a table. \n",
    "1. Each row represents an instance or record.\n",
    "2. Each column is a different feature of that particular instance/record."
   ]
  },
  {
   "cell_type": "markdown",
   "metadata": {},
   "source": [
    "In this case:\n",
    "\n",
    "1. Each represents a recorder day. In each of those days several values were acquired, all displayed in columns.\n",
    "2. These columns contain information on the number of cases recorded on that specific day, the number of deaths due to Covid-19."
   ]
  },
  {
   "cell_type": "code",
   "execution_count": null,
   "metadata": {},
   "outputs": [],
   "source": [
    "# ---------RUN THIS CELL TO LOAD YOUR DATA!--------\n",
    "\n",
    "# this loads your data into a pandas dataframe (table)\n",
    "file_data = '../../data/US_counties_COVID19_health_weather_data.csv.zip'\n",
    "data = pd.read_csv(file_data)\n",
    "\n",
    "# cleaning data \n",
    "data = data[data.state != 'Virgin Islands']\n",
    "data = data[data.state != 'Northern Mariana Islands']"
   ]
  },
  {
   "cell_type": "markdown",
   "metadata": {},
   "source": [
    "## 2.1 What is in this dataset?\n",
    "The data we present to you today depicts COVID-19 data recorded each day at various counties from US states.\n",
    "\n",
    "Don't worry we won't have you analyzing every single state. Just California!"
   ]
  },
  {
   "cell_type": "markdown",
   "metadata": {},
   "source": [
    "**To give you an idea of how the data looks like, run the cell below.**\n",
    "\n",
    "*Note: The method `head()` shows you the first 5 rows in the loaded dataset*"
   ]
  },
  {
   "cell_type": "code",
   "execution_count": null,
   "metadata": {},
   "outputs": [],
   "source": [
    "# RUN THIS CELL TO TAKE A PEEK AT THE DATA\n",
    "data.head()"
   ]
  },
  {
   "cell_type": "markdown",
   "metadata": {},
   "source": [
    "#### What is being displayed above?\n",
    "As mentioned previously each row is a recorded day.\n",
    "We see here that the first day on record is January 21st, 2020. Furthermore:\n",
    "- The data on the first row is from the county of Snohormish\n",
    "- This county is located in the state of Washington.\n",
    "\n",
    "In the next cells we will reduce the data size to only include information about the state of california and its counties."
   ]
  },
  {
   "cell_type": "markdown",
   "metadata": {},
   "source": [
    "## 3. California"
   ]
  },
  {
   "cell_type": "markdown",
   "metadata": {},
   "source": [
    "In the cell below write the name of the state of California next to the variable `myState`, in place of the `# YOUR CODE HERE`. Make sure you do not abbreviate, and you this variable is a string."
   ]
  },
  {
   "cell_type": "code",
   "execution_count": null,
   "metadata": {},
   "outputs": [],
   "source": [
    "myState = 'California'# YOUR CODE HERE"
   ]
  },
  {
   "cell_type": "markdown",
   "metadata": {},
   "source": [
    "Double-click __here__ for the solution.\n",
    "\n",
    "<!-- Your answer is below:\n",
    "\n",
    "myState= 'California'\n",
    "\n",
    "-->"
   ]
  },
  {
   "cell_type": "markdown",
   "metadata": {},
   "source": [
    "#### What counties are present in the data?"
   ]
  },
  {
   "cell_type": "code",
   "execution_count": null,
   "metadata": {
    "scrolled": true
   },
   "outputs": [],
   "source": [
    "# RUN THIS CELL TO FIND OUT\n",
    "CA_data = data[data['state'] == myState]\n",
    "CAcounties = np.unique(CA_data['county'])\n",
    "\n",
    "countyDF = pd.DataFrame()\n",
    "countyDF['Counties in this State'] = CAcounties\n",
    "countyDF"
   ]
  },
  {
   "cell_type": "markdown",
   "metadata": {},
   "source": [
    "## 4. Select your County\n",
    "Type the string value of your county below. This string should be `myCounty` variable. This is case sensitive."
   ]
  },
  {
   "cell_type": "code",
   "execution_count": null,
   "metadata": {},
   "outputs": [],
   "source": [
    "myCounty =  # YOUR CODE HERE"
   ]
  },
  {
   "cell_type": "markdown",
   "metadata": {},
   "source": [
    "Double-click __here__ for the solution.\n",
    "\n",
    "<!-- Your answer is below:\n",
    "\n",
    "(Assuming your county is Alameda)\n",
    "myCounty= 'Alameda'\n",
    "\n",
    "-->"
   ]
  },
  {
   "cell_type": "markdown",
   "metadata": {},
   "source": [
    "## 5. How has COVID-19 affected your selected location?\n",
    "Note that the dates below run from mid-March to early December of 2020.\n",
    "\n",
    "*Note that the graph to be displayed below only shows the data of your county after the 25th COVID-19 infection, all the way to the 400,000th case*."
   ]
  },
  {
   "cell_type": "code",
   "execution_count": null,
   "metadata": {
    "scrolled": true
   },
   "outputs": [],
   "source": [
    "CA_simplified = CA_data[['date', 'county', 'cases']]\n",
    "CA_simplified = CA_simplified[(CA_simplified['cases'] >= 25) & (CA_simplified['cases'] <= 400000)]"
   ]
  },
  {
   "cell_type": "code",
   "execution_count": null,
   "metadata": {},
   "outputs": [],
   "source": [
    "CA_county = CA_simplified.groupby('county')\n",
    "yourCounty = CA_county.get_group(myCounty)\n",
    "yourCounty['Days since 25th Case'] = np.arange(len(yourCounty))\n",
    "yourCounty = yourCounty.sample(50) # only sampling 50 data points\n",
    "yourCounty = yourCounty.sort_index(axis=0)"
   ]
  },
  {
   "cell_type": "code",
   "execution_count": null,
   "metadata": {},
   "outputs": [],
   "source": [
    "f, a = plt.subplots(figsize=(10,8))\n",
    "yourCounty.plot(x='Days since 25th Case', y = 'cases',\n",
    "               kind='scatter', legend='county', ax = a,\n",
    "               s = 15.0, color='red')\n",
    "plt.xticks(size=13)\n",
    "plt.yticks(size=13)\n",
    "plt.xlabel(xlabel='Days since 25th Case', fontsize=20)\n",
    "plt.ylabel(ylabel='Cases', fontsize=20)\n",
    "title = myState + ' Covid-19 cases for ' + myCounty + ' County'\n",
    "plt.title(title, fontsize=20)\n",
    "plt.axhline(y=25, color='blue', linestyle='--')\n",
    "plt.legend(['y = 25 Cases', 'Cases Recorded on given Day'],\n",
    "          prop={'size': 15})"
   ]
  },
  {
   "cell_type": "markdown",
   "metadata": {},
   "source": [
    "## 6. Exercise\n",
    "1. Fit the $x,y$ coordinates from the graph displayed above to fit this data into Desmos.\n",
    "    1. First run the cell below to obtain the .csv file.\n",
    "    2. Download it, and copy paste the coordinates into Desmos.\n",
    "    3. Once you have finished come back to this notebook to answer the questions below."
   ]
  },
  {
   "cell_type": "code",
   "execution_count": null,
   "metadata": {},
   "outputs": [],
   "source": [
    "# RUN THIS CELL TO SAVE YOUR CSV of X,Y coordinates\n",
    "yourCounty = yourCounty[['Days since 25th Case', 'cases']]\n",
    "fileName = '../../data/myCSVS/CA_' + myCounty + '_cases.csv'\n",
    "yourCounty.to_csv(fileName)"
   ]
  },
  {
   "cell_type": "markdown",
   "metadata": {},
   "source": [
    "### Questions:\n",
    "1. What is the function that best approximates your data?\n",
    "2. What do you think is the aspect of the change of slope in the data?\n",
    "3. Why don't you think the graph is a uniform increase or decrease?"
   ]
  },
  {
   "cell_type": "markdown",
   "metadata": {},
   "source": [
    "*Click on the cell (markdown) below to write your answers below.*"
   ]
  },
  {
   "cell_type": "markdown",
   "metadata": {},
   "source": [
    "### Your answers here:\n",
    "\n",
    "1.\n",
    "\n",
    "\n",
    "2.\n",
    "\n",
    "\n",
    "3.\n",
    "\n"
   ]
  },
  {
   "cell_type": "markdown",
   "metadata": {},
   "source": [
    "## Congratulations, you have completed your first data analysis exercise!\n",
    "\n",
    "Now that you are done, make sure you save your work (**after you have made a copy**) of this colab notebook in your google drive folder. "
   ]
  }
 ],
 "metadata": {
  "kernelspec": {
   "display_name": "Python 3",
   "language": "python",
   "name": "python3"
  },
  "language_info": {
   "codemirror_mode": {
    "name": "ipython",
    "version": 3
   },
   "file_extension": ".py",
   "mimetype": "text/x-python",
   "name": "python",
   "nbconvert_exporter": "python",
   "pygments_lexer": "ipython3",
   "version": "3.7.3"
  }
 },
 "nbformat": 4,
 "nbformat_minor": 2
}
