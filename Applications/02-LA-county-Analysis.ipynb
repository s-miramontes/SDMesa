{
 "cells": [
  {
   "cell_type": "code",
   "execution_count": 1,
   "metadata": {},
   "outputs": [],
   "source": [
    "# RUN THIS CELL TO IMPORT THE NECESSARY LIBRARIES\n",
    "import warnings\n",
    "warnings.simplefilter(action='ignore', category=FutureWarning)\n",
    "import pandas as pd\n",
    "import numpy as np\n",
    "import seaborn as sns\n",
    "import os\n",
    "import us\n",
    "import glob\n",
    "import matplotlib.pyplot as plt\n",
    "from datetime import datetime\n",
    "\n",
    "import warnings\n",
    "warnings.filterwarnings('ignore')"
   ]
  },
  {
   "cell_type": "markdown",
   "metadata": {},
   "source": [
    "# The effects of 'Stay at Home Orders' on COVID-19 transmission\n",
    "Now that you have been more acquainted with Python, and have succesfully completed your first data-immersed math exercise, let's do something a bit more informative. Here we will explore how the number of recorded COVID-19 cases fluctuate as a result of the 'stay at home orders' effective in CA."
   ]
  },
  {
   "cell_type": "markdown",
   "metadata": {},
   "source": [
    "## 1. Let's load California Data"
   ]
  },
  {
   "cell_type": "code",
   "execution_count": 7,
   "metadata": {
    "scrolled": true
   },
   "outputs": [
    {
     "data": {
      "text/html": [
       "<div>\n",
       "<style scoped>\n",
       "    .dataframe tbody tr th:only-of-type {\n",
       "        vertical-align: middle;\n",
       "    }\n",
       "\n",
       "    .dataframe tbody tr th {\n",
       "        vertical-align: top;\n",
       "    }\n",
       "\n",
       "    .dataframe thead th {\n",
       "        text-align: right;\n",
       "    }\n",
       "</style>\n",
       "<table border=\"1\" class=\"dataframe\">\n",
       "  <thead>\n",
       "    <tr style=\"text-align: right;\">\n",
       "      <th></th>\n",
       "      <th>date</th>\n",
       "      <th>county</th>\n",
       "      <th>state</th>\n",
       "      <th>fips</th>\n",
       "      <th>cases</th>\n",
       "      <th>deaths</th>\n",
       "      <th>stay_at_home_announced</th>\n",
       "      <th>stay_at_home_effective</th>\n",
       "      <th>lat</th>\n",
       "      <th>lon</th>\n",
       "      <th>...</th>\n",
       "      <th>min_temp_5d_avg</th>\n",
       "      <th>min_temp_10d_avg</th>\n",
       "      <th>min_temp_15d_avg</th>\n",
       "      <th>dewpoint_3d_avg</th>\n",
       "      <th>dewpoint_5d_avg</th>\n",
       "      <th>dewpoint_10d_avg</th>\n",
       "      <th>dewpoint_15d_avg</th>\n",
       "      <th>date_stay_at_home_announced</th>\n",
       "      <th>date_stay_at_home_effective</th>\n",
       "      <th>stay_at_home_effective_bool</th>\n",
       "    </tr>\n",
       "  </thead>\n",
       "  <tbody>\n",
       "    <tr>\n",
       "      <th>0</th>\n",
       "      <td>2020-03-07</td>\n",
       "      <td>Santa Clara</td>\n",
       "      <td>California</td>\n",
       "      <td>6085</td>\n",
       "      <td>32</td>\n",
       "      <td>0.0</td>\n",
       "      <td>no</td>\n",
       "      <td>no</td>\n",
       "      <td>37.231795</td>\n",
       "      <td>-121.695141</td>\n",
       "      <td>...</td>\n",
       "      <td>NaN</td>\n",
       "      <td>NaN</td>\n",
       "      <td>NaN</td>\n",
       "      <td>NaN</td>\n",
       "      <td>NaN</td>\n",
       "      <td>NaN</td>\n",
       "      <td>NaN</td>\n",
       "      <td>2020-03-19</td>\n",
       "      <td>2020-03-19</td>\n",
       "      <td>0</td>\n",
       "    </tr>\n",
       "    <tr>\n",
       "      <th>1</th>\n",
       "      <td>2020-03-08</td>\n",
       "      <td>Santa Clara</td>\n",
       "      <td>California</td>\n",
       "      <td>6085</td>\n",
       "      <td>37</td>\n",
       "      <td>0.0</td>\n",
       "      <td>no</td>\n",
       "      <td>no</td>\n",
       "      <td>37.231795</td>\n",
       "      <td>-121.695141</td>\n",
       "      <td>...</td>\n",
       "      <td>50.36</td>\n",
       "      <td>49.10</td>\n",
       "      <td>48.680000</td>\n",
       "      <td>44.200000</td>\n",
       "      <td>44.78</td>\n",
       "      <td>44.57</td>\n",
       "      <td>42.566667</td>\n",
       "      <td>2020-03-19</td>\n",
       "      <td>2020-03-19</td>\n",
       "      <td>0</td>\n",
       "    </tr>\n",
       "    <tr>\n",
       "      <th>2</th>\n",
       "      <td>2020-03-09</td>\n",
       "      <td>Santa Clara</td>\n",
       "      <td>California</td>\n",
       "      <td>6085</td>\n",
       "      <td>43</td>\n",
       "      <td>1.0</td>\n",
       "      <td>no</td>\n",
       "      <td>no</td>\n",
       "      <td>37.231795</td>\n",
       "      <td>-121.695141</td>\n",
       "      <td>...</td>\n",
       "      <td>50.36</td>\n",
       "      <td>49.82</td>\n",
       "      <td>48.440000</td>\n",
       "      <td>43.100000</td>\n",
       "      <td>45.08</td>\n",
       "      <td>45.32</td>\n",
       "      <td>42.373333</td>\n",
       "      <td>2020-03-19</td>\n",
       "      <td>2020-03-19</td>\n",
       "      <td>0</td>\n",
       "    </tr>\n",
       "    <tr>\n",
       "      <th>3</th>\n",
       "      <td>2020-03-10</td>\n",
       "      <td>Alameda</td>\n",
       "      <td>California</td>\n",
       "      <td>6001</td>\n",
       "      <td>25</td>\n",
       "      <td>0.0</td>\n",
       "      <td>no</td>\n",
       "      <td>no</td>\n",
       "      <td>37.646960</td>\n",
       "      <td>-121.888767</td>\n",
       "      <td>...</td>\n",
       "      <td>42.46</td>\n",
       "      <td>43.83</td>\n",
       "      <td>42.753333</td>\n",
       "      <td>42.233333</td>\n",
       "      <td>42.96</td>\n",
       "      <td>44.05</td>\n",
       "      <td>42.340000</td>\n",
       "      <td>2020-03-19</td>\n",
       "      <td>2020-03-19</td>\n",
       "      <td>0</td>\n",
       "    </tr>\n",
       "    <tr>\n",
       "      <th>4</th>\n",
       "      <td>2020-03-10</td>\n",
       "      <td>Santa Clara</td>\n",
       "      <td>California</td>\n",
       "      <td>6085</td>\n",
       "      <td>45</td>\n",
       "      <td>1.0</td>\n",
       "      <td>no</td>\n",
       "      <td>no</td>\n",
       "      <td>37.231795</td>\n",
       "      <td>-121.695141</td>\n",
       "      <td>...</td>\n",
       "      <td>49.64</td>\n",
       "      <td>50.00</td>\n",
       "      <td>48.080000</td>\n",
       "      <td>44.800000</td>\n",
       "      <td>45.08</td>\n",
       "      <td>45.48</td>\n",
       "      <td>42.500000</td>\n",
       "      <td>2020-03-19</td>\n",
       "      <td>2020-03-19</td>\n",
       "      <td>0</td>\n",
       "    </tr>\n",
       "  </tbody>\n",
       "</table>\n",
       "<p>5 rows × 228 columns</p>\n",
       "</div>"
      ],
      "text/plain": [
       "         date       county       state  fips  cases  deaths  \\\n",
       "0  2020-03-07  Santa Clara  California  6085     32     0.0   \n",
       "1  2020-03-08  Santa Clara  California  6085     37     0.0   \n",
       "2  2020-03-09  Santa Clara  California  6085     43     1.0   \n",
       "3  2020-03-10      Alameda  California  6001     25     0.0   \n",
       "4  2020-03-10  Santa Clara  California  6085     45     1.0   \n",
       "\n",
       "  stay_at_home_announced stay_at_home_effective        lat         lon  ...  \\\n",
       "0                     no                     no  37.231795 -121.695141  ...   \n",
       "1                     no                     no  37.231795 -121.695141  ...   \n",
       "2                     no                     no  37.231795 -121.695141  ...   \n",
       "3                     no                     no  37.646960 -121.888767  ...   \n",
       "4                     no                     no  37.231795 -121.695141  ...   \n",
       "\n",
       "   min_temp_5d_avg  min_temp_10d_avg  min_temp_15d_avg  dewpoint_3d_avg  \\\n",
       "0              NaN               NaN               NaN              NaN   \n",
       "1            50.36             49.10         48.680000        44.200000   \n",
       "2            50.36             49.82         48.440000        43.100000   \n",
       "3            42.46             43.83         42.753333        42.233333   \n",
       "4            49.64             50.00         48.080000        44.800000   \n",
       "\n",
       "   dewpoint_5d_avg  dewpoint_10d_avg  dewpoint_15d_avg  \\\n",
       "0              NaN               NaN               NaN   \n",
       "1            44.78             44.57         42.566667   \n",
       "2            45.08             45.32         42.373333   \n",
       "3            42.96             44.05         42.340000   \n",
       "4            45.08             45.48         42.500000   \n",
       "\n",
       "   date_stay_at_home_announced  date_stay_at_home_effective  \\\n",
       "0                   2020-03-19                   2020-03-19   \n",
       "1                   2020-03-19                   2020-03-19   \n",
       "2                   2020-03-19                   2020-03-19   \n",
       "3                   2020-03-19                   2020-03-19   \n",
       "4                   2020-03-19                   2020-03-19   \n",
       "\n",
       "   stay_at_home_effective_bool  \n",
       "0                            0  \n",
       "1                            0  \n",
       "2                            0  \n",
       "3                            0  \n",
       "4                            0  \n",
       "\n",
       "[5 rows x 228 columns]"
      ]
     },
     "execution_count": 7,
     "metadata": {},
     "output_type": "execute_result"
    }
   ],
   "source": [
    "# RUN THIS CELL TO LOAD DATA!\n",
    "new_data= pd.read_csv('../../data/CA_data.csv')\n",
    "new_data = new_data.drop(columns=['Unnamed: 0'])\n",
    "new_data.head()"
   ]
  },
  {
   "cell_type": "markdown",
   "metadata": {},
   "source": [
    "Note the many components in this dataset. As opposed to the curated data we have many more columns (228 to be exact) which contain a lot of information."
   ]
  },
  {
   "cell_type": "markdown",
   "metadata": {},
   "source": [
    "## 2. Let's Explore Los Angeles\n",
    "We will now study a very specific county: Los Angeles. In particular, we want to see whether or not the effects of 'stay at home orders' affect the number of cases. If not, why could that be?"
   ]
  },
  {
   "cell_type": "code",
   "execution_count": 8,
   "metadata": {},
   "outputs": [],
   "source": [
    "# RUN THIS CELL (our county of interest)\n",
    "myCounty = 'Los Angeles' "
   ]
  },
  {
   "cell_type": "code",
   "execution_count": 9,
   "metadata": {},
   "outputs": [],
   "source": [
    "# RUN THIS CELL (this simplifies the data to your selected county)\n",
    "CA_county = new_data.groupby('county')\n",
    "yourCounty = CA_county.get_group(myCounty)\n",
    "yourCounty['Days since 25th Case'] = np.arange(len(yourCounty))"
   ]
  },
  {
   "cell_type": "code",
   "execution_count": 24,
   "metadata": {
    "scrolled": false
   },
   "outputs": [],
   "source": [
    "# RUN THIS CELL (getting dates when stay at home was effective)\n",
    "yes = yourCounty.index[yourCounty['stay_at_home_effective'] == 'yes']\n",
    "no = yourCounty.index[yourCounty['stay_at_home_effective'] == 'no']"
   ]
  },
  {
   "cell_type": "markdown",
   "metadata": {},
   "source": [
    "## 3. What dates should we consider?\n",
    "\n",
    "Well, we can make the initial assumption that cases should automatically go down after the stay at home order is effective. This can lead to less contact between individuals, therefore decreasing the chances of transmission, right?\n",
    "\n",
    "**However**\n",
    "- What if the people in the county do not follow orders?\n",
    "- What potential causes in the county could lead to the changes in numbers?\n",
    "- Is there a particular ocurrence that may lead to the increase in numbers?\n",
    "\n",
    "Below we have 4 vertical lines plotted:\n",
    "1. The first one marks the start of the stay at home order.\n",
    "2. The 2nd-4th mark 'Mysterious dates' that occured at specific points in the data in which the recorded cases of COVID-19 increased/decreased."
   ]
  },
  {
   "cell_type": "code",
   "execution_count": 64,
   "metadata": {
    "scrolled": true
   },
   "outputs": [],
   "source": [
    "xval_start = yourCounty.loc[yes[0]]['Days since 25th Case']\n",
    "xval_date1 = yourCounty.loc[yourCounty['Days since 25th Case'] == 115]['Days since 25th Case'].values[0]\n",
    "xval_date2 = yourCounty.loc[yourCounty['Days since 25th Case'] == 180]['Days since 25th Case'].values[0]\n",
    "xval_date3 = yourCounty.loc[yourCounty['Days since 25th Case'] == 235]['Days since 25th Case'].values[0]"
   ]
  },
  {
   "cell_type": "code",
   "execution_count": 65,
   "metadata": {},
   "outputs": [
    {
     "data": {
      "text/plain": [
       "<matplotlib.legend.Legend at 0x7fd8769ad4e0>"
      ]
     },
     "execution_count": 65,
     "metadata": {},
     "output_type": "execute_result"
    },
    {
     "data": {
      "image/png": "[encoded data removed]",
      "text/plain": [
       "<Figure size 720x576 with 1 Axes>"
      ]
     },
     "metadata": {
      "needs_background": "light"
     },
     "output_type": "display_data"
    }
   ],
   "source": [
    "f, a = plt.subplots(figsize=(10,8))\n",
    "yourCounty.plot(x='Days since 25th Case', y = 'cases',\n",
    "               kind='scatter', legend='county', ax = a,\n",
    "               s = 15.0, color='red')\n",
    "plt.xticks(size=13)\n",
    "plt.yticks(size=13)\n",
    "plt.xlabel(xlabel='Days since 25th Case', fontsize=20)\n",
    "plt.ylabel(ylabel='Cases', fontsize=20)\n",
    "title = 'California' + ' Covid-19 cases for ' + myCounty + ' County'\n",
    "plt.title(title, fontsize=20)\n",
    "plt.axhline(y=25, color='blue', linestyle='--')\n",
    "plt.axvline(x=xval_start, color='orange', linestyle='--')\n",
    "plt.axvline(x=xval_date1, color = 'green', linestyle='--')\n",
    "plt.axvline(x=xval_date2, color= 'purple', linestyle='--')\n",
    "plt.axvline(x=xval_date3, color='pink', linestyle = '--')\n",
    "plt.legend(['y = 25 Cases', 'Stay at home order effective', \n",
    "            'Mysterious Date #1', 'Mysterious Date #2'],\n",
    "          prop={'size': 15})"
   ]
  },
  {
   "cell_type": "markdown",
   "metadata": {},
   "source": [
    "## 4. What can these vertical lines tell us about this data?\n",
    "We do not expect you to give us the exact date of these fluctuations in cases. \n",
    "- Notice how on the first green line there is a steady increase in the number of cases.\n",
    "\n",
    "### Let's answer some questions:\n",
    "1. Why do you think the curve flattens once we get to the purplue line\n",
    "2. What could have possibly led to an increase on the number of cases? \n",
    "3. What about the rapid increase in cases in the pink line?"
   ]
  },
  {
   "cell_type": "markdown",
   "metadata": {},
   "source": [
    "**Your answers here:**\n",
    "\n",
    "1.\n",
    "\n",
    "2.\n",
    "\n",
    "3."
   ]
  },
  {
   "cell_type": "markdown",
   "metadata": {},
   "source": [
    "## 5. Let's find out the actual dates, shall we?\n",
    "\n",
    "The days on which the vertical lines were drawn are as follows:\n",
    "1. Green line: Day #115 (after the 25th case was recorded in this county)\n",
    "2. Purple line: Day #180 (after the 25th case was recorded in this county)\n",
    "3. Pink line: Day #235 (after the 25th case was recorded in this county)\n",
    "\n",
    "Now, to see the year date in which these dramatic changes on the number of cases ocurred you will insert the day number next to the variable `dayNumber` as an integer in the cell below."
   ]
  },
  {
   "cell_type": "code",
   "execution_count": 67,
   "metadata": {},
   "outputs": [],
   "source": [
    "# place your number here!\n",
    "dayNumber = 235 # YOUR CODE HERE"
   ]
  },
  {
   "cell_type": "code",
   "execution_count": 68,
   "metadata": {
    "scrolled": true
   },
   "outputs": [
    {
     "data": {
      "text/plain": [
       "10629    2020-11-01\n",
       "Name: date, dtype: object"
      ]
     },
     "execution_count": 68,
     "metadata": {},
     "output_type": "execute_result"
    }
   ],
   "source": [
    "date = yourCounty[yourCounty['Days since 25th Case'] == dayNumber]['date']\n",
    "date"
   ]
  },
  {
   "cell_type": "markdown",
   "metadata": {},
   "source": [
    "### Some more questions\n",
    "1. What are the dates that you extracted above?\n",
    "2. Does this verify your assumptions in question 4?\n",
    "3. What is your conclusion from this analysis?"
   ]
  },
  {
   "cell_type": "markdown",
   "metadata": {},
   "source": [
    "**Your answers here**\n",
    "\n",
    "1.\n",
    "\n",
    "2.\n",
    "\n",
    "3."
   ]
  },
  {
   "cell_type": "markdown",
   "metadata": {},
   "source": [
    "## Congratulations! You've completed your second and final python data analysis for COVID-19 data!!"
   ]
  }
 ],
 "metadata": {
  "kernelspec": {
   "display_name": "Python 3",
   "language": "python",
   "name": "python3"
  },
  "language_info": {
   "codemirror_mode": {
    "name": "ipython",
    "version": 3
   },
   "file_extension": ".py",
   "mimetype": "text/x-python",
   "name": "python",
   "nbconvert_exporter": "python",
   "pygments_lexer": "ipython3",
   "version": "3.7.3"
  }
 },
 "nbformat": 4,
 "nbformat_minor": 2
}
