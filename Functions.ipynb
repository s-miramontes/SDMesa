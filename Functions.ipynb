{
 "cells": [
  {
   "cell_type": "code",
   "execution_count": 1,
   "id": "0cd1e643",
   "metadata": {
    "scrolled": true
   },
   "outputs": [],
   "source": [
    "# RUN THIS CELL\n",
    "import numpy as np\n",
    "import matplotlib.pyplot as plt"
   ]
  },
  {
   "cell_type": "markdown",
   "id": "ba604a69",
   "metadata": {},
   "source": [
    "# Before you start."
   ]
  },
  {
   "cell_type": "markdown",
   "id": "5cd3269d",
   "metadata": {},
   "source": [
    "### x-values and y-values\n",
    "- `np.linspace` will establish the range of x-values to utilize for each of the plots used below.\n",
    "- `dom_#` will denote the domain of function.\n",
    "- `y_#` will define the function we use below. \n",
    "- `range_#` will denote the range of the function plotted."
   ]
  },
  {
   "cell_type": "markdown",
   "id": "76f0349b",
   "metadata": {},
   "source": [
    "#  Functions: Domain and Range\n",
    "\n",
    "As you saw in class, there are various families of functions. \n",
    "\n",
    "In this notebbook we will go over key take aways from each of these functions. We will also be plotting and defining:\n",
    "\n",
    "- Domain and Range\n",
    "- Increasing/Decreasing \n",
    "- Asymptotic Behavior\n",
    "- Root identification\n",
    "\n",
    "<img src=\"https://upload.wikimedia.org/wikipedia/commons/3/3b/Function_machine2.svg\"/>\n",
    "\n",
    "source: wiki"
   ]
  },
  {
   "cell_type": "markdown",
   "id": "0951a0cb",
   "metadata": {},
   "source": [
    "# Review"
   ]
  },
  {
   "cell_type": "markdown",
   "id": "7d88ce98",
   "metadata": {},
   "source": [
    "### Domain and Range\n",
    "> **Domain:** A function $f$ from $X$ to $Y$. The red oval $X$ is the domain of $f$.\n",
    "\n",
    "> **Range**: A function $f$ from $X$ to $Y$. The blue oval $Y$ is the codomain of $f$. The yellow oval inside $Y$ is the image of $f$.\n",
    "\n",
    "<img src=\"https://upload.wikimedia.org/wikipedia/commons/6/64/Codomain2.SVG\"/>\n",
    "\n",
    "source: wiki"
   ]
  },
  {
   "cell_type": "markdown",
   "id": "515f854b",
   "metadata": {},
   "source": [
    "## 0. Constant Function\n",
    "Recall that a constant function is a function whose (output) value is the same for every input value.\n",
    "These types of functions are presented in the form of:\n",
    "\n",
    "$$f(x) = c$$\n",
    "\n",
    "Where $c$ is a constant, and $c$ $\\in \\mathbb{R}$."
   ]
  },
  {
   "cell_type": "markdown",
   "id": "764aaed2",
   "metadata": {},
   "source": [
    "### Question 0.1\n",
    "In the cell below type the domain and range for the constant function $f(x) = 4$."
   ]
  },
  {
   "cell_type": "markdown",
   "id": "46077039",
   "metadata": {},
   "source": [
    "YOUR ANSWER HERE\n",
    "- Domain: \n",
    "\n",
    "- Range: "
   ]
  },
  {
   "cell_type": "markdown",
   "id": "c0eca1a6",
   "metadata": {},
   "source": [
    "### Plotting"
   ]
  },
  {
   "cell_type": "code",
   "execution_count": null,
   "id": "52042135",
   "metadata": {},
   "outputs": [],
   "source": [
    "# RUN THIS CELL\n",
    "def constant_function(c, xlim_1=0, xlim_2=5, ylim_1=0, ylim_2=5, color='red'):\n",
    "    '''\n",
    "    Graphing Constant Functions\n",
    "    \n",
    "    Inputs\n",
    "    ---------\n",
    "        c:      constant value to plot\n",
    "        \n",
    "        xlim_1: [OPTIONAL]\n",
    "                Min x-limit to be plotted and seen in plot.\n",
    "                Default is set to 0.\n",
    "                \n",
    "        xlim_2: [OPTIONAL]\n",
    "                Max x-limit to be plotted and seen in plot.\n",
    "                Default is set to 5.\n",
    "        \n",
    "        ylim_1: [OPTIONAL]\n",
    "                Min y-limit to be plotted and seen in plot\n",
    "                Default is set to 0.\n",
    "                \n",
    "        ylim_2: [OPTIONAL]\n",
    "                Max y-limit to be plotted and seen in plot\n",
    "                Default is set to 5.\n",
    "                \n",
    "        color:  [OPTIONAL]\n",
    "                plot line color, default is 'r' (red)\n",
    "                this is a keyword argument and can be\n",
    "                changed.\n",
    "    \n",
    "    Outputs\n",
    "    -------\n",
    "        No value returned but only the displayed plot.\n",
    "        \n",
    "    '''\n",
    "    \n",
    "    # setting up graph x and y limits displayed\n",
    "    plt.xlim(xlim_1,xlim_2)\n",
    "    plt.ylim(ylim_1,ylim_2)\n",
    "    \n",
    "    # method to plot a horizontal line y=c\n",
    "    plt.hlines(c, xlim_1, xlim_2, color=color)\n",
    "    \n",
    "    # setting up the title \n",
    "    plt.title(\"f(x) = \" + str(c))\n",
    "    plt.show()\n",
    "    \n",
    "    return"
   ]
  },
  {
   "cell_type": "markdown",
   "id": "9769df79",
   "metadata": {},
   "source": [
    "We have created a python function that plots constant functions for you. The function is called `constant function`. This takes in *6* arguments in the order we define below. \n",
    "\n",
    "**Note: All keyword parameters (xlim_1, xlim_2, ylim_1, ylim_2, color) are all optional and may not need to be edited unless asked.**\n",
    "\n",
    "1. $c$ value\n",
    "2. `xlim_1` lowest x-value to display in graph\n",
    "3. `xlim_2` highest x-value to display in graph\n",
    "4. `ylim_1` lowest y-value to display in graph\n",
    "5. `ylim_2` highest y-value to display in graph\n",
    "6. `color` your color of choice (default is `r` for red) [OPTIONAL]\n",
    "\n",
    "Note that `color` is what we call a keyword argument. If you want the line of the plot to be a different color other than 'red'. You must choose one of the following (type the letter inside quotation marks \"\"):\n",
    "\n",
    "- `\"b\"`: blue\n",
    "- `\"g\"`: green\n",
    "- `\"r\"`: red\n",
    "- `\"c\"`: cyan\n",
    "- `\"m\"`: magenta\n",
    "- `\"y\"`: yellow\n",
    "- `\"k\"`: black\n",
    "- `\"w\"`: white\n",
    "\n",
    "### An example for you:"
   ]
  },
  {
   "cell_type": "code",
   "execution_count": null,
   "id": "aa26f4b9",
   "metadata": {
    "scrolled": true
   },
   "outputs": [],
   "source": [
    "# Plotting f(x)=2, xlim_1 = -10, xlim_2 = 10, ylim_1=0, ylim_2=10, color='b' (For blue)\n",
    "constant_function(2, xlim_1= -10,xlim_2= 10, ylim_1= 0, ylim_2= 10, color=\"b\")"
   ]
  },
  {
   "cell_type": "markdown",
   "id": "37cd0f04",
   "metadata": {},
   "source": [
    "### Question 0.2 \n",
    "Your turn! Plot the function $f(x)=3$ where the `xlim_1` = -5, `xlim_2` = 5, `ylim_1`=0, `ylim_2` = 5, and the `color` is green (see how you need to type the colors in the description of the function above."
   ]
  },
  {
   "cell_type": "code",
   "execution_count": null,
   "id": "0a6b74ee",
   "metadata": {
    "scrolled": true
   },
   "outputs": [],
   "source": [
    "# change C for the correc 'c' and fill in \n",
    "# the rest of the arguments appropriately.\n",
    "\n",
    "constant_function(C,xlim_1=, xlim_2=, ylim_1=, ylim_2=, color=)"
   ]
  },
  {
   "cell_type": "markdown",
   "id": "b24eb97a",
   "metadata": {},
   "source": [
    "### Question 0.3\n",
    "Time to get creative! Plot one last constant function in which $c$ is whatever you want. Establish the graph x andy limits to whatever you like. Don't forget to pick a color different than red."
   ]
  },
  {
   "cell_type": "code",
   "execution_count": null,
   "id": "6a1d94f1",
   "metadata": {},
   "outputs": [],
   "source": [
    "# recall the order of arguments by looking at the examples above!\n",
    "constant_function()"
   ]
  },
  {
   "cell_type": "markdown",
   "id": "682d2e45",
   "metadata": {},
   "source": [
    "## 1. Linear Functions\n",
    "\n",
    "As you might have concluded, a linear function is actually a polynomial of degree one or less. Whent he function is of only one variable ($x$), it is of the form:\n",
    "\n",
    "$$f(x) = mx + b$$\n",
    "\n",
    "Where $m$ and $b$ are constants and $\\in \\mathbb{R}$.\n",
    "\n",
    "From your algebra courses recall that $m$ is the slope of the line, and $b$ the shift along the $y$ axis.\n",
    "\n",
    "See the graph of two linear functions below:\n",
    "\n",
    "<img src= \"https://upload.wikimedia.org/wikipedia/commons/0/0e/Linear_Function_Graph.svg\" />\n",
    "\n",
    "source: wiki"
   ]
  },
  {
   "cell_type": "markdown",
   "id": "eaed254e",
   "metadata": {},
   "source": [
    "### Plotting\n",
    "We have created a python function that plots linear functions for you. The function is called `linear function`. This takes in *7* arguments in the order we define below. \n",
    "\n",
    "1. $m$ slope value\n",
    "2. $b$ value\n",
    "2. `xlim_1` lowest x-value to display in graph, default = 0\n",
    "3. `xlim_2` highest x-value to display in graph, default = 5\n",
    "4. `ylim_1` lowest y-value to display in graph, default = 0\n",
    "5. `ylim_2` highest y-value to display in graph, default = 5\n",
    "6. `color` your color of choice (default is `r` for red) [OPTIONAL]\n",
    "\n",
    "**Note**: the colors available for this plot are the same as the graph above."
   ]
  },
  {
   "cell_type": "code",
   "execution_count": null,
   "id": "4a06c743",
   "metadata": {},
   "outputs": [],
   "source": [
    "def linear_function(m, b, xlim_1=0, xlim_2=5, ylim_1=0, ylim_2=5, color='r'):\n",
    "    '''\n",
    "    Function to graph linear functions.\n",
    "    \n",
    "    Inputs\n",
    "    -------\n",
    "        m:      m is the slope to be inputted\n",
    "        \n",
    "        b:      is the intercept to be inputted\n",
    "                \n",
    "        xlim_1: [OPTIONAL]\n",
    "                Min x-limit to be plotted and seen in plot.\n",
    "                Default is set to 0.\n",
    "                \n",
    "        xlim_2: [OPTIONAL]\n",
    "                Max x-limit to be plotted and seen in plot.\n",
    "                Default is set to 5.\n",
    "        \n",
    "        ylim_1: [OPTIONAL]\n",
    "                Min y-limit to be plotted and seen in plot\n",
    "                Default is set to 0.\n",
    "                \n",
    "        ylim_2: [OPTIONAL]\n",
    "                Max y-limit to be plotted and seen in plot\n",
    "                Default is set to 5.\n",
    "                \n",
    "        color:  [OPTIONAL]\n",
    "                plot line color, default is 'r' (red)\n",
    "                this is a keyword argument and can be\n",
    "                changed.\n",
    "    \n",
    "    Outputs\n",
    "    -------\n",
    "        No value returned but only the displayed plot.\n",
    "    '''\n",
    "    \n",
    "    # set of x values from xlim_1 and xlim_2 (100 points)\n",
    "    x = np.linspace(xlim_1, xlim_2, 100)\n",
    "    # actual y function\n",
    "    y = m * x + b\n",
    "    \n",
    "    # setting up x and y limits\n",
    "    plt.xlim(xlim_1, xlim_2)\n",
    "    plt.ylim(ylim_1, ylim_2)\n",
    "    \n",
    "    # plot title\n",
    "    plt.title('f(x)= ' + str(m) + 'x' + '+' +str(b))\n",
    "    \n",
    "    # actual plot\n",
    "    plt.plot(x, y, color=color)\n",
    "    plt.show()\n",
    "    \n",
    "    return"
   ]
  },
  {
   "cell_type": "markdown",
   "id": "3fca1a73",
   "metadata": {},
   "source": [
    "### Question 1.1\n",
    "In the cell below type the domain and range for the constant function $f(x) = -\\frac{1}{2}x + 2$."
   ]
  },
  {
   "cell_type": "markdown",
   "id": "336bd577",
   "metadata": {},
   "source": [
    "YOUR ANSWER HERE\n",
    "- Domain: \n",
    "\n",
    "- Range: "
   ]
  },
  {
   "cell_type": "markdown",
   "id": "7d797abc",
   "metadata": {},
   "source": [
    "### Question 1.2 \n",
    "\n",
    "Plot the linear function $f(x) = -\\frac{1}{2}x + 2$ with the default values for xlim_1, xlim_2, ylim_1, ylim_2. \n",
    "Pick any color you wish. "
   ]
  },
  {
   "cell_type": "code",
   "execution_count": null,
   "id": "f73dad95",
   "metadata": {
    "scrolled": true
   },
   "outputs": [],
   "source": [
    "# only need to include the values for m and b (substitute m and b below)\n",
    "# inlcude your selected color too\n",
    "\n",
    "linear_function(m, b, color=)"
   ]
  },
  {
   "cell_type": "markdown",
   "id": "d0eb8fe1",
   "metadata": {},
   "source": [
    "### Question 1.3\n",
    "\n",
    "Determine if the function is increasing or decreasing in $[0, 5]$. Fill your answer in the cell below."
   ]
  },
  {
   "cell_type": "markdown",
   "id": "29b416c0",
   "metadata": {},
   "source": [
    "YOUR ANSWER HERE\n",
    "\n"
   ]
  },
  {
   "cell_type": "markdown",
   "id": "ec10146e",
   "metadata": {},
   "source": [
    "### Question 1.4\n",
    "Find the roots for the function $f(x) = -\\frac{1}{2}x + 2$. Fill your answer in the cell below."
   ]
  },
  {
   "cell_type": "markdown",
   "id": "aa045fd9",
   "metadata": {},
   "source": [
    "YOUR ANSWER HERE"
   ]
  },
  {
   "cell_type": "markdown",
   "id": "d121dfd4",
   "metadata": {},
   "source": [
    "### Question 1.5\n",
    "Create your own linear function. Pick your $m$ and $b$. Establish your xlims, and ylims, as well as your color."
   ]
  },
  {
   "cell_type": "code",
   "execution_count": null,
   "id": "e1d68f13",
   "metadata": {},
   "outputs": [],
   "source": [
    "# substitute m and b below according to the function you wish you plot\n",
    "# don't forget about the graph limits you wish to display\n",
    "# pick your color\n",
    "\n",
    "linear_function(m,b, xlim_1=, xlim_2=, ylim_1=, ylim_2=, color=)"
   ]
  },
  {
   "cell_type": "markdown",
   "id": "aecc102e",
   "metadata": {},
   "source": [
    "### Question 1.6\n",
    "Identify the domain, range, and roots of the function you selected."
   ]
  },
  {
   "cell_type": "markdown",
   "id": "c6344e94",
   "metadata": {},
   "source": [
    "YOUR ANSWER HERE"
   ]
  },
  {
   "cell_type": "markdown",
   "id": "238fc083",
   "metadata": {},
   "source": [
    "## 2. Quadratic (n = 2) Functions\n",
    "Recall that a quadratic function is a polynomial of degree 2. Often presented in the form:\n",
    "\n",
    "$$f(x) = ax^2 + bx + c  ,  a\\neq 0$$\n",
    "\n",
    "and/or\n",
    "\n",
    "$$f(x) = ax^2, b=0 ,c =0$$\n",
    "\n",
    "Where coeffiecients $a$, $b$, and $c$ $\\in \\mathbb{R}$\n",
    "\n",
    "<img src=\"https://upload.wikimedia.org/wikipedia/commons/f/f8/Polynomialdeg2.svg\"/>\n",
    "\n",
    "source: wiki"
   ]
  },
  {
   "cell_type": "markdown",
   "id": "ccc97acc",
   "metadata": {},
   "source": [
    "### Plotting\n",
    "We have created a python function that plots linear functions for you. The function is called `linear function`. This takes in *8* arguments in the order we define below. \n",
    "\n",
    "1. $a$ coefficient value\n",
    "2. $b$ coefficient value\n",
    "3. $c$ coefficient value\n",
    "2. `xlim_1` lowest x-value to display in graph, default = -5\n",
    "3. `xlim_2` highest x-value to display in graph, default = 5\n",
    "4. `ylim_1` lowest y-value to display in graph, default = -5\n",
    "5. `ylim_2` highest y-value to display in graph, default = 5\n",
    "6. `color` your color of choice (default is `r` for red) [OPTIONAL]\n",
    "\n",
    "**Note**: the colors available for this plot are the same as the graph above. When plotting this graph, if the coefficients you select for $b$ and $c$ are zero, you must type that in your arguments."
   ]
  },
  {
   "cell_type": "code",
   "execution_count": null,
   "id": "e17e0abd",
   "metadata": {},
   "outputs": [],
   "source": [
    "def quadratic_function(a, b, c, xlim_1= -5, xlim_2=5, ylim_1=-5, ylim_2=5, color='r'):\n",
    "    \n",
    "    '''\n",
    "    Function to graph quadratics.\n",
    "    \n",
    "    Inputs\n",
    "    -------\n",
    "        a:      a coefficient for quadratic functions\n",
    "        b:      b coefficient for quadratic functions\n",
    "        c:      c coefficient for quadratic functions\n",
    "                \n",
    "        xlim_1: [OPTIONAL]\n",
    "                Min x-limit to be plotted and seen in plot.\n",
    "                Default is set to -5.\n",
    "                \n",
    "        xlim_2: [OPTIONAL]\n",
    "                Max x-limit to be plotted and seen in plot.\n",
    "                Default is set to 5.\n",
    "        \n",
    "        ylim_1: [OPTIONAL]\n",
    "                Min y-limit to be plotted and seen in plot\n",
    "                Default is set to -5.\n",
    "                \n",
    "        ylim_2: [OPTIONAL]\n",
    "                Max y-limit to be plotted and seen in plot\n",
    "                Default is set to 5.\n",
    "                \n",
    "        color:  [OPTIONAL]\n",
    "                plot line color, default is 'r' (red)\n",
    "                this is a keyword argument and can be\n",
    "                changed.\n",
    "    \n",
    "    Outputs\n",
    "    -------\n",
    "        No value returned but only the displayed plot.\n",
    "    '''\n",
    "    \n",
    "    # set of points from xlim_1 to xlim_2 (100 points)\n",
    "    x = np.linspace(xlim_1, xlim_2, 100)\n",
    "    # actual function\n",
    "    y = a*(x**2) + b*x + c\n",
    "    \n",
    "    # setting up x and y limits\n",
    "    plt.xlim(xlim_1, xlim_2)\n",
    "    plt.ylim(ylim_1, ylim_2)\n",
    "    \n",
    "    # choosing title based on type of quadratic function\n",
    "    # classic, where neither a,b, and c equal 0\n",
    "    if b!= 0 and c!=0:\n",
    "        plt.title('f(x) = ' + str(a) + 'x^2' + '+' + str(b) + '+' + str(c))\n",
    "    # if b and c are 0\n",
    "    else:\n",
    "        plt.title('f(x) = ' + str(a) + 'x^2')\n",
    "    \n",
    "    # actual plot\n",
    "    plt.plot(x, y, color=color)\n",
    "    \n",
    "    # plotting x and y axis to orient students right at the middle \n",
    "    # 0's are for x=0 and y=0 (vlines, hlines respectively)\n",
    "    plt.hlines(0, xlim_1, xlim_2, linestyle='--', color='gray')\n",
    "    plt.vlines(0, ylim_1, ylim_2, linestyle='--', color='gray')\n",
    "    plt.show()\n",
    "    \n",
    "    return   \n",
    "    "
   ]
  },
  {
   "cell_type": "markdown",
   "id": "a9cfdbf8",
   "metadata": {},
   "source": [
    "### Question 2.1 \n",
    "In the cell below type the domain and range for the constant function $f(x) = -2x^2 + 1x + 2$."
   ]
  },
  {
   "cell_type": "markdown",
   "id": "863862c3",
   "metadata": {},
   "source": [
    "YOUR ANSWER HERE\n",
    "- Domain:\n",
    "- Range:"
   ]
  },
  {
   "cell_type": "markdown",
   "id": "5fbafae3",
   "metadata": {},
   "source": [
    "### Question 2.2\n",
    "Plot the quadratic function $f(x) = -2x^2 + 1x + 2$ with the default values for `xlim_1`, `xlim_2`, `ylim_1`, `ylim_2`. \n",
    "Pick any `color` you wish. "
   ]
  },
  {
   "cell_type": "code",
   "execution_count": null,
   "id": "a99a795b",
   "metadata": {
    "scrolled": true
   },
   "outputs": [],
   "source": [
    "quadratic_function(-2,1,2)"
   ]
  },
  {
   "cell_type": "markdown",
   "id": "06e715f2",
   "metadata": {},
   "source": [
    "### Question 2.3\n",
    "Find the roots of the function  $f(x) = -2x^2 + 1x + 2$. "
   ]
  },
  {
   "cell_type": "markdown",
   "id": "ad86850c",
   "metadata": {},
   "source": [
    "YOUR ANSWER HERE"
   ]
  },
  {
   "cell_type": "code",
   "execution_count": null,
   "id": "1f3d1655",
   "metadata": {},
   "outputs": [],
   "source": []
  },
  {
   "cell_type": "markdown",
   "id": "14a2877a",
   "metadata": {},
   "source": [
    "## 3. Higher degree Polynomial (n > 2) Functions\n",
    "Recall that a polynomial can have constants, variables and exponents that can be combined using addition, subtraction, multiplication, and division, but no division by a vairable. \n",
    "Remember also that the powers of polynomials can only be 0,1,2,3,...\n",
    "\n",
    "The general form of these is:\n",
    "$$f(x)=ax^n + bx^{n-1} + cx^{n-2} + ... + d $$\n",
    "\n",
    "Some examples of polynomials include cubics and quadratics!\n",
    "$$f(x) = 5x^2 - 3x^3 + 2x + 1$$\n",
    "\n",
    "The graph of a polynomial function of degree 3.\n",
    "<img src=\"https://upload.wikimedia.org/wikipedia/commons/a/a3/Polynomialdeg3.svg\"/>\n",
    "\n",
    "source: wiki"
   ]
  },
  {
   "cell_type": "markdown",
   "id": "819956f0",
   "metadata": {},
   "source": [
    "### Plotting\n",
    "We have created a python function that plots linear functions for you. The function is called `poly function`. This takes in *6* arguments in the order we define below. \n",
    "\n",
    "1. The polynomial function `func` (that you will type!)\n",
    "2. `xlim_1` lowest x-value to display in graph, default = -5\n",
    "3. `xlim_2` highest x-value to display in graph, default = 5\n",
    "4. `ylim_1` lowest y-value to display in graph, default = -5\n",
    "5. `ylim_2` highest y-value to display in graph, default = 5\n",
    "6. `color` your color of choice (default is `r` for red) [OPTIONAL]"
   ]
  },
  {
   "cell_type": "code",
   "execution_count": null,
   "id": "7aa6a4e3",
   "metadata": {},
   "outputs": [],
   "source": [
    "def poly_function(func, xlim_1=-10, xlim_2=10, ylim_1=-10, ylim_2=10, color='r'):\n",
    "    \n",
    "    '''\n",
    "    Function to graph polynomials.\n",
    "    \n",
    "    Inputs\n",
    "    -------\n",
    "        func:   lambda function previously defined.\n",
    "                \n",
    "        xlim_1: [OPTIONAL]\n",
    "                Min x-limit to be plotted and seen in plot.\n",
    "                Default is set to -10.\n",
    "                \n",
    "        xlim_2: [OPTIONAL]\n",
    "                Max x-limit to be plotted and seen in plot.\n",
    "                Default is set to 10.\n",
    "        \n",
    "        ylim_1: [OPTIONAL]\n",
    "                Min y-limit to be plotted and seen in plot\n",
    "                Default is set to -10.\n",
    "                \n",
    "        ylim_2: [OPTIONAL]\n",
    "                Max y-limit to be plotted and seen in plot\n",
    "                Default is set to 10.\n",
    "                \n",
    "        color:  [OPTIONAL]\n",
    "                plot line color, default is 'r' (red)\n",
    "                this is a keyword argument and can be\n",
    "                changed.\n",
    "    \n",
    "    Outputs\n",
    "    -------\n",
    "        No value returned but only the displayed plot.\n",
    "    '''\n",
    "    \n",
    "    # set of x points in graph from xlim_1 and xlim_2 (100)\n",
    "    x = np.linspace(xlim_1, xlim_2, 100)\n",
    "    # function inputted by student\n",
    "    y = func(x)\n",
    "    \n",
    "    # setting up x and y limits\n",
    "    plt.xlim(xlim_1, xlim_2)\n",
    "    plt.ylim(ylim_1, ylim_2)\n",
    "    \n",
    "    # setting up title\n",
    "    plt.title('Your Polynomial')\n",
    "    \n",
    "    # actual plot based on x and y\n",
    "    plt.plot(x, y, color=color)\n",
    "    \n",
    "    # plotting x and y axis to orient students right at the middle \n",
    "    # 0's are for x=0 and y=0 (vlines, hlines respectively)\n",
    "    plt.hlines(0, xlim_1, xlim_2, color='black')\n",
    "    plt.show()\n",
    "    \n",
    "    return"
   ]
  },
  {
   "cell_type": "markdown",
   "id": "dc7db233",
   "metadata": {},
   "source": [
    "### An example function\n",
    "Recall we went over how to type the order of operations in python in previous notebooks. When you type your function, keep the order of operations in mind, as well as parenthesis in case you need them.\n",
    "\n",
    "In the cell below we will type our own polynomial function under the variable name `func_1`. The actual polynomial function will take `x` as its argument (values of x--think domain). This polynomial will be typed after the semi colon.\n",
    "\n",
    "To learn more about `lambda` functions visit: https://www.geeksforgeeks.org/passing-function-as-an-argument-in-python/ (scroll to **lambda as a wrapper function**)."
   ]
  },
  {
   "cell_type": "code",
   "execution_count": null,
   "id": "1df3bbeb",
   "metadata": {
    "scrolled": true
   },
   "outputs": [],
   "source": [
    "func_1 = lambda x: x**3 + x**2 + 1"
   ]
  },
  {
   "cell_type": "code",
   "execution_count": null,
   "id": "69c6ea58",
   "metadata": {
    "scrolled": true
   },
   "outputs": [],
   "source": [
    "poly_function(func_1)"
   ]
  },
  {
   "cell_type": "markdown",
   "id": "1140dd62",
   "metadata": {},
   "source": [
    "### Question 3.1 \n",
    "What is the domain and range of the function we plotted above? $f(x) = x^3 + x^2 + 1$"
   ]
  },
  {
   "cell_type": "markdown",
   "id": "c126ecc2",
   "metadata": {},
   "source": [
    "YOUR ANSWER HERE\n",
    "- Domain:\n",
    "- Range:"
   ]
  },
  {
   "cell_type": "markdown",
   "id": "a225302c",
   "metadata": {},
   "source": [
    "### Question 3.2 \n",
    "Find the roots, intercepts, the intervals in which the function is increasing and decreasiong, as well as determine whether the function is odd/even/neither and explain why. "
   ]
  },
  {
   "cell_type": "markdown",
   "id": "f29d77c3",
   "metadata": {},
   "source": [
    "YOUR ANSWER HERE\n",
    "- Roots\n",
    "- Intercepts\n",
    "- Increasing/Decreasing in:\n",
    "- Odd/Even/Neither\n",
    "- Why"
   ]
  },
  {
   "cell_type": "markdown",
   "id": "8a6c7892",
   "metadata": {},
   "source": [
    "### Question 3.4\n",
    "Get creative!! Type in your own polynomial you wish to graph. Remember that you should type the polynomial after `lambda x:`.\n",
    "\n",
    "**Note**: To raise a variable to a power in python you have to use `**` instead of `^` ;) [see the example we showed for reference]."
   ]
  },
  {
   "cell_type": "code",
   "execution_count": null,
   "id": "81417471",
   "metadata": {},
   "outputs": [],
   "source": [
    "your_poly = lambda x: #YOUR POLY HERE"
   ]
  },
  {
   "cell_type": "markdown",
   "id": "bf0d60f0",
   "metadata": {},
   "source": [
    "Let's plot it! (Don't forget to establish x, y limits to graph, as well as color)."
   ]
  },
  {
   "cell_type": "code",
   "execution_count": null,
   "id": "832054e5",
   "metadata": {},
   "outputs": [],
   "source": [
    "poly_function(your_poly, xlim_1=, xlim_2=, ylim_1=, ylim_2, color=)"
   ]
  },
  {
   "cell_type": "markdown",
   "id": "80b4b9bc",
   "metadata": {},
   "source": [
    "## 4. Rational Functions\n",
    "\n",
    "A rational function is any function that can be defined by a rational fraction, which is an algebraic fraction such that both the numerator and the denominator are polynomials.\n",
    "\n",
    "Here is an example form:\n",
    "\n",
    "$$f(x)= \\frac{ax^n + bx^{n-1} + cx^{n-2} + ...+ z_1}{dx^n + ex^{n-1}+ gx{n-1} + ... + z_2}$$\n",
    "\n",
    "\n",
    "Here's the graph for $$f(x) = \\frac{x^3 - 2x}{2x^2 - 5}$$\n",
    "<img src=\"https://upload.wikimedia.org/wikipedia/commons/8/87/RationalDegree3.svg\"/>\n",
    "\n",
    "Source wiki\n",
    "\n",
    "**Hint: Get ready for some asymptote questions!!**"
   ]
  },
  {
   "cell_type": "code",
   "execution_count": 2,
   "id": "114e2668",
   "metadata": {},
   "outputs": [],
   "source": [
    "def rational_func(your_func,xlim_1=-10, xlim_2=10, ylim_1=-10, ylim_2=10, color='g'):\n",
    "    \n",
    "    '''\n",
    "    Function to graph rational functions.\n",
    "    \n",
    "    Inputs\n",
    "    -------\n",
    "        your_func:   lambda function previously defined.\n",
    "                \n",
    "        xlim_1: [OPTIONAL]\n",
    "                Min x-limit to be plotted and seen in plot.\n",
    "                Default is set to -10.\n",
    "                \n",
    "        xlim_2: [OPTIONAL]\n",
    "                Max x-limit to be plotted and seen in plot.\n",
    "                Default is set to 10.\n",
    "        \n",
    "        ylim_1: [OPTIONAL]\n",
    "                Min y-limit to be plotted and seen in plot\n",
    "                Default is set to -10.\n",
    "                \n",
    "        ylim_2: [OPTIONAL]\n",
    "                Max y-limit to be plotted and seen in plot\n",
    "                Default is set to 10.\n",
    "                \n",
    "        color:  [OPTIONAL]\n",
    "                plot line color, default is 'g' (green)\n",
    "                this is a keyword argument and can be\n",
    "                changed.\n",
    "    \n",
    "    Outputs\n",
    "    -------\n",
    "        No value returned but only the displayed plot.\n",
    "    '''\n",
    "    \n",
    "    # Setting up axis at the center\n",
    "    fig = plt.figure(1, figsize=(13,10)) \n",
    "    ax = fig.add_subplot(111) \n",
    "\n",
    "    # set up axis \n",
    "    ax.spines['left'].set_position('center') \n",
    "    ax.spines['right'].set_color('none') \n",
    "    ax.spines['bottom'].set_position('center') \n",
    "    ax.spines['top'].set_color('none') \n",
    "    ax.xaxis.set_ticks_position('bottom') \n",
    "    ax.yaxis.set_ticks_position('left') \n",
    "    \n",
    "    # lil trick for asymptote handling\n",
    "    utol = 100.\n",
    "    ltol = -100.\n",
    "\n",
    "    x = np.arange(xlim_1, xlim_2, 0.01)\n",
    "    # function inputted by user\n",
    "    y = your_func(x)\n",
    "    \n",
    "    # setting end points of asymptotes to infinity works \n",
    "    # on some functions to not connect the dots\n",
    "    y[y>utol] = np.inf\n",
    "    y[y<ltol] = -np.inf\n",
    "    \n",
    "    # plot\n",
    "    ax.plot(x, y, color=color)\n",
    "    \n",
    "    plt.title('Your f(x)')\n",
    "    plt.show()\n",
    "    \n",
    "    "
   ]
  },
  {
   "cell_type": "markdown",
   "id": "edf25a7b",
   "metadata": {},
   "source": [
    "### Plotting\n",
    "For the plotting of rational functions we will be using the defined function `rational_func`. The keyword parameters in the function that we have been using (`xlim_1`, `xlim_2`, `ylim_1`, `ylim_2`, and `color`) will still appear in this newly defined function.\n",
    "\n",
    "Note that for every rational function you wish to plot, the function that goes in place of the parameter `your_func` must change. \n",
    "\n",
    "For example, say I want to plot $f(x)= \\frac{1}{x}$.\n",
    "- I will type this function next to `lambda x:` as `1/x` and save it in the variable `func_2`.\n",
    "- Next, to plot the function I will keep the same keyword parameters I mentioned above, but only change the first paramenter `your_func` to the function I just created (`func_2`)."
   ]
  },
  {
   "cell_type": "code",
   "execution_count": 3,
   "id": "4da95a72",
   "metadata": {},
   "outputs": [],
   "source": [
    "func_2 = lambda x: 1/x"
   ]
  },
  {
   "cell_type": "code",
   "execution_count": 4,
   "id": "ca1f81c8",
   "metadata": {},
   "outputs": [
    {
     "data": {
      "image/png": "[encoded data removed]",
      "text/plain": [
       "<Figure size 936x720 with 1 Axes>"
      ]
     },
     "metadata": {
      "needs_background": "light"
     },
     "output_type": "display_data"
    }
   ],
   "source": [
    "# func_2 is the function defined above (1/x) -- the rest of the parameters remain the same. \n",
    "rational_func(func_2)"
   ]
  },
  {
   "cell_type": "markdown",
   "id": "d0249322",
   "metadata": {},
   "source": [
    "### Asymptotes\n",
    "Before continuing with plotting in python, we want to emphasize the importance of being aware of asymptotes and holes in functions. This continues to be relevant because unfortunately Python is not entirely aware of plot discontinuties and asymptotes.\n",
    "\n",
    "Thus, when plotting $f(x) = \\frac{1}{x-100}$, we want to make sure that all values of x including the parameners `xlim_1` and `xlim_2` are consistent to the domain and range of each function."
   ]
  },
  {
   "cell_type": "markdown",
   "id": "ea255463",
   "metadata": {},
   "source": [
    "### Question 1\n",
    "In the cell below, we have written a second rational function $f(x) = \\frac{1}{x^2+2x-1}$ and saved it as `rational_2`. This variable will be passed in to the function `rational_func` as its first argument. Your task is to change the parameters `xlim_1` and `xlim_2` so that it satisfies the domain and rage of the function `rational_2`.\n",
    "\n"
   ]
  },
  {
   "cell_type": "code",
   "execution_count": 5,
   "id": "2bb4aa49",
   "metadata": {},
   "outputs": [],
   "source": [
    "asymptotes_rational_2 = [100]"
   ]
  },
  {
   "cell_type": "code",
   "execution_count": 6,
   "id": "8765c81f",
   "metadata": {
    "scrolled": false
   },
   "outputs": [
    {
     "data": {
      "image/png": "[encoded data removed]",
      "text/plain": [
       "<Figure size 936x720 with 1 Axes>"
      ]
     },
     "metadata": {
      "needs_background": "light"
     },
     "output_type": "display_data"
    }
   ],
   "source": [
    "# defining function\n",
    "rational_2 = lambda x: 1/((x**2)+2*x-1)\n",
    "rational_func(rational_2)"
   ]
  },
  {
   "cell_type": "markdown",
   "id": "c5334af5",
   "metadata": {},
   "source": [
    "### Question 4.1\n",
    "Find the domain and range for the function $f(x) = \\frac{1}{x^2+2x-1}$"
   ]
  },
  {
   "cell_type": "markdown",
   "id": "a7558726",
   "metadata": {},
   "source": [
    "- Domain:\n",
    "- Range: "
   ]
  },
  {
   "cell_type": "markdown",
   "id": "8581f018",
   "metadata": {},
   "source": [
    "### Question 4.2\n",
    "Find the roots, intercepts, the intervals in which the function is increasing and decreasiong, as well as determine whether the function is odd/even/neither and explain why. \n"
   ]
  },
  {
   "cell_type": "markdown",
   "id": "f1ccdbd5",
   "metadata": {},
   "source": [
    "YOUR ANSWER HERE\n",
    "\n",
    "- Roots\n",
    "- Intervals\n",
    "- Odd/Even/Neither"
   ]
  },
  {
   "cell_type": "markdown",
   "id": "efcf1d83",
   "metadata": {},
   "source": [
    "### Question 4.3 \n",
    "Time for you to create your own function to plot. Save the function in the variable `rational_3` next to `lambda x:`, and then plot it. Feel free to change the keyword arguments `xlim`'s and `ylim`'s to make yourn graph visible. "
   ]
  },
  {
   "cell_type": "code",
   "execution_count": null,
   "id": "48bc6336",
   "metadata": {},
   "outputs": [],
   "source": [
    "# your function here\n",
    "rational_3 = lambda x: "
   ]
  },
  {
   "cell_type": "code",
   "execution_count": null,
   "id": "aa53a8f1",
   "metadata": {},
   "outputs": [],
   "source": [
    "# plot here\n",
    "rational_func()"
   ]
  },
  {
   "cell_type": "markdown",
   "id": "e385f527",
   "metadata": {},
   "source": [
    "### Question 4.4 Something Strange is Happening\n",
    "Note that everytime we plot a rational function there are some things happening in the graph that should not be there. Describe below what it is you see."
   ]
  },
  {
   "cell_type": "markdown",
   "id": "f47abee7",
   "metadata": {},
   "source": [
    "YOUR ANSWER HERE"
   ]
  },
  {
   "cell_type": "code",
   "execution_count": null,
   "id": "2203e5e8",
   "metadata": {},
   "outputs": [],
   "source": []
  },
  {
   "cell_type": "markdown",
   "id": "795edace",
   "metadata": {},
   "source": [
    "## 5. Exponential Functions\n",
    "The exponential function is the function $f(x)=e^{x}$ where the base e = 2.71828... is Euler's number and the argument x occurs as an exponent. More generally, an exponential function is a function of the form $f(x)=ab^{x}$ where the base b is a positive real number. For this section we will plot both.\n",
    "\n",
    "Here is the natural exponent function $y = e^{x}$\n",
    "<img src = 'https://upload.wikimedia.org/wikipedia/commons/c/c6/Exp.svg'/>\n",
    "\n",
    "And exponential functions with base 0.5 and 2.\n",
    "<img src = 'https://upload.wikimedia.org/wikipedia/commons/d/dc/Exponenciala_priklad.png'/>\n",
    "\n",
    "Source: wiki"
   ]
  },
  {
   "cell_type": "markdown",
   "id": "9ef5456a",
   "metadata": {},
   "source": [
    "### Plotting\n",
    "The function that we will utilize for plotting our exponential functions will be `exp_function`. You can read more details below."
   ]
  },
  {
   "cell_type": "code",
   "execution_count": 12,
   "id": "50f756be",
   "metadata": {},
   "outputs": [],
   "source": [
    "def exp_function(func, xlim_1=-10, xlim_2=10, ylim_1=-10, ylim_2=10, color='r'):    \n",
    "    '''\n",
    "    Function to graph exponents.\n",
    "    \n",
    "    Inputs\n",
    "    -------\n",
    "        func:   lambda function previously defined.\n",
    "                \n",
    "        xlim_1: [OPTIONAL]\n",
    "                Min x-limit to be plotted and seen in plot.\n",
    "                Default is set to -10.\n",
    "                \n",
    "        xlim_2: [OPTIONAL]\n",
    "                Max x-limit to be plotted and seen in plot.\n",
    "                Default is set to 10.\n",
    "        \n",
    "        ylim_1: [OPTIONAL]\n",
    "                Min y-limit to be plotted and seen in plot\n",
    "                Default is set to -10.\n",
    "                \n",
    "        ylim_2: [OPTIONAL]\n",
    "                Max y-limit to be plotted and seen in plot\n",
    "                Default is set to 10.\n",
    "                \n",
    "        color:  [OPTIONAL]\n",
    "                plot line color, default is 'r' (red)\n",
    "                this is a keyword argument and can be\n",
    "                changed.\n",
    "    \n",
    "    Outputs\n",
    "    -------\n",
    "        No value returned but only the displayed plot.\n",
    "    '''\n",
    "    \n",
    "    # Setting x and y axis to the center\n",
    "    # fig and axis size\n",
    "    fig = plt.figure(1, figsize=(13,10))\n",
    "    ax = fig.add_subplot(111)\n",
    "    # determining axis and tick positions\n",
    "    ax.spines['left'].set_position('center') \n",
    "    ax.spines['right'].set_color('none') \n",
    "    ax.spines['bottom'].set_position('center') \n",
    "    ax.spines['top'].set_color('none') \n",
    "    ax.xaxis.set_ticks_position('bottom') \n",
    "    ax.yaxis.set_ticks_position('left') \n",
    "    \n",
    "    \n",
    "    # set of x points in graph from xlim_1 and xlim_2 (100)\n",
    "    x = np.linspace(xlim_1, xlim_2, 100)\n",
    "    # function inputted by student\n",
    "    y = func(x)\n",
    "    \n",
    "    # setting up x and y limits\n",
    "    plt.xlim(xlim_1, xlim_2)\n",
    "    plt.ylim(ylim_1, ylim_2)\n",
    "    \n",
    "    # setting up title\n",
    "    plt.title('f(x)')\n",
    "    \n",
    "    # actual plot based on x and y\n",
    "    plt.plot(x, y, color=color)\n",
    "    \n",
    "    # plotting x and y axis to orient students right at the middle \n",
    "    # 0's are for x=0 and y=0 (vlines, hlines respectively)\n",
    "    plt.hlines(0, xlim_1, xlim_2, color='black')\n",
    "    plt.show()\n",
    "    \n",
    "    return"
   ]
  },
  {
   "cell_type": "markdown",
   "id": "6ca4bb0f",
   "metadata": {},
   "source": [
    "### An example for you\n",
    "Say we want to plot the function $f(x)=e^{x}$. Similar to the previous sections we will need to create a variable in which we will save our exponent sample function."
   ]
  },
  {
   "cell_type": "code",
   "execution_count": 13,
   "id": "043ae838",
   "metadata": {},
   "outputs": [],
   "source": [
    "# sample function\n",
    "sample_exp = lambda x: (np.e)**x"
   ]
  },
  {
   "cell_type": "code",
   "execution_count": 14,
   "id": "05ba283b",
   "metadata": {
    "scrolled": false
   },
   "outputs": [
    {
     "data": {
      "image/png": "[encoded data removed]",
      "text/plain": [
       "<Figure size 936x720 with 1 Axes>"
      ]
     },
     "metadata": {
      "needs_background": "light"
     },
     "output_type": "display_data"
    }
   ],
   "source": [
    "# plotting\n",
    "exp_function(sample_exp)"
   ]
  },
  {
   "cell_type": "markdown",
   "id": "5d4833e7",
   "metadata": {},
   "source": [
    "### Question 5.1\n",
    "Determine domain, range, intercepts, discontinuties, and whether the function $f(x) = e^{x^{2}+ 2x +1}$ is even odd or neither."
   ]
  },
  {
   "cell_type": "markdown",
   "id": "450aecba",
   "metadata": {},
   "source": [
    "YOUR ANSWERS HERE"
   ]
  },
  {
   "cell_type": "markdown",
   "id": "7480ef8c",
   "metadata": {},
   "source": [
    "### Question 5.2 \n",
    "Now define the function from 5.1 and plot it in color blue. "
   ]
  },
  {
   "cell_type": "code",
   "execution_count": null,
   "id": "9d10caf8",
   "metadata": {},
   "outputs": [],
   "source": [
    "# define the function here"
   ]
  },
  {
   "cell_type": "code",
   "execution_count": null,
   "id": "0c6e9229",
   "metadata": {},
   "outputs": [],
   "source": [
    "# plot function here"
   ]
  },
  {
   "cell_type": "markdown",
   "id": "f3799e43",
   "metadata": {},
   "source": [
    "### Question 5.3\n",
    "Get creative! Now define your own exponential function of base 4 below. Plot it too (in green!)."
   ]
  },
  {
   "cell_type": "code",
   "execution_count": null,
   "id": "d3b23632",
   "metadata": {},
   "outputs": [],
   "source": [
    "# define function here"
   ]
  },
  {
   "cell_type": "code",
   "execution_count": null,
   "id": "cab6f71b",
   "metadata": {},
   "outputs": [],
   "source": [
    "# plot function here"
   ]
  },
  {
   "cell_type": "markdown",
   "id": "599f6b55",
   "metadata": {},
   "source": [
    "## 6. Logarithmic Functions\n",
    "Logarithmic functions are the inverses of exponential functions, and any exponential function can be expressed in logarithmic form. Similarly, all logarithmic functions can be rewritten in exponential form. \n",
    "\n",
    "Below are some examples of the logarithms with various bases: \n",
    "$$f(x) = log_{2}(x)$$\n",
    "$$f(x) = log_{e}(x)$$\n",
    "$$f(x) = log_{10}(x)$$\n",
    "<img src=\"https://upload.wikimedia.org/wikipedia/commons/8/81/Logarithm_plots.png\"/>\n",
    "\n",
    "source: wiki\n",
    "\n",
    "Generally a logarithm function has the form:\n",
    "$$y = log_{b}(x) $$\n",
    "where\n",
    "$$x>0, b>0$$ and $$b\\neq 1 $$\n",
    "\n",
    "Also recall that we can rewrite logs and exponentials expressions:\n",
    "\n",
    "$$y = log_{b}(x)$$ is equivalent to $$x = b ^{y}$$"
   ]
  },
  {
   "cell_type": "markdown",
   "id": "dd027d3b",
   "metadata": {},
   "source": [
    "### Plotting\n",
    "The function we will utilize in this section is named `log_function`. You can find the details below."
   ]
  },
  {
   "cell_type": "code",
   "execution_count": 15,
   "id": "8339f048",
   "metadata": {},
   "outputs": [],
   "source": [
    "def log_function(func, xlim_1=0, xlim_2=50, ylim_1=-50, ylim_2=50, color='b'):\n",
    "    \n",
    "    # set of x points in graph from xlim_1 and xlim_2 (100)\n",
    "    x = np.linspace(xlim_1, xlim_2, 100)\n",
    "    # function inputted by student\n",
    "    y = func(x)\n",
    "    \n",
    "    # setting up x and y limits\n",
    "    plt.xlim(xlim_1, xlim_2)\n",
    "    plt.ylim(ylim_1, ylim_2)\n",
    "    \n",
    "    # setting up title\n",
    "    plt.title('f(x)')\n",
    "    \n",
    "    # actual plot based on x and y\n",
    "    plt.plot(x, y, color=color)\n",
    "    \n",
    "    # plotting x and y axis to orient students right at the middle \n",
    "    # 0's are for x=0 and y=0 (vlines, hlines respectively)\n",
    "    plt.show()\n",
    "    \n",
    "    return"
   ]
  },
  {
   "cell_type": "markdown",
   "id": "7d9b37e4",
   "metadata": {},
   "source": [
    "### Example *\n",
    "Say I want to plot the function $f(x)=log_{2}(x)$"
   ]
  },
  {
   "cell_type": "code",
   "execution_count": 16,
   "id": "e70eb520",
   "metadata": {},
   "outputs": [],
   "source": [
    "log_func1 = lambda x: np.log2(x) "
   ]
  },
  {
   "cell_type": "code",
   "execution_count": 17,
   "id": "a3d99332",
   "metadata": {},
   "outputs": [
    {
     "name": "stderr",
     "output_type": "stream",
     "text": [
      "/Users/mirasilvia/anaconda3/lib/python3.7/site-packages/ipykernel_launcher.py:1: RuntimeWarning: divide by zero encountered in log2\n",
      "  \"\"\"Entry point for launching an IPython kernel.\n"
     ]
    },
    {
     "data": {
      "image/png": "[encoded data removed]",
      "text/plain": [
       "<Figure size 432x288 with 1 Axes>"
      ]
     },
     "metadata": {
      "needs_background": "light"
     },
     "output_type": "display_data"
    }
   ],
   "source": [
    "log_function(log_func1)"
   ]
  },
  {
   "cell_type": "markdown",
   "id": "3aae60a4",
   "metadata": {},
   "source": [
    "oy"
   ]
  },
  {
   "cell_type": "markdown",
   "id": "850991ed",
   "metadata": {},
   "source": [
    "## 7. Trigonometric Functions\n",
    "Trigonometric functions are real functions which relate an angle of a right-angled triangle to ratios of two side lengths. As you have seen before, the most widely used in mathematics are the **sine**, **cosine**, and **tangent** functions. \n",
    "\n",
    "<img src = \"https://upload.wikimedia.org/wikipedia/commons/7/72/Sinus_und_Kosinus_am_Einheitskreis_1.svg\"/>"
   ]
  },
  {
   "cell_type": "markdown",
   "id": "28daa138",
   "metadata": {},
   "source": [
    "### Plotting\n",
    "In this last section we will be plotting trigonometric functions.\n",
    "Note that we now introduce a new function for you to plot, called `trig_function`. You can read the details of the function by looking at the cell below.\n",
    "\n",
    "This function is a little different than the previous functions we've defined. In this case, we do not need to specify `xlim_1` and `xlim_2` if we don't have to. Note that the keyword arguments for these are set to the Python value of `None`. This means that you do not need to worry about these, unless you **wish** to see more x-values in your plot. Follow the example two cells below so that you see how this changes the graph views."
   ]
  },
  {
   "cell_type": "code",
   "execution_count": 18,
   "id": "fbc5332f",
   "metadata": {},
   "outputs": [],
   "source": [
    "def trig_function(func, color='b', xlim_1 = None, xlim_2 = None):\n",
    "    '''\n",
    "    Plotting Trigonometric Functions.\n",
    "    \n",
    "    Inputs\n",
    "    -------\n",
    "        func:   lambda function previously defined.\n",
    "        \n",
    "        color:  [OPTIONAL]\n",
    "                plot line color, default is 'b' (blue)\n",
    "                this is a keyword argument and can be\n",
    "                changed.\n",
    "                \n",
    "        xlim_1: [OPTIONAL]\n",
    "                Min x-limit to be plotted and seen in plot.\n",
    "                Default is set to None (0, 4*pi).\n",
    "                \n",
    "        xlim_2: [OPTIONAL]\n",
    "                Max x-limit to be plotted and seen in plot.\n",
    "                Default is set to None (0, 4*pi).\n",
    "    \n",
    "    Outputs\n",
    "    -------\n",
    "        No value returned but plot display.\n",
    "                \n",
    "    '''\n",
    "    \n",
    "    # Creating a single figure (1) of size 13x10\n",
    "    fig = plt.figure(1, figsize=(13,10)) \n",
    "    ax = fig.add_subplot(111) \n",
    "    \n",
    "    # Adjusting axis spines so that they look like math plots\n",
    "    ax.spines['left'].set_position('zero') \n",
    "    ax.spines['right'].set_color('none') \n",
    "    ax.spines['bottom'].set_position('zero') \n",
    "    ax.spines['top'].set_color('none') \n",
    "    ax.xaxis.set_ticks_position('bottom') \n",
    "    ax.yaxis.set_ticks_position('left') \n",
    "    \n",
    "    \n",
    "    # If no xlimit's passed as arguments, the min x value is \n",
    "    # 0 and max value is 4*np.pi for the function.\n",
    "    # Start(0),stop(4*np.pi),step(0.1)\n",
    "    x = np.arange(0,4*np.pi,0.1)\n",
    "    \n",
    "    # Calculates the y-values based on the values in x array\n",
    "    y = func(x)\n",
    "    \n",
    "    \n",
    "    # If xlimit's passed in, we adjust x-values and y-values \n",
    "    # so that they properly display.\n",
    "    if xlim_1 and xlim_2:\n",
    "        plt.xlim(xlim_1, xlim_2)\n",
    "        x = np.arange(xlim_1, 4*np.pi,0.1) # same idea as before\n",
    "        y = func(x)                        # same here   \n",
    "    \n",
    "    # Now we plot and include a title.\n",
    "    plt.plot(x,y, color=color)\n",
    "    plt.title('Your Trig Function')\n",
    "    \n",
    "    return"
   ]
  },
  {
   "cell_type": "markdown",
   "id": "e2400c83",
   "metadata": {},
   "source": [
    "### Example 1: Default View\n",
    "Below I want to plot the function $f(x) = sin(1+x)$. I will not adjustt the xlim_1, and xlim_2 values. Mathematically, we will expect sine to not start at $(0,0)$ since there is a horizontal shift. Run the cell below so that you see this description in action.\n"
   ]
  },
  {
   "cell_type": "code",
   "execution_count": 19,
   "id": "7f2b12a6",
   "metadata": {
    "scrolled": false
   },
   "outputs": [
    {
     "data": {
      "image/png": "[encoded data removed]",
      "text/plain": [
       "<Figure size 936x720 with 1 Axes>"
      ]
     },
     "metadata": {
      "needs_background": "light"
     },
     "output_type": "display_data"
    }
   ],
   "source": [
    "t1 = lambda x: np.sin(1+x)\n",
    "trig_function(t1)"
   ]
  },
  {
   "cell_type": "markdown",
   "id": "f3bafea4",
   "metadata": {},
   "source": [
    "### Example 2 : Adjusted View\n",
    "Let's now replot the same function, but instead of leaving the keyword arguments `xlim_1` and `xlim_2` intact, we will adjust these so that we can see the clear shift of $f(x) = sin(1+x)$.\n",
    "\n",
    "Also, the default color is set to blue, but if you wish to plot in another color, you can do so by including the `color` argument. "
   ]
  },
  {
   "cell_type": "code",
   "execution_count": 20,
   "id": "a9b33a15",
   "metadata": {
    "scrolled": false
   },
   "outputs": [
    {
     "data": {
      "image/png": "[encoded data removed]",
      "text/plain": [
       "<Figure size 936x720 with 1 Axes>"
      ]
     },
     "metadata": {
      "needs_background": "light"
     },
     "output_type": "display_data"
    }
   ],
   "source": [
    "# we have established that we want our graph to start at -4 and end at 13\n",
    "trig_function(t1, color='g', xlim_1=-4, xlim_2=13)"
   ]
  },
  {
   "cell_type": "markdown",
   "id": "d83ca578",
   "metadata": {},
   "source": [
    "**Note**: that the x-axis are the real number values from $-4$ to $\\approx13$ (or $4\\pi$) ;)."
   ]
  },
  {
   "cell_type": "markdown",
   "id": "30fde2c1",
   "metadata": {},
   "source": [
    "### A note about trig functions\n",
    "In order to be able to use trig functions in Python such as `cosine` and `sine`, we must resort to `Numpy` to be able to plot these. \n",
    "\n",
    "In the questions below use:\n",
    "- `np.cos(x)` for $f(x)=cos(x)$\n",
    "- `np.sin(x)` for $f(x)=sin(x)$\n",
    "\n",
    "Note that if we ask you to plot $f(x)=sin(4x)$ you will have to write the code as `t4= lambda x: np.sin(4*x)`."
   ]
  },
  {
   "cell_type": "markdown",
   "id": "43ecd025",
   "metadata": {},
   "source": [
    "### Question 7.1\n",
    "Write the domain, range, x and y intercepts of the function $f(x)=sin(1+x)$."
   ]
  },
  {
   "cell_type": "markdown",
   "id": "4056776c",
   "metadata": {},
   "source": [
    "YOUR ANSWER HERE"
   ]
  },
  {
   "cell_type": "markdown",
   "id": "f2e32763",
   "metadata": {},
   "source": [
    "### Question 7.2\n",
    "Plot the function $f(x)=cos(x^2+2x+1)$ and write the domain, range, x and y intercepts."
   ]
  },
  {
   "cell_type": "code",
   "execution_count": null,
   "id": "c0a738d1",
   "metadata": {},
   "outputs": [],
   "source": [
    "t2 = lambda x:   # YOUR FUNCTION HERE"
   ]
  },
  {
   "cell_type": "code",
   "execution_count": null,
   "id": "c6c93aed",
   "metadata": {},
   "outputs": [],
   "source": [
    "trig_function(t2) # remember you can change xlim's if you wish."
   ]
  },
  {
   "cell_type": "markdown",
   "id": "65efbbb5",
   "metadata": {},
   "source": [
    "YOUR ANSWER HERE\n",
    "- Domain\n",
    "- Range\n",
    "- X-intercepts\n",
    "- Y-intercepts"
   ]
  },
  {
   "cell_type": "markdown",
   "id": "e28492ca",
   "metadata": {},
   "source": [
    "### Question 7.3 \n",
    "Plot the function $f(x)= cos(4x)$ and write the domain, range, x and y intercepts."
   ]
  },
  {
   "cell_type": "code",
   "execution_count": null,
   "id": "b1842e0b",
   "metadata": {},
   "outputs": [],
   "source": [
    "t3 = #YOUR FUNCTION HERE"
   ]
  },
  {
   "cell_type": "code",
   "execution_count": null,
   "id": "ee40a3b6",
   "metadata": {},
   "outputs": [],
   "source": [
    "trig_function(t3)"
   ]
  },
  {
   "cell_type": "markdown",
   "id": "ded8ab1c",
   "metadata": {},
   "source": [
    "YOUR ANSWER HERE\n",
    "- Domain\n",
    "- Range\n",
    "- X-intercepts\n",
    "- Y-intercepts"
   ]
  },
  {
   "cell_type": "markdown",
   "id": "2b4708b7",
   "metadata": {},
   "source": [
    "### Question 7.4\n",
    "Now plot the function $f(x)=sin(2x)$ and write the domain, range, x and y intercepts."
   ]
  },
  {
   "cell_type": "code",
   "execution_count": null,
   "id": "f45a18a6",
   "metadata": {},
   "outputs": [],
   "source": [
    "t4 = # YOUR FUNCTION HERE "
   ]
  },
  {
   "cell_type": "code",
   "execution_count": null,
   "id": "7f1d05f5",
   "metadata": {},
   "outputs": [],
   "source": [
    "trig_function() # FILL IN THE ARGUMENTS APPROPRIATELY "
   ]
  },
  {
   "cell_type": "markdown",
   "id": "8521b0a1",
   "metadata": {},
   "source": [
    "YOUR ANSWER HERE\n",
    "- Domain\n",
    "- Range\n",
    "- X-intercepts\n",
    "- Y-intercepts"
   ]
  },
  {
   "cell_type": "code",
   "execution_count": null,
   "id": "d7e44ff5",
   "metadata": {},
   "outputs": [],
   "source": []
  }
 ],
 "metadata": {
  "kernelspec": {
   "display_name": "Python 3",
   "language": "python",
   "name": "python3"
  },
  "language_info": {
   "codemirror_mode": {
    "name": "ipython",
    "version": 3
   },
   "file_extension": ".py",
   "mimetype": "text/x-python",
   "name": "python",
   "nbconvert_exporter": "python",
   "pygments_lexer": "ipython3",
   "version": "3.7.3"
  }
 },
 "nbformat": 4,
 "nbformat_minor": 5
}
