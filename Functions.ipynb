{
 "cells": [
  {
   "cell_type": "markdown",
   "id": "5d42f713",
   "metadata": {},
   "source": [
    "### Should we cover?\n",
    "- Domain\n",
    "- Range\n",
    "- Increasing/Decreasing intervals:\n",
    "- x-intercept\n",
    "- y-intercept\n",
    "- even, odd, neither\n",
    "- continuous/discontinuous\n",
    "- asymptotes\n",
    "- end behavior"
   ]
  },
  {
   "cell_type": "code",
   "execution_count": 1,
   "id": "2de6c536",
   "metadata": {},
   "outputs": [],
   "source": [
    "# RUN THIS CELL\n",
    "import numpy as np\n",
    "import matplotlib.pyplot as plt"
   ]
  },
  {
   "cell_type": "markdown",
   "id": "4a722a1c",
   "metadata": {},
   "source": [
    "# Before you start."
   ]
  },
  {
   "cell_type": "markdown",
   "id": "344ea1a9",
   "metadata": {},
   "source": [
    "### x-values and y-values\n",
    "- `np.linspace` will establish the range of x-values to utilize for each of the plots used below.\n",
    "- `dom_#` will denote the domain of function.\n",
    "- `y_#` will define the function we use below. \n",
    "- `range_#` will denote the range of the function plotted."
   ]
  },
  {
   "cell_type": "markdown",
   "id": "00dcc03f",
   "metadata": {},
   "source": [
    "#  Functions: Domain and Range\n",
    "\n",
    "As you saw in class, there are various families of functions. \n",
    "\n",
    "In this notebbook we will go over key take aways from each of these functions. We will also be plotting and defining:\n",
    "\n",
    "- Domain and Range\n",
    "- Increasing/Decreasing \n",
    "- Asymptotic Behavior\n",
    "- Root identification\n",
    "\n",
    "<img src=\"https://upload.wikimedia.org/wikipedia/commons/3/3b/Function_machine2.svg\"/>\n",
    "\n",
    "source: wiki"
   ]
  },
  {
   "cell_type": "markdown",
   "id": "ab1edf56",
   "metadata": {},
   "source": [
    "# Review"
   ]
  },
  {
   "cell_type": "markdown",
   "id": "c51b6f88",
   "metadata": {},
   "source": [
    "### Domain and Range\n",
    "> **Domain:** A function $f$ from $X$ to $Y$. The red oval $X$ is the domain of $f$.\n",
    "\n",
    "> **Range**: A function $f$ from $X$ to $Y$. The blue oval $Y$ is the codomain of $f$. The yellow oval inside $Y$ is the image of $f$.\n",
    "\n",
    "<img src=\"https://upload.wikimedia.org/wikipedia/commons/6/64/Codomain2.SVG\"/>\n",
    "\n",
    "source: wiki"
   ]
  },
  {
   "cell_type": "markdown",
   "id": "4f07cc9b",
   "metadata": {},
   "source": [
    "## 0. Constant Function\n",
    "Recall that a constant function is a function whose (output) value is the same for every input value.\n",
    "These types of functions are presented in the form of:\n",
    "\n",
    "$$f(x) = c$$\n",
    "\n",
    "Where $c$ is a constant, and $c$ $\\in \\mathbb{R}$."
   ]
  },
  {
   "cell_type": "markdown",
   "id": "cceaa68b",
   "metadata": {},
   "source": [
    "### Question 0.1\n",
    "In the cell below type the domain and range for the constant function $f(x) = 4$."
   ]
  },
  {
   "cell_type": "markdown",
   "id": "c4c3fbe8",
   "metadata": {},
   "source": [
    "YOUR ANSWER HERE\n",
    "- Domain: \n",
    "\n",
    "- Range: "
   ]
  },
  {
   "cell_type": "markdown",
   "id": "ebcc3b74",
   "metadata": {},
   "source": [
    "### Plotting"
   ]
  },
  {
   "cell_type": "code",
   "execution_count": 2,
   "id": "6b61e1fc",
   "metadata": {},
   "outputs": [],
   "source": [
    "# RUN THIS CELL\n",
    "def constant_function(c, xlim_1=0, xlim_2=5, ylim_1=0, ylim_2=5, color='red'):\n",
    "    \n",
    "    # setting up graph x and y limits displayed\n",
    "    plt.xlim(xlim_1,xlim_2)\n",
    "    plt.ylim(ylim_1,ylim_2)\n",
    "    \n",
    "    # method to plot a horizontal line y=c\n",
    "    plt.hlines(c, xlim_1, xlim_2, color=color)\n",
    "    \n",
    "    # setting up the title \n",
    "    plt.title(\"f(x) = \" + str(c))\n",
    "    plt.show()\n",
    "    \n",
    "    return"
   ]
  },
  {
   "cell_type": "markdown",
   "id": "c5dcff53",
   "metadata": {},
   "source": [
    "We have created a python function that plots constant functions for you. The function is called `constant function`. This takes in *6* arguments in the order we define below. \n",
    "\n",
    "1. $c$ value\n",
    "2. `xlim_1` lowest x-value to display in graph\n",
    "3. `xlim_2` highest x-value to display in graph\n",
    "4. `ylim_1` lowest y-value to display in graph\n",
    "5. `ylim_2` highest y-value to display in graph\n",
    "6. `color` your color of choice (default is `r` for red) [OPTIONAL]\n",
    "\n",
    "Note that `color` is what we call a keyword argument. If you want the line of the plot to be a different color other than 'red'. You must choose one of the following (type the letter inside quotation marks \"\"):\n",
    "\n",
    "- `\"b\"`: blue\n",
    "- `\"g\"`: green\n",
    "- `\"r\"`: red\n",
    "- `\"c\"`: cyan\n",
    "- `\"m\"`: magenta\n",
    "- `\"y\"`: yellow\n",
    "- `\"k\"`: black\n",
    "- `\"w\"`: white\n",
    "\n",
    "### An example for you:"
   ]
  },
  {
   "cell_type": "code",
   "execution_count": 3,
   "id": "d99f5c2e",
   "metadata": {
    "scrolled": true
   },
   "outputs": [
    {
     "data": {
      "image/png": "[encoded data removed]",
      "text/plain": [
       "<Figure size 432x288 with 1 Axes>"
      ]
     },
     "metadata": {
      "needs_background": "light"
     },
     "output_type": "display_data"
    }
   ],
   "source": [
    "# Plotting f(x)=2, xlim_1 = -10, xlim_2 = 10, ylim_1=0, ylim_2=10, color='b' (For blue)\n",
    "constant_function(2, xlim_1= -10,xlim_2= 10, ylim_1= 0, ylim_2= 10, color=\"b\")"
   ]
  },
  {
   "cell_type": "markdown",
   "id": "5e7a035d",
   "metadata": {},
   "source": [
    "### Question 0.2 \n",
    "Your turn! Plot the function $f(x)=3$ where the `xlim_1` = -5, `xlim_2` = 5, `ylim_1`=0, `ylim_2` = 5, and the `color` is green (see how you need to type the colors in the description of the function above."
   ]
  },
  {
   "cell_type": "code",
   "execution_count": 4,
   "id": "4f1428da",
   "metadata": {
    "scrolled": true
   },
   "outputs": [
    {
     "ename": "SyntaxError",
     "evalue": "invalid syntax (<ipython-input-4-0fb7b1e4a1b2>, line 4)",
     "output_type": "error",
     "traceback": [
      "\u001b[0;36m  File \u001b[0;32m\"<ipython-input-4-0fb7b1e4a1b2>\"\u001b[0;36m, line \u001b[0;32m4\u001b[0m\n\u001b[0;31m    constant_function(C,xlim_1=, xlim_2=, ylim_1=, ylim_2=, color=)\u001b[0m\n\u001b[0m                               ^\u001b[0m\n\u001b[0;31mSyntaxError\u001b[0m\u001b[0;31m:\u001b[0m invalid syntax\n"
     ]
    }
   ],
   "source": [
    "# change C for the correc 'c' and fill in \n",
    "# the rest of the arguments appropriately.\n",
    "\n",
    "constant_function(C,xlim_1=, xlim_2=, ylim_1=, ylim_2=, color=)"
   ]
  },
  {
   "cell_type": "markdown",
   "id": "400cddda",
   "metadata": {},
   "source": [
    "### Question 0.3\n",
    "Time to get creative! Plot one last constant function in which $c$ is whatever you want. Establish the graph x andy limits to whatever you like. Don't forget to pick a color different than red."
   ]
  },
  {
   "cell_type": "code",
   "execution_count": 5,
   "id": "3f4f8dc0",
   "metadata": {},
   "outputs": [
    {
     "ename": "TypeError",
     "evalue": "constant_function() missing 1 required positional argument: 'c'",
     "output_type": "error",
     "traceback": [
      "\u001b[0;31m---------------------------------------------------------------------------\u001b[0m",
      "\u001b[0;31mTypeError\u001b[0m                                 Traceback (most recent call last)",
      "\u001b[0;32m<ipython-input-5-187ee3c322f4>\u001b[0m in \u001b[0;36m<module>\u001b[0;34m\u001b[0m\n\u001b[1;32m      1\u001b[0m \u001b[0;31m# recall the order of arguments by looking at the examples above!\u001b[0m\u001b[0;34m\u001b[0m\u001b[0;34m\u001b[0m\u001b[0;34m\u001b[0m\u001b[0m\n\u001b[0;32m----> 2\u001b[0;31m \u001b[0mconstant_function\u001b[0m\u001b[0;34m(\u001b[0m\u001b[0;34m)\u001b[0m\u001b[0;34m\u001b[0m\u001b[0;34m\u001b[0m\u001b[0m\n\u001b[0m",
      "\u001b[0;31mTypeError\u001b[0m: constant_function() missing 1 required positional argument: 'c'"
     ]
    }
   ],
   "source": [
    "# recall the order of arguments by looking at the examples above!\n",
    "constant_function()"
   ]
  },
  {
   "cell_type": "markdown",
   "id": "af45147e",
   "metadata": {},
   "source": [
    "## 1. Linear Functions\n",
    "\n",
    "As you might have concluded, a linear function is actually a polynomial of degree one or less. Whent he function is of only one variable ($x$), it is of the form:\n",
    "\n",
    "$$f(x) = mx + b$$\n",
    "\n",
    "Where $m$ and $b$ are constants and $\\in \\mathbb{R}$.\n",
    "\n",
    "From your algebra courses recall that $m$ is the slope of the line, and $b$ the shift along the $y$ axis.\n",
    "\n",
    "See the graph of two linear functions below:\n",
    "\n",
    "<img src= \"https://upload.wikimedia.org/wikipedia/commons/0/0e/Linear_Function_Graph.svg\" />\n",
    "\n",
    "source: wiki"
   ]
  },
  {
   "cell_type": "markdown",
   "id": "cbe4b644",
   "metadata": {},
   "source": [
    "### Plotting\n",
    "We have created a python function that plots linear functions for you. The function is called `linear function`. This takes in *7* arguments in the order we define below. \n",
    "\n",
    "1. $m$ slope value\n",
    "2. $b$ value\n",
    "2. `xlim_1` lowest x-value to display in graph, default = 0\n",
    "3. `xlim_2` highest x-value to display in graph, default = 5\n",
    "4. `ylim_1` lowest y-value to display in graph, default = 0\n",
    "5. `ylim_2` highest y-value to display in graph, default = 5\n",
    "6. `color` your color of choice (default is `r` for red) [OPTIONAL]\n",
    "\n",
    "**Note**: the colors available for this plot are the same as the graph above."
   ]
  },
  {
   "cell_type": "code",
   "execution_count": 6,
   "id": "9a9d690f",
   "metadata": {},
   "outputs": [],
   "source": [
    "def linear_function(m, b, xlim_1=0, xlim_2=5, ylim_1=0, ylim_2=5, color='r'):\n",
    "    \n",
    "    # set of x values from xlim_1 and xlim_2 (100 points)\n",
    "    x = np.linspace(xlim_1, xlim_2, 100)\n",
    "    # actual y function\n",
    "    y = m * x + b\n",
    "    \n",
    "    # setting up x and y limits\n",
    "    plt.xlim(xlim_1, xlim_2)\n",
    "    plt.ylim(ylim_1, ylim_2)\n",
    "    \n",
    "    # plot title\n",
    "    plt.title('f(x)= ' + str(m) + 'x' + '+' +str(b))\n",
    "    \n",
    "    # actual plot\n",
    "    plt.plot(x, y, color=color)\n",
    "    plt.show()\n",
    "    \n",
    "    return"
   ]
  },
  {
   "cell_type": "markdown",
   "id": "2f2b7dd9",
   "metadata": {},
   "source": [
    "### Question 1.1\n",
    "In the cell below type the domain and range for the constant function $f(x) = -\\frac{1}{2}x + 2$."
   ]
  },
  {
   "cell_type": "markdown",
   "id": "3b0e26dc",
   "metadata": {},
   "source": [
    "YOUR ANSWER HERE\n",
    "- Domain: \n",
    "\n",
    "- Range: "
   ]
  },
  {
   "cell_type": "markdown",
   "id": "1ec81f7a",
   "metadata": {},
   "source": [
    "### Question 1.2 \n",
    "\n",
    "Plot the linear function $f(x) = -\\frac{1}{2}x + 2$ with the default values for xlim_1, xlim_2, ylim_1, ylim_2. \n",
    "Pick any color you wish. "
   ]
  },
  {
   "cell_type": "code",
   "execution_count": 7,
   "id": "2945ff06",
   "metadata": {
    "scrolled": true
   },
   "outputs": [
    {
     "ename": "SyntaxError",
     "evalue": "invalid syntax (<ipython-input-7-ea6a1faa08a2>, line 4)",
     "output_type": "error",
     "traceback": [
      "\u001b[0;36m  File \u001b[0;32m\"<ipython-input-7-ea6a1faa08a2>\"\u001b[0;36m, line \u001b[0;32m4\u001b[0m\n\u001b[0;31m    linear_function(m, b, color=)\u001b[0m\n\u001b[0m                                ^\u001b[0m\n\u001b[0;31mSyntaxError\u001b[0m\u001b[0;31m:\u001b[0m invalid syntax\n"
     ]
    }
   ],
   "source": [
    "# only need to include the values for m and b (substitute m and b below)\n",
    "# inlcude your selected color too\n",
    "\n",
    "linear_function(m, b, color=)"
   ]
  },
  {
   "cell_type": "markdown",
   "id": "ff766096",
   "metadata": {},
   "source": [
    "### Question 1.3\n",
    "\n",
    "Determine if the function is increasing or decreasing in $[0, 5]$. Fill your answer in the cell below."
   ]
  },
  {
   "cell_type": "markdown",
   "id": "e8814965",
   "metadata": {},
   "source": [
    "YOUR ANSWER HERE\n",
    "\n"
   ]
  },
  {
   "cell_type": "markdown",
   "id": "bf944b8a",
   "metadata": {},
   "source": [
    "### Question 1.4\n",
    "Find the roots for the function $f(x) = -\\frac{1}{2}x + 2$. Fill your answer in the cell below."
   ]
  },
  {
   "cell_type": "markdown",
   "id": "5a11a41d",
   "metadata": {},
   "source": [
    "YOUR ANSWER HERE"
   ]
  },
  {
   "cell_type": "markdown",
   "id": "ec257c25",
   "metadata": {},
   "source": [
    "### Question 1.5\n",
    "Create your own linear function. Pick your $m$ and $b$. Establish your xlims, and ylims, as well as your color."
   ]
  },
  {
   "cell_type": "code",
   "execution_count": 8,
   "id": "3e1b83bb",
   "metadata": {},
   "outputs": [
    {
     "ename": "SyntaxError",
     "evalue": "invalid syntax (<ipython-input-8-9a327c0255b2>, line 5)",
     "output_type": "error",
     "traceback": [
      "\u001b[0;36m  File \u001b[0;32m\"<ipython-input-8-9a327c0255b2>\"\u001b[0;36m, line \u001b[0;32m5\u001b[0m\n\u001b[0;31m    linear_function(m,b, xlim_1=, xlim_2=, ylim_1=, ylim_2=, color=)\u001b[0m\n\u001b[0m                                ^\u001b[0m\n\u001b[0;31mSyntaxError\u001b[0m\u001b[0;31m:\u001b[0m invalid syntax\n"
     ]
    }
   ],
   "source": [
    "# substitute m and b below according to the function you wish you plot\n",
    "# don't forget about the graph limits you wish to display\n",
    "# pick your color\n",
    "\n",
    "linear_function(m,b, xlim_1=, xlim_2=, ylim_1=, ylim_2=, color=)"
   ]
  },
  {
   "cell_type": "markdown",
   "id": "12c6442f",
   "metadata": {},
   "source": [
    "### Question 1.6\n",
    "Identify the domain, range, and roots of the function you selected."
   ]
  },
  {
   "cell_type": "markdown",
   "id": "da2e386c",
   "metadata": {},
   "source": [
    "YOUR ANSWER HERE"
   ]
  },
  {
   "cell_type": "markdown",
   "id": "4b83eeac",
   "metadata": {},
   "source": [
    "## 2. Quadratic (n = 2) Functions\n",
    "Recall that a quadratic function is a polynomial of degree 2. Often presented in the form:\n",
    "\n",
    "$$f(x) = ax^2 + bx + c  ,  a\\neq 0$$\n",
    "\n",
    "and/or\n",
    "\n",
    "$$f(x) = ax^2, b=0 ,c =0$$\n",
    "\n",
    "Where coeffiecients $a$, $b$, and $c$ $\\in \\mathbb{R}$\n",
    "\n",
    "<img src=\"https://upload.wikimedia.org/wikipedia/commons/f/f8/Polynomialdeg2.svg\"/>\n",
    "\n",
    "source: wiki"
   ]
  },
  {
   "cell_type": "markdown",
   "id": "5e06f31e",
   "metadata": {},
   "source": [
    "### Plotting\n",
    "We have created a python function that plots linear functions for you. The function is called `linear function`. This takes in *8* arguments in the order we define below. \n",
    "\n",
    "1. $a$ coefficient value\n",
    "2. $b$ coefficient value\n",
    "3. $c$ coefficient value\n",
    "2. `xlim_1` lowest x-value to display in graph, default = -5\n",
    "3. `xlim_2` highest x-value to display in graph, default = 5\n",
    "4. `ylim_1` lowest y-value to display in graph, default = -5\n",
    "5. `ylim_2` highest y-value to display in graph, default = 5\n",
    "6. `color` your color of choice (default is `r` for red) [OPTIONAL]\n",
    "\n",
    "**Note**: the colors available for this plot are the same as the graph above. When plotting this graph, if the coefficients you select for $b$ and $c$ are zero, you must type that in your arguments."
   ]
  },
  {
   "cell_type": "code",
   "execution_count": 9,
   "id": "b482e974",
   "metadata": {},
   "outputs": [],
   "source": [
    "def quadratic_function(a, b, c, xlim_1= -5, xlim_2=5, ylim_1=-5, ylim_2=5, color='r'):\n",
    "    \n",
    "    # set of points from xlim_1 to xlim_2 (100 points)\n",
    "    x = np.linspace(xlim_1, xlim_2, 100)\n",
    "    # actual function\n",
    "    y = a*(x**2) + b*x + c\n",
    "    \n",
    "    # setting up x and y limits\n",
    "    plt.xlim(xlim_1, xlim_2)\n",
    "    plt.ylim(ylim_1, ylim_2)\n",
    "    \n",
    "    # choosing title based on type of quadratic function\n",
    "    # classic, where neither a,b, and c equal 0\n",
    "    if b!= 0 and c!=0:\n",
    "        plt.title('f(x) = ' + str(a) + 'x^2' + '+' + str(b) + '+' + str(c))\n",
    "    # if b and c are 0\n",
    "    else:\n",
    "        plt.title('f(x) = ' + str(a) + 'x^2')\n",
    "    \n",
    "    # actual plot\n",
    "    plt.plot(x, y, color=color)\n",
    "    \n",
    "    # plotting x and y axis to orient students right at the middle \n",
    "    # 0's are for x=0 and y=0 (vlines, hlines respectively)\n",
    "    plt.hlines(0, xlim_1, xlim_2, linestyle='--', color='gray')\n",
    "    plt.vlines(0, ylim_1, ylim_2, linestyle='--', color='gray')\n",
    "    plt.show()\n",
    "    \n",
    "    return   \n",
    "    "
   ]
  },
  {
   "cell_type": "markdown",
   "id": "14b00408",
   "metadata": {},
   "source": [
    "### Question 2.1 \n",
    "In the cell below type the domain and range for the constant function $f(x) = -2x^2 + 1x + 2$."
   ]
  },
  {
   "cell_type": "markdown",
   "id": "ec65bfe3",
   "metadata": {},
   "source": [
    "YOUR ANSWER HERE\n",
    "- Domain:\n",
    "- Range:"
   ]
  },
  {
   "cell_type": "markdown",
   "id": "72ba883a",
   "metadata": {},
   "source": [
    "### Question 2.2\n",
    "Plot the quadratic function $f(x) = -2x^2 + 1x + 2$ with the default values for `xlim_1`, `xlim_2`, `ylim_1`, `ylim_2`. \n",
    "Pick any `color` you wish. "
   ]
  },
  {
   "cell_type": "code",
   "execution_count": null,
   "id": "86bcd03f",
   "metadata": {
    "scrolled": true
   },
   "outputs": [],
   "source": [
    "quadratic_function(-2,1,2)"
   ]
  },
  {
   "cell_type": "markdown",
   "id": "29e563e9",
   "metadata": {},
   "source": [
    "### Question 2.3\n",
    "Find the roots of the function  $f(x) = -2x^2 + 1x + 2$. "
   ]
  },
  {
   "cell_type": "markdown",
   "id": "5543c779",
   "metadata": {},
   "source": [
    "YOUR ANSWER HERE"
   ]
  },
  {
   "cell_type": "code",
   "execution_count": null,
   "id": "ff8d3804",
   "metadata": {},
   "outputs": [],
   "source": []
  },
  {
   "cell_type": "markdown",
   "id": "b38f00c4",
   "metadata": {},
   "source": [
    "## 3. Higher degree Polynomial (n > 2) Functions\n",
    "Recall that a polynomial can have constants, variables and exponents that can be combined using addition, subtraction, multiplication, and division, but no division by a vairable. \n",
    "Remember also that the powers of polynomials can only be 0,1,2,3,...\n",
    "\n",
    "The general form of these is:\n",
    "$$f(x)=ax^n + bx^{n-1} + cx^{n-2} + ... + d $$\n",
    "\n",
    "Some examples of polynomials include cubics and quadratics!\n",
    "$$f(x) = 5x^2 - 3x^3 + 2x + 1$$\n",
    "\n",
    "The graph of a polynomial function of degree 3.\n",
    "<img src=\"https://upload.wikimedia.org/wikipedia/commons/a/a3/Polynomialdeg3.svg\"/>\n",
    "\n",
    "source: wiki"
   ]
  },
  {
   "cell_type": "markdown",
   "id": "0095c087",
   "metadata": {},
   "source": [
    "### Plotting\n",
    "We have created a python function that plots linear functions for you. The function is called `poly function`. This takes in *6* arguments in the order we define below. \n",
    "\n",
    "1. The polynomial function `func` (that you will type!)\n",
    "2. `xlim_1` lowest x-value to display in graph, default = -5\n",
    "3. `xlim_2` highest x-value to display in graph, default = 5\n",
    "4. `ylim_1` lowest y-value to display in graph, default = -5\n",
    "5. `ylim_2` highest y-value to display in graph, default = 5\n",
    "6. `color` your color of choice (default is `r` for red) [OPTIONAL]"
   ]
  },
  {
   "cell_type": "code",
   "execution_count": 27,
   "id": "40a6b1e4",
   "metadata": {},
   "outputs": [],
   "source": [
    "def poly_function(func, xlim_1=-10, xlim_2=10, ylim_1=-10, ylim_2=10, color='r'):\n",
    "    \n",
    "    # set of x points in graph from xlim_1 and xlim_2 (100)\n",
    "    x = np.linspace(xlim_1, xlim_2, 100)\n",
    "    # function inputted by student\n",
    "    y = func(x)\n",
    "    \n",
    "    # setting up x and y limits\n",
    "    plt.xlim(xlim_1, xlim_2)\n",
    "    plt.ylim(ylim_1, ylim_2)\n",
    "    \n",
    "    # setting up title\n",
    "    plt.title('Your Polynomial')\n",
    "    \n",
    "    # actual plot based on x and y\n",
    "    plt.plot(x, y, color=color)\n",
    "    \n",
    "    # plotting x and y axis to orient students right at the middle \n",
    "    # 0's are for x=0 and y=0 (vlines, hlines respectively)\n",
    "    plt.hlines(0, xlim_1, xlim_2, linestyle='--', color='gray')\n",
    "    plt.vlines(0, ylim_1, ylim_2, linestyle='--', color='gray')\n",
    "    plt.show()\n",
    "    \n",
    "    return"
   ]
  },
  {
   "cell_type": "markdown",
   "id": "566696c1",
   "metadata": {},
   "source": [
    "### An example function\n",
    "Recall we went over how to type the order of operations in python in previous notebooks. When you type your function, keep the order of operations in mind, as well as parenthesis in case you need them.\n",
    "\n",
    "In the cell below we will type our own polynomial function under the variable name `func_1`. The actual polynomial function will take `x` as its argument (values of x--think domain). This polynomial will be typed after the semi colon.\n",
    "\n",
    "To learn more about `lambda` functions visit: https://www.geeksforgeeks.org/passing-function-as-an-argument-in-python/ (scroll to **lambda as a wrapper function**)."
   ]
  },
  {
   "cell_type": "code",
   "execution_count": 28,
   "id": "8f69a46d",
   "metadata": {
    "scrolled": true
   },
   "outputs": [],
   "source": [
    "func_1 = lambda x: x**3 + x**2 + 1"
   ]
  },
  {
   "cell_type": "code",
   "execution_count": 29,
   "id": "6c093f3e",
   "metadata": {
    "scrolled": true
   },
   "outputs": [
    {
     "data": {
      "image/png": "[encoded data removed]",
      "text/plain": [
       "<Figure size 432x288 with 1 Axes>"
      ]
     },
     "metadata": {
      "needs_background": "light"
     },
     "output_type": "display_data"
    }
   ],
   "source": [
    "poly_function(func_1)"
   ]
  },
  {
   "cell_type": "markdown",
   "id": "58ded7fb",
   "metadata": {},
   "source": [
    "### Question 3.1 \n",
    "What is the domain and range of the function we plotted above? $f(x) = x^3 + x^2 + 1$"
   ]
  },
  {
   "cell_type": "markdown",
   "id": "a31be948",
   "metadata": {},
   "source": [
    "YOUR ANSWER HERE\n",
    "- Domain:\n",
    "- Range:"
   ]
  },
  {
   "cell_type": "markdown",
   "id": "8c008dca",
   "metadata": {},
   "source": [
    "### Question 3.2 \n",
    "Find the roots, intercepts, the intervals in which the function is increasing and decreasiong, as well as determine whether the function is odd/even/neither and explain why. "
   ]
  },
  {
   "cell_type": "markdown",
   "id": "9283fdda",
   "metadata": {},
   "source": [
    "YOUR ANSWER HERE\n",
    "- Roots\n",
    "- Intercepts\n",
    "- Increasing/Decreasing in:\n",
    "- Odd/Even/Neither\n",
    "- Why"
   ]
  },
  {
   "cell_type": "markdown",
   "id": "ca09a72b",
   "metadata": {},
   "source": [
    "### Question 3.4\n",
    "Get creative!! Type in your own polynomial you wish to graph. Remember that you should type the polynomial after `lambda x:`.\n",
    "\n",
    "**Note**: To raise a variable to a power in python you have to use `**` instead of `^` ;) [see the example we showed for reference]."
   ]
  },
  {
   "cell_type": "code",
   "execution_count": null,
   "id": "87a2060a",
   "metadata": {},
   "outputs": [],
   "source": [
    "your_poly = lambda x: #YOUR POLY HERE"
   ]
  },
  {
   "cell_type": "markdown",
   "id": "f6262267",
   "metadata": {},
   "source": [
    "Let's plot it! (Don't forget to establish x, y limits to graph, as well as color)."
   ]
  },
  {
   "cell_type": "code",
   "execution_count": null,
   "id": "1aa79dbe",
   "metadata": {},
   "outputs": [],
   "source": [
    "poly_function(your_poly, xlim_1=, xlim_2=, ylim_1=, ylim_2, color=)"
   ]
  },
  {
   "cell_type": "markdown",
   "id": "ebcb17b6",
   "metadata": {},
   "source": [
    "## 4. Rational Functions\n",
    "\n",
    "A rational function is any function that can be defined by a rational fraction, which is an algebraic fraction such that both the numerator and the denominator are polynomials.\n",
    "\n",
    "Here is an example form:\n",
    "\n",
    "$$f(x)= \\frac{ax^n + bx^{n-1} + cx^{n-2} + ...+ z_1}{dx^n + ex^{n-1}+ gx{n-1} + ... + z_2}$$\n",
    "\n",
    "\n",
    "Here's the graph for $$f(x) = \\frac{x^3 - 2x}{2()x^2 - 5}$$\n",
    "<img src=\"https://upload.wikimedia.org/wikipedia/commons/8/87/RationalDegree3.svg\"/>\n",
    "\n",
    "Source wiki\n",
    "\n",
    "**Hint: Get ready for some asymptote questions!!**"
   ]
  },
  {
   "cell_type": "markdown",
   "id": "3e32221e",
   "metadata": {},
   "source": [
    "### Plotting\n",
    "For this function plotting we will just reuse your old `poly_function` function to plot our rational functions. The only thing that will be changed is the input parameter `func` each time.\n",
    "\n",
    "For example, say I want to plot $f(x)= \\frac{1}{x}$"
   ]
  },
  {
   "cell_type": "code",
   "execution_count": 30,
   "id": "669161cd",
   "metadata": {},
   "outputs": [],
   "source": [
    "func_2 = lambda x: 1/x"
   ]
  },
  {
   "cell_type": "code",
   "execution_count": 32,
   "id": "5d5fd45c",
   "metadata": {},
   "outputs": [
    {
     "data": {
      "image/png": "[encoded data removed]",
      "text/plain": [
       "<Figure size 432x288 with 1 Axes>"
      ]
     },
     "metadata": {
      "needs_background": "light"
     },
     "output_type": "display_data"
    }
   ],
   "source": [
    "poly_function(func_2)"
   ]
  },
  {
   "cell_type": "markdown",
   "id": "3e9c4554",
   "metadata": {},
   "source": [
    "hhhmm theres a line in the middle--gotta figure out how python handles asymptotes in matplotlib!!"
   ]
  },
  {
   "cell_type": "markdown",
   "id": "614ff4d0",
   "metadata": {},
   "source": [
    "## 5. Exponential Functions"
   ]
  },
  {
   "cell_type": "markdown",
   "id": "9087c622",
   "metadata": {},
   "source": [
    "## 6. Logarithmic Functions"
   ]
  },
  {
   "cell_type": "markdown",
   "id": "8551ea2e",
   "metadata": {},
   "source": [
    "## 7. Trigonometric Functions"
   ]
  },
  {
   "cell_type": "code",
   "execution_count": null,
   "id": "024ac7f8",
   "metadata": {},
   "outputs": [],
   "source": []
  }
 ],
 "metadata": {
  "kernelspec": {
   "display_name": "Python 3",
   "language": "python",
   "name": "python3"
  },
  "language_info": {
   "codemirror_mode": {
    "name": "ipython",
    "version": 3
   },
   "file_extension": ".py",
   "mimetype": "text/x-python",
   "name": "python",
   "nbconvert_exporter": "python",
   "pygments_lexer": "ipython3",
   "version": "3.7.3"
  }
 },
 "nbformat": 4,
 "nbformat_minor": 5
}
