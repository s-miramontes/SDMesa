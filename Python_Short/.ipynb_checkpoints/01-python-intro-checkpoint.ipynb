{
 "cells": [
  {
   "cell_type": "markdown",
   "metadata": {},
   "source": [
    "# Python Basics\n",
    "In this notebook we introduce you to the kind of \"things\" python utilizes to represent and store data. We also do an overview of some cool mathematical and science applications."
   ]
  },
  {
   "cell_type": "markdown",
   "metadata": {},
   "source": [
    "----------------------------------------------------"
   ]
  },
  {
   "cell_type": "markdown",
   "metadata": {},
   "source": [
    "## Table of Contents\n",
    "1. Things\n",
    "    1. Comments\n",
    "2. Commands that operate on things\n",
    "    1. Use an operator\n",
    "    2. Use a function\n",
    "3. Python Libraries\n",
    "4. Lists\n",
    "5. Dictionaries\n",
    "6. Plotting with Matplotlib\n",
    "7. Solving equations"
   ]
  },
  {
   "cell_type": "markdown",
   "metadata": {},
   "source": [
    "## 1. Things\n",
    "'Things' are known as 'types' in Python. These are the most common basic components in programming languages. They are also called variables, and in special cases, objects.\n",
    "\n",
    "Some examples are:\n",
    "- integers\n",
    "- floats\n",
    "- strings\n",
    "- booleans \n",
    "- special objects of various types\n",
    "\n",
    "We will give you examples of these as we go through this lesson."
   ]
  },
  {
   "cell_type": "markdown",
   "metadata": {},
   "source": [
    "**Note:** Comments in any programming language are used to explain the code that is written (whehter it is something you wrote, or the code someone else wrote). \n",
    "\n",
    "In the code cell below you will find the code line that reads **\"# a thing\"**. This line with the `#` is an example for a comment in Python. "
   ]
  },
  {
   "cell_type": "code",
   "execution_count": 1,
   "metadata": {},
   "outputs": [
    {
     "data": {
      "text/plain": [
       "2"
      ]
     },
     "execution_count": 1,
     "metadata": {},
     "output_type": "execute_result"
    }
   ],
   "source": [
    "# a thing (this is a Python comment!)\n",
    "2"
   ]
  },
  {
   "cell_type": "markdown",
   "metadata": {},
   "source": [
    "In the cell above we intend to show you an example of these \"things\" we mentioned above."
   ]
  },
  {
   "cell_type": "markdown",
   "metadata": {},
   "source": [
    "**Mini Exercise**: Try writing a comment for yourself in the cell below. Remember to start with `#`."
   ]
  },
  {
   "cell_type": "code",
   "execution_count": null,
   "metadata": {},
   "outputs": [],
   "source": []
  },
  {
   "cell_type": "markdown",
   "metadata": {},
   "source": [
    "You can use `print` to show multiple things in the same cell.Note that you can use single or double quotes for strings."
   ]
  },
  {
   "cell_type": "code",
   "execution_count": 2,
   "metadata": {},
   "outputs": [
    {
     "name": "stdout",
     "output_type": "stream",
     "text": [
      "2\n",
      "hello\n"
     ]
    }
   ],
   "source": [
    "# RUN THIS CELL\n",
    "\n",
    "print(2)\n",
    "print('hello')"
   ]
  },
  {
   "cell_type": "markdown",
   "metadata": {},
   "source": [
    "\"Things\" can also be stored as variables."
   ]
  },
  {
   "cell_type": "code",
   "execution_count": 3,
   "metadata": {},
   "outputs": [
    {
     "name": "stdout",
     "output_type": "stream",
     "text": [
      "2 hello True\n"
     ]
    }
   ],
   "source": [
    "# RUN THIS CELL\n",
    "\n",
    "a = 2\n",
    "b = 'hello'\n",
    "c = True # this is case sensitive\n",
    "\n",
    "# you can also print 3 separate \"things\" with a comma to separate\n",
    "print(a, b, c)"
   ]
  },
  {
   "cell_type": "markdown",
   "metadata": {},
   "source": [
    "The function `type` tells us the type of \"thing\" we have.\n",
    "See the example in the cell below. "
   ]
  },
  {
   "cell_type": "code",
   "execution_count": 4,
   "metadata": {},
   "outputs": [
    {
     "name": "stdout",
     "output_type": "stream",
     "text": [
      "<class 'int'>\n",
      "<class 'str'>\n",
      "<class 'bool'>\n"
     ]
    }
   ],
   "source": [
    "print(type(a))\n",
    "print(type(b))\n",
    "print(type(c))"
   ]
  },
  {
   "cell_type": "markdown",
   "metadata": {},
   "source": [
    "What happens if we create a variable and se it equal to an old variable?"
   ]
  },
  {
   "cell_type": "code",
   "execution_count": 5,
   "metadata": {},
   "outputs": [],
   "source": [
    "# RUN THIS CELL\n",
    "\n",
    "a = 1\n",
    "b = a\n",
    "a = 2"
   ]
  },
  {
   "cell_type": "markdown",
   "metadata": {},
   "source": [
    "What do you think is `b`? Let's find out!"
   ]
  },
  {
   "cell_type": "code",
   "execution_count": 6,
   "metadata": {},
   "outputs": [
    {
     "name": "stdout",
     "output_type": "stream",
     "text": [
      "1\n"
     ]
    }
   ],
   "source": [
    "print(b)"
   ]
  },
  {
   "cell_type": "markdown",
   "metadata": {},
   "source": [
    "## 2. Commands that operate on things\n",
    "What if we could perform operations (mathematical) on the variables we create?\n",
    "\n",
    "There are very common ways to make this happen. Let's find out."
   ]
  },
  {
   "cell_type": "markdown",
   "metadata": {},
   "source": [
    "### A) Use an Operator\n",
    "Math operators in Python work like you would expect them to work on numbers. Interestingly, they can also do some useful operations on other things, like strings."
   ]
  },
  {
   "cell_type": "code",
   "execution_count": 7,
   "metadata": {},
   "outputs": [
    {
     "name": "stdout",
     "output_type": "stream",
     "text": [
      "5\n",
      "6\n",
      "8\n",
      "0.6666666666666666\n",
      "0\n"
     ]
    }
   ],
   "source": [
    "# standard math operators work you'd expect\n",
    "\n",
    "a = 2\n",
    "b = 3\n",
    "print(a + b)\n",
    "print(a * b)\n",
    "print(a ** b) # this is a to the power of b (a^b does something very different!)\n",
    "print(a / b) # notice the difference between / and // when dividing integers\n",
    "print(a // b)"
   ]
  },
  {
   "cell_type": "code",
   "execution_count": 8,
   "metadata": {},
   "outputs": [
    {
     "name": "stdout",
     "output_type": "stream",
     "text": [
      "helloworld\n",
      "hellohellohello\n"
     ]
    }
   ],
   "source": [
    "# operators on strings\n",
    "print('hello' + 'world')\n",
    "print('hello' * 3)\n",
    "\n",
    "# print('hello' / 3) # you can't do this!"
   ]
  },
  {
   "cell_type": "markdown",
   "metadata": {},
   "source": [
    "There are also boolean operators that compare quantities (like inequalities!) and give back a `bool` variable (`True` or `False`) as a result."
   ]
  },
  {
   "cell_type": "code",
   "execution_count": 10,
   "metadata": {},
   "outputs": [
    {
     "name": "stdout",
     "output_type": "stream",
     "text": [
      "False\n",
      "True\n"
     ]
    }
   ],
   "source": [
    "a = (1 > 3)\n",
    "b = (3 == 3)\n",
    "print(a)\n",
    "print(b)"
   ]
  },
  {
   "cell_type": "markdown",
   "metadata": {},
   "source": [
    "### B) Use a Function\n",
    "We will see what `type`, `len`, and `round` can do in the cell below."
   ]
  },
  {
   "cell_type": "code",
   "execution_count": 11,
   "metadata": {},
   "outputs": [
    {
     "name": "stdout",
     "output_type": "stream",
     "text": [
      "<class 'int'>\n",
      "5\n",
      "3\n"
     ]
    }
   ],
   "source": [
    "# there are other python built-in functions like the ones below\n",
    "# but let's stick with these for now\n",
    "\n",
    "print(type(3))\n",
    "print(len('hello'))\n",
    "print(round(3.3))"
   ]
  },
  {
   "cell_type": "markdown",
   "metadata": {},
   "source": [
    "**Tip**: To find out what a function does, you can type the function's name followed by a question mark to get a pop-up help window."
   ]
  },
  {
   "cell_type": "code",
   "execution_count": 12,
   "metadata": {},
   "outputs": [],
   "source": [
    "# Try it here by running this cell! (close the pop-up afterwads)\n",
    "round?"
   ]
  },
  {
   "cell_type": "markdown",
   "metadata": {},
   "source": [
    "Let's round to 2 decimal places by including a second argument in the function `round` (2). This tells Python to round the number in the first argument `3.14159` to `2` decimal places."
   ]
  },
  {
   "cell_type": "code",
   "execution_count": 13,
   "metadata": {},
   "outputs": [
    {
     "data": {
      "text/plain": [
       "3.14"
      ]
     },
     "execution_count": 13,
     "metadata": {},
     "output_type": "execute_result"
    }
   ],
   "source": [
    "# rather than using 'print' you can also output results by just running a cell\n",
    "round(3.14159, 2)"
   ]
  },
  {
   "cell_type": "markdown",
   "metadata": {},
   "source": [
    "Many useful functions are in external packages, like `Numpy`.\n",
    "Let's meet Numpy!"
   ]
  },
  {
   "cell_type": "code",
   "execution_count": 14,
   "metadata": {},
   "outputs": [],
   "source": [
    "# the code line below imports a package containing\n",
    "# a whole new set of functions that we will be using soon\n",
    "import numpy as np"
   ]
  },
  {
   "cell_type": "markdown",
   "metadata": {},
   "source": [
    "To see what kind of functions are inside a package, type the name of the package (np, short for numpy), a period, then hit the tab button. Try it on cell below."
   ]
  },
  {
   "cell_type": "code",
   "execution_count": null,
   "metadata": {},
   "outputs": [],
   "source": []
  },
  {
   "cell_type": "markdown",
   "metadata": {},
   "source": [
    "Let's checkout some examples of the functions available in `Numpy`.\n",
    "\n",
    "1. Squareroot of a number `np.sqrt()` where you place the number of interest in the argument (inside parenthesis).\n",
    "2. Pi `np.pi` (this is actually **not** a function but the value of pi, we'll see an example of when to use this below).\n",
    "3. Sine `np.sin`, in this case we are using the sine function to calculate the value of pi. "
   ]
  },
  {
   "cell_type": "code",
   "execution_count": 15,
   "metadata": {},
   "outputs": [
    {
     "name": "stdout",
     "output_type": "stream",
     "text": [
      "2.0\n",
      "3.141592653589793\n",
      "1.2246467991473532e-16\n"
     ]
    }
   ],
   "source": [
    "# RUN THIS CELL TO SEE THE EXAMPLES COME TO LIFE!\n",
    "\n",
    "print(np.sqrt(4))\n",
    "print(np.pi) # this isn't a function, just the value of pi!\n",
    "print(np.sin(np.pi))"
   ]
  },
  {
   "cell_type": "markdown",
   "metadata": {},
   "source": [
    "## Exercise 1: Basic Arithmetic Operations\n",
    "From the review above, type in the answers to the following code."
   ]
  },
  {
   "cell_type": "code",
   "execution_count": 18,
   "metadata": {},
   "outputs": [],
   "source": [
    "# consider variables \"a\" and \"b\"\n",
    "\n",
    "a = 12\n",
    "b = 2\n",
    "\n",
    "# what are the results for each of these operations?\n",
    "\n",
    "q1 = (a + b)\n",
    "q2 = (a ** b)\n",
    "q3 = (a / b)"
   ]
  },
  {
   "cell_type": "markdown",
   "metadata": {},
   "source": [
    "Click here to write your answers:\n",
    "\n",
    "1.\n",
    "\n",
    "2.\n",
    "\n",
    "3."
   ]
  },
  {
   "cell_type": "markdown",
   "metadata": {},
   "source": [
    "Let's see if you were right!"
   ]
  },
  {
   "cell_type": "code",
   "execution_count": 19,
   "metadata": {},
   "outputs": [
    {
     "name": "stdout",
     "output_type": "stream",
     "text": [
      "Result for q1:  14\n",
      "Result for q2:  144\n",
      "Result for q3:  6.0\n"
     ]
    }
   ],
   "source": [
    "print(\"Result for q1: \", q1)\n",
    "print(\"Result for q2: \", q2)\n",
    "print(\"Result for q3: \", q3)"
   ]
  },
  {
   "cell_type": "markdown",
   "metadata": {},
   "source": [
    "## 3. Python Libraries\n",
    "The Python language has only very basic operations. Most math functions arein various math Python libraries. The `numpy` library is very convenient. \n",
    "\n",
    "This next cell shows how to import the `numpy` library with the prefix `np`, then use it to call common mathematical functions. "
   ]
  },
  {
   "cell_type": "code",
   "execution_count": 20,
   "metadata": {},
   "outputs": [
    {
     "name": "stdout",
     "output_type": "stream",
     "text": [
      "3.141592653589793\n",
      "2.718281828459045\n"
     ]
    }
   ],
   "source": [
    "# this is how you import the numpy library\n",
    "import numpy as np\n",
    "\n",
    "# here are some mathematical constants (pi and e) saved in variables \"pi\" and \"e\"\n",
    "pi = np.pi\n",
    "e = np.e\n",
    "\n",
    "# let's print them!\n",
    "print(pi)\n",
    "print(e)"
   ]
  },
  {
   "cell_type": "markdown",
   "metadata": {},
   "source": [
    "We can also use trigonometric functions! like sine, cosine, and tangent."
   ]
  },
  {
   "cell_type": "code",
   "execution_count": 21,
   "metadata": {},
   "outputs": [
    {
     "name": "stdout",
     "output_type": "stream",
     "text": [
      "0.7071067811865475\n",
      "0.7071067811865476\n",
      "0.9999999999999999\n"
     ]
    }
   ],
   "source": [
    "# theta is equal to pi/4 or 45 deg\n",
    "theta = np.pi/ 4\n",
    "\n",
    "# lets save the function values of sin, cos, and tan (pi/4) in the variables below\n",
    "sin = np.sin(theta)\n",
    "cos = np.cos(theta)\n",
    "tan = np.tan(theta)\n",
    "\n",
    "# let's print them!\n",
    "print(sin)\n",
    "print(cos)\n",
    "print(tan)"
   ]
  },
  {
   "cell_type": "markdown",
   "metadata": {},
   "source": [
    "## 4. Working with Lists\n",
    "Lists are a versatile way of organizing your data in Python. Here are some examples."
   ]
  },
  {
   "cell_type": "code",
   "execution_count": 22,
   "metadata": {},
   "outputs": [
    {
     "data": {
      "text/plain": [
       "[1, 2, 3, 4]"
      ]
     },
     "execution_count": 22,
     "metadata": {},
     "output_type": "execute_result"
    }
   ],
   "source": [
    "aList = [1, 2, 3, 4]\n",
    "aList"
   ]
  },
  {
   "cell_type": "markdown",
   "metadata": {},
   "source": [
    "**Concatenation** is the operation of joining obe list to another."
   ]
  },
  {
   "cell_type": "code",
   "execution_count": 23,
   "metadata": {},
   "outputs": [
    {
     "data": {
      "text/plain": [
       "[1, 2, 3, 4, 5, 6, 7, 8]"
      ]
     },
     "execution_count": 23,
     "metadata": {},
     "output_type": "execute_result"
    }
   ],
   "source": [
    "x = [1, 2, 3, 4]\n",
    "y = [5, 6, 7, 8]\n",
    "\n",
    "# this is concatenating the 2 lists above\n",
    "x + y "
   ]
  },
  {
   "cell_type": "markdown",
   "metadata": {},
   "source": [
    "We can also perform operations on the elements (numbers) inside the list. Say we want to add all the elements in the list `x`.\n",
    "\n",
    "For this we will resort to the method `np.sum(x)` from `numpy`. Note that the syntax to run this method is:\n",
    "- `np.sum()` referring to the method itsel\n",
    "- The `x` inside the parenthesis is the argument necessary to perform the `np.sum` operation.\n",
    "\n",
    "What this is telling python is to add all the elements in side the list `x`."
   ]
  },
  {
   "cell_type": "code",
   "execution_count": 24,
   "metadata": {},
   "outputs": [
    {
     "data": {
      "text/plain": [
       "10"
      ]
     },
     "execution_count": 24,
     "metadata": {},
     "output_type": "execute_result"
    }
   ],
   "source": [
    "# RUN THIS CELL TO SEE THIS TAKE PLACE\n",
    "np.sum(x)"
   ]
  },
  {
   "cell_type": "markdown",
   "metadata": {},
   "source": [
    "We can also do vector operations in Python. Consider your lists `x` and `y` as vectors.\n",
    "1. We will perform **vector addition** of `x` and `y` with the method `np.add`.\n",
    "2. We will perform **vector dot product** of `x` and `y` with the method `np.dot`."
   ]
  },
  {
   "cell_type": "code",
   "execution_count": 25,
   "metadata": {},
   "outputs": [
    {
     "data": {
      "text/plain": [
       "array([ 6,  8, 10, 12])"
      ]
     },
     "execution_count": 25,
     "metadata": {},
     "output_type": "execute_result"
    }
   ],
   "source": [
    "# vector addition -- RUN THIS CELL!\n",
    "np.add(x, y)"
   ]
  },
  {
   "cell_type": "code",
   "execution_count": 26,
   "metadata": {},
   "outputs": [
    {
     "data": {
      "text/plain": [
       "70"
      ]
     },
     "execution_count": 26,
     "metadata": {},
     "output_type": "execute_result"
    }
   ],
   "source": [
    "# vector dot product -- RUN THIS CELL!\n",
    "np.dot(x, y) "
   ]
  },
  {
   "cell_type": "code",
   "execution_count": null,
   "metadata": {},
   "outputs": [],
   "source": []
  },
  {
   "cell_type": "markdown",
   "metadata": {},
   "source": [
    "Double-click __here__ for the solution.\n",
    "\n",
    "<!-- Your answer is below:\n",
    "\n",
    "inches_in_metre = inches / 39\n",
    "inches = 65\n",
    "metw\n",
    "\n",
    "-->"
   ]
  },
  {
   "cell_type": "markdown",
   "metadata": {},
   "source": [
    "### For Loops\n",
    "\n",
    "A for loop is a means for iterating over the elements in a list. The colon `:` marks the start of code that will be executed for each element of a list.\n",
    "\n",
    "Indenting has meaning in Python. In this case, everything in the indented block will be executed on each iteration of the loop. \n",
    "This example also demonstrates string formattting (adjusting the display of each string)."
   ]
  },
  {
   "cell_type": "code",
   "execution_count": 28,
   "metadata": {},
   "outputs": [
    {
     "name": "stdout",
     "output_type": "stream",
     "text": [
      "sin(1) =  0.84147\n",
      "sin(2) =  0.90930\n",
      "sin(3) =  0.14112\n",
      "sin(4) = -0.75680\n"
     ]
    }
   ],
   "source": [
    "for x in aList:\n",
    "    print(\"sin({0}) = {1:8.5f}\".format(x,np.sin(x)))"
   ]
  },
  {
   "cell_type": "markdown",
   "metadata": {},
   "source": [
    "## 5. Working with Dictionaries\n",
    "Dictionaries are useful for storing and retrieving data as key-value pairs. For example, here is a short dictionary of molar masses. The keys are molecular formulas, and the values are the corresponding molar masses."
   ]
  },
  {
   "cell_type": "code",
   "execution_count": 29,
   "metadata": {},
   "outputs": [
    {
     "data": {
      "text/plain": [
       "{'CH4': 16.04, 'H2O': 18.02, 'O2': 32.0, 'CO2': 44.01}"
      ]
     },
     "execution_count": 29,
     "metadata": {},
     "output_type": "execute_result"
    }
   ],
   "source": [
    "# RUN THIS CELL TO SEE IT TAKE PLACE -- REMEMBER: SHIFT+Enter\n",
    "mw = {'CH4': 16.04, 'H2O': 18.02, 'O2':32.00, 'CO2': 44.01}\n",
    "mw"
   ]
  },
  {
   "cell_type": "markdown",
   "metadata": {},
   "source": [
    "We can also add new values (key, value pair) to the list. Say we want to add the molar mass of octane (C8H18)."
   ]
  },
  {
   "cell_type": "code",
   "execution_count": 30,
   "metadata": {},
   "outputs": [
    {
     "data": {
      "text/plain": [
       "{'CH4': 16.04, 'H2O': 18.02, 'O2': 32.0, 'CO2': 44.01, 'C8H18': 114.23}"
      ]
     },
     "execution_count": 30,
     "metadata": {},
     "output_type": "execute_result"
    }
   ],
   "source": [
    "# run this cell to see the changes (Shift+Enter)\n",
    "mw['C8H18'] = 114.23\n",
    "\n",
    "# now let's see the new dictionary mw with the added value of octane\n",
    "mw"
   ]
  },
  {
   "cell_type": "markdown",
   "metadata": {},
   "source": [
    "We can also retrieve a value from the dictionary. Say we want to get the molar mass of methane (CH4)."
   ]
  },
  {
   "cell_type": "code",
   "execution_count": 31,
   "metadata": {},
   "outputs": [
    {
     "data": {
      "text/plain": [
       "16.04"
      ]
     },
     "execution_count": 31,
     "metadata": {},
     "output_type": "execute_result"
    }
   ],
   "source": [
    "mw['CH4']"
   ]
  },
  {
   "cell_type": "markdown",
   "metadata": {},
   "source": [
    "A for loop is also useful means for iterating over all key-value pairs of a dictionary. "
   ]
  },
  {
   "cell_type": "code",
   "execution_count": 32,
   "metadata": {},
   "outputs": [
    {
     "name": "stdout",
     "output_type": "stream",
     "text": [
      "The molar mass of CH4 is 16.04  \n",
      "The molar mass of H2O is 18.02  \n",
      "The molar mass of O2 is 32.00  \n",
      "The molar mass of CO2 is 44.01  \n",
      "The molar mass of C8H18 is 114.23 \n"
     ]
    }
   ],
   "source": [
    "# RUN THIS CELL \n",
    "for species in mw.keys():\n",
    "    print(\"The molar mass of {:<s} is {:<7.2f}\".format(species, mw[species]))"
   ]
  },
  {
   "cell_type": "markdown",
   "metadata": {},
   "source": [
    "We can also sort the values of a dictionary by key (in this case the name of the compound) or value (the compound's molar mass)."
   ]
  },
  {
   "cell_type": "code",
   "execution_count": 34,
   "metadata": {},
   "outputs": [
    {
     "name": "stdout",
     "output_type": "stream",
     "text": [
      " C8H18      114.23\n",
      " CH4         16.04\n",
      " CO2         44.01\n",
      " H2O         18.02\n",
      " O2          32.00\n"
     ]
    }
   ],
   "source": [
    "# this sorts by value (molar mass)\n",
    "for species in sorted(mw):\n",
    "    print(\" {:<8s}  {:>7.2f}\".format(species, mw[species]))"
   ]
  },
  {
   "cell_type": "code",
   "execution_count": 35,
   "metadata": {},
   "outputs": [
    {
     "name": "stdout",
     "output_type": "stream",
     "text": [
      " CH4         16.04\n",
      " H2O         18.02\n",
      " O2          32.00\n",
      " CO2         44.01\n",
      " C8H18      114.23\n"
     ]
    }
   ],
   "source": [
    "# this sorts by key (compound)\n",
    "for species in sorted(mw, key = mw.get):\n",
    "    print(\" {:<8s}  {:>7.2f}\".format(species, mw[species]))"
   ]
  },
  {
   "cell_type": "markdown",
   "metadata": {},
   "source": [
    "## 6. Plotting with Matplotlib\n",
    "Importing the `matplotlib.pyplot` library gives IPython notebooks plotting functionality very similar to Matlab's. Here are some exxamples using funcitons from the library."
   ]
  },
  {
   "cell_type": "code",
   "execution_count": 36,
   "metadata": {},
   "outputs": [],
   "source": [
    "%matplotlib inline\n",
    "\n",
    "# lets import the library abbreviated as plt\n",
    "import matplotlib.pyplot as plt\n",
    "import numpy as np"
   ]
  },
  {
   "cell_type": "markdown",
   "metadata": {},
   "source": [
    "1. Below we will generate a vector denoted as `x` which is an evenly spaced sequence of real numbers from 0 to 10.\n",
    "2. We will the calculate the value of sine of the entire vector. \n",
    "3. We will also calculate cosine"
   ]
  },
  {
   "cell_type": "code",
   "execution_count": 37,
   "metadata": {},
   "outputs": [],
   "source": [
    "# x is a vector\n",
    "x = np.linspace(0,10)\n",
    "y = np.sin(x)\n",
    "z = np.cos(x)"
   ]
  },
  {
   "cell_type": "code",
   "execution_count": 38,
   "metadata": {},
   "outputs": [
    {
     "data": {
      "text/plain": [
       "array([ 0.        ,  0.20408163,  0.40816327,  0.6122449 ,  0.81632653,\n",
       "        1.02040816,  1.2244898 ,  1.42857143,  1.63265306,  1.83673469,\n",
       "        2.04081633,  2.24489796,  2.44897959,  2.65306122,  2.85714286,\n",
       "        3.06122449,  3.26530612,  3.46938776,  3.67346939,  3.87755102,\n",
       "        4.08163265,  4.28571429,  4.48979592,  4.69387755,  4.89795918,\n",
       "        5.10204082,  5.30612245,  5.51020408,  5.71428571,  5.91836735,\n",
       "        6.12244898,  6.32653061,  6.53061224,  6.73469388,  6.93877551,\n",
       "        7.14285714,  7.34693878,  7.55102041,  7.75510204,  7.95918367,\n",
       "        8.16326531,  8.36734694,  8.57142857,  8.7755102 ,  8.97959184,\n",
       "        9.18367347,  9.3877551 ,  9.59183673,  9.79591837, 10.        ])"
      ]
     },
     "execution_count": 38,
     "metadata": {},
     "output_type": "execute_result"
    }
   ],
   "source": [
    "# this is how the vector x looks like\n",
    "x"
   ]
  },
  {
   "cell_type": "code",
   "execution_count": 39,
   "metadata": {},
   "outputs": [
    {
     "data": {
      "text/plain": [
       "array([ 0.        ,  0.20266794,  0.39692415,  0.57470604,  0.72863478,\n",
       "        0.85232157,  0.94063279,  0.98990308,  0.99808748,  0.96484631,\n",
       "        0.89155923,  0.78126802,  0.63855032,  0.46932961,  0.2806294 ,\n",
       "        0.08028167, -0.12339814, -0.32195632, -0.50715171, -0.67129779,\n",
       "       -0.80758169, -0.91034694, -0.97532829, -0.99982867, -0.9828312 ,\n",
       "       -0.92504137, -0.82885774, -0.6982724 , -0.53870529, -0.35677924,\n",
       "       -0.16004509,  0.04333173,  0.24491007,  0.43632343,  0.6096272 ,\n",
       "        0.75762842,  0.8741843 ,  0.9544572 ,  0.99511539,  0.99447137,\n",
       "        0.95255185,  0.8710967 ,  0.75348673,  0.60460332,  0.43062587,\n",
       "        0.23877532,  0.0370144 , -0.16628279, -0.36267843, -0.54402111])"
      ]
     },
     "execution_count": 39,
     "metadata": {},
     "output_type": "execute_result"
    }
   ],
   "source": [
    "# this is how y looks like (remember that y calculates sin() of each of the elements inside of x)\n",
    "y"
   ]
  },
  {
   "cell_type": "code",
   "execution_count": 40,
   "metadata": {},
   "outputs": [
    {
     "data": {
      "text/plain": [
       "array([ 1.        ,  0.97924752,  0.91785141,  0.81835992,  0.68490244,\n",
       "        0.52301811,  0.33942593,  0.1417459 , -0.0618173 , -0.26281476,\n",
       "       -0.45290412, -0.6241957 , -0.76958007, -0.88302305, -0.9598162 ,\n",
       "       -0.99677222, -0.99235724, -0.94675453, -0.8618568 , -0.74118774,\n",
       "       -0.58975572, -0.41384591, -0.22075945, -0.01851037,  0.18450698,\n",
       "        0.37986637,  0.55945943,  0.71583215,  0.84249428,  0.93418872,\n",
       "        0.98710971,  0.99906074,  0.9695458 ,  0.8997899 ,  0.79268826,\n",
       "        0.65268613,  0.48559429,  0.29834787,  0.09871854, -0.10500809,\n",
       "       -0.30437638, -0.49111153, -0.65746312, -0.79652673, -0.90253053,\n",
       "       -0.97107484, -0.99931473, -0.98607811, -0.93191435, -0.83907153])"
      ]
     },
     "execution_count": 40,
     "metadata": {},
     "output_type": "execute_result"
    }
   ],
   "source": [
    "# same logic goes for z, but with cosine\n",
    "z"
   ]
  },
  {
   "cell_type": "markdown",
   "metadata": {},
   "source": [
    "We are now going to plot the values we calculated above using matplotlib (`plt`)."
   ]
  },
  {
   "cell_type": "code",
   "execution_count": 41,
   "metadata": {},
   "outputs": [
    {
     "data": {
      "image/png": "[encoded data removed]",
      "text/plain": [
       "<Figure size 432x288 with 1 Axes>"
      ]
     },
     "metadata": {
      "needs_background": "light"
     },
     "output_type": "display_data"
    }
   ],
   "source": [
    "# this tells python to plot vectors x and y with blue `b` and x, z with `r` red.\n",
    "plt.plot(x,y,'b', x,z,'r')\n",
    "plt.xlabel('Radians');\n",
    "plt.ylabel('Value');\n",
    "plt.title('Plotting Demonstration')\n",
    "plt.legend(['Sin', 'Cos'])\n",
    "plt.grid()"
   ]
  },
  {
   "cell_type": "markdown",
   "metadata": {},
   "source": [
    "Let's now plot y and z "
   ]
  },
  {
   "cell_type": "code",
   "execution_count": 42,
   "metadata": {},
   "outputs": [
    {
     "data": {
      "text/plain": [
       "(-1.09972447591003,\n",
       " 1.0979832896606587,\n",
       " -1.0992804688576738,\n",
       " 1.0999657366122702)"
      ]
     },
     "execution_count": 42,
     "metadata": {},
     "output_type": "execute_result"
    },
    {
     "data": {
      "image/png": "[encoded data removed]",
      "text/plain": [
       "<Figure size 432x288 with 1 Axes>"
      ]
     },
     "metadata": {
      "needs_background": "light"
     },
     "output_type": "display_data"
    }
   ],
   "source": [
    "plt.plot(y,z)\n",
    "plt.axis('equal')"
   ]
  },
  {
   "cell_type": "markdown",
   "metadata": {},
   "source": [
    "Let's plot sine and cosine separately."
   ]
  },
  {
   "cell_type": "code",
   "execution_count": 43,
   "metadata": {},
   "outputs": [
    {
     "data": {
      "text/plain": [
       "Text(0.5, 1.0, 'Cos(x)')"
      ]
     },
     "execution_count": 43,
     "metadata": {},
     "output_type": "execute_result"
    },
    {
     "data": {
      "image/png": "[encoded data removed]",
      "text/plain": [
       "<Figure size 432x288 with 2 Axes>"
      ]
     },
     "metadata": {
      "needs_background": "light"
     },
     "output_type": "display_data"
    }
   ],
   "source": [
    "# this creates two windows to plot\n",
    "plt.subplot(2,1,1)\n",
    "plt.plot(x,y)\n",
    "plt.title('Sin(x)')\n",
    "\n",
    "plt.subplot(2,1,2)\n",
    "plt.plot(x,z)\n",
    "plt.title('Cos(x)')"
   ]
  },
  {
   "cell_type": "markdown",
   "metadata": {},
   "source": [
    "## 7. Solve Equations using Sympy Library\n",
    "One of the best features of Python is the ability to extend its functionality by importing special purpose libraries of functions. Here we demonstrate the use of a symbolic algebra package `sympy` for routine proble solving."
   ]
  },
  {
   "cell_type": "code",
   "execution_count": 44,
   "metadata": {},
   "outputs": [
    {
     "name": "stdout",
     "output_type": "stream",
     "text": [
      "85521.9882637211/V\n"
     ]
    },
    {
     "data": {
      "image/png": "[encoded data removed]",
      "text/plain": [
       "<Figure size 432x288 with 1 Axes>"
      ]
     },
     "metadata": {
      "needs_background": "light"
     },
     "output_type": "display_data"
    },
    {
     "data": {
      "text/plain": [
       "<sympy.plotting.plot.Plot at 0x7f80d7f71518>"
      ]
     },
     "execution_count": 44,
     "metadata": {},
     "output_type": "execute_result"
    }
   ],
   "source": [
    "# importing the library as sym\n",
    "import sympy as sym\n",
    "\n",
    "sym.var('P V n R T')\n",
    "\n",
    "# gas constant\n",
    "R = 8.314        # J/K/gmol\n",
    "R = R * 1000     # J/K/kgmol\n",
    "\n",
    "# Moles of air\n",
    "mAir = 1         # kg\n",
    "mwAir = 28.97    # kg/kg-mol\n",
    "n = mAir/mwAir   # kg-mol\n",
    "\n",
    "# Temperature\n",
    "T = 298\n",
    "\n",
    "# Equation\n",
    "eqn = sym.Eq(P*V,n*R*T)\n",
    "\n",
    "# Solve for P \n",
    "f = sym.solve(eqn,P)\n",
    "print(f[0])\n",
    "\n",
    "# Use the sympy plot function to plot\n",
    "sym.plot(f[0],(V,1,10),xlabel='Volume m**3',ylabel='Pressure Pa')"
   ]
  },
  {
   "cell_type": "code",
   "execution_count": null,
   "metadata": {},
   "outputs": [],
   "source": []
  }
 ],
 "metadata": {
  "kernelspec": {
   "display_name": "Python 3",
   "language": "python",
   "name": "python3"
  },
  "language_info": {
   "codemirror_mode": {
    "name": "ipython",
    "version": 3
   },
   "file_extension": ".py",
   "mimetype": "text/x-python",
   "name": "python",
   "nbconvert_exporter": "python",
   "pygments_lexer": "ipython3",
   "version": "3.7.3"
  }
 },
 "nbformat": 4,
 "nbformat_minor": 2
}
